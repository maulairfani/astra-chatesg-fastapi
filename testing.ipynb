{
 "cells": [
  {
   "cell_type": "markdown",
   "metadata": {},
   "source": [
    "# Testing ChatESG"
   ]
  },
  {
   "cell_type": "code",
   "execution_count": 2,
   "metadata": {},
   "outputs": [],
   "source": [
    "import requests\n",
    "import json\n",
    "import pandas as pd\n",
    "import ast\n",
    "from tqdm import tqdm"
   ]
  },
  {
   "cell_type": "code",
   "execution_count": 3,
   "metadata": {},
   "outputs": [
    {
     "data": {
      "text/plain": [
       "(b'{\"status\":\"OK\"}', 'http://localhost:8000')"
      ]
     },
     "execution_count": 3,
     "metadata": {},
     "output_type": "execute_result"
    }
   ],
   "source": [
    "TEST_UID = \"#test-uid\"\n",
    "MODE = \"local\"\n",
    "\n",
    "if MODE==\"local\":\n",
    "    base_url = 'http://localhost:8000'\n",
    "\n",
    "# Health check\n",
    "requests.get(f\"{base_url}/health\").content, base_url"
   ]
  },
  {
   "cell_type": "markdown",
   "metadata": {},
   "source": [
    "### Chat"
   ]
  },
  {
   "cell_type": "code",
   "execution_count": 4,
   "metadata": {},
   "outputs": [
    {
     "name": "stdout",
     "output_type": "stream",
     "text": [
      "Chunk received: {'done': False, 'tools': ['Mengambil informasi relevan dari laporan keberlanjutan'], 'responses': [], 'sources': None, 'bsid': '23cae85c665c452ab27a', 'bcid': 'c423f347-5cb2-4624-91a9-8422f0531f4d', 'metadata': None}\n"
     ]
    },
    {
     "ename": "ChunkedEncodingError",
     "evalue": "Response ended prematurely",
     "output_type": "error",
     "traceback": [
      "\u001b[1;31m---------------------------------------------------------------------------\u001b[0m",
      "\u001b[1;31mProtocolError\u001b[0m                             Traceback (most recent call last)",
      "File \u001b[1;32mc:\\Users\\maula\\Desktop\\Skripsi\\chat-esg\\env\\lib\\site-packages\\requests\\models.py:820\u001b[0m, in \u001b[0;36mResponse.iter_content.<locals>.generate\u001b[1;34m()\u001b[0m\n\u001b[0;32m    819\u001b[0m \u001b[38;5;28;01mtry\u001b[39;00m:\n\u001b[1;32m--> 820\u001b[0m     \u001b[38;5;28;01myield from\u001b[39;00m \u001b[38;5;28mself\u001b[39m\u001b[38;5;241m.\u001b[39mraw\u001b[38;5;241m.\u001b[39mstream(chunk_size, decode_content\u001b[38;5;241m=\u001b[39m\u001b[38;5;28;01mTrue\u001b[39;00m)\n\u001b[0;32m    821\u001b[0m \u001b[38;5;28;01mexcept\u001b[39;00m ProtocolError \u001b[38;5;28;01mas\u001b[39;00m e:\n",
      "File \u001b[1;32mc:\\Users\\maula\\Desktop\\Skripsi\\chat-esg\\env\\lib\\site-packages\\urllib3\\response.py:1063\u001b[0m, in \u001b[0;36mHTTPResponse.stream\u001b[1;34m(self, amt, decode_content)\u001b[0m\n\u001b[0;32m   1062\u001b[0m \u001b[38;5;28;01mif\u001b[39;00m \u001b[38;5;28mself\u001b[39m\u001b[38;5;241m.\u001b[39mchunked \u001b[38;5;129;01mand\u001b[39;00m \u001b[38;5;28mself\u001b[39m\u001b[38;5;241m.\u001b[39msupports_chunked_reads():\n\u001b[1;32m-> 1063\u001b[0m     \u001b[38;5;28;01myield from\u001b[39;00m \u001b[38;5;28mself\u001b[39m\u001b[38;5;241m.\u001b[39mread_chunked(amt, decode_content\u001b[38;5;241m=\u001b[39mdecode_content)\n\u001b[0;32m   1064\u001b[0m \u001b[38;5;28;01melse\u001b[39;00m:\n",
      "File \u001b[1;32mc:\\Users\\maula\\Desktop\\Skripsi\\chat-esg\\env\\lib\\site-packages\\urllib3\\response.py:1219\u001b[0m, in \u001b[0;36mHTTPResponse.read_chunked\u001b[1;34m(self, amt, decode_content)\u001b[0m\n\u001b[0;32m   1218\u001b[0m \u001b[38;5;28;01mwhile\u001b[39;00m \u001b[38;5;28;01mTrue\u001b[39;00m:\n\u001b[1;32m-> 1219\u001b[0m     \u001b[38;5;28;43mself\u001b[39;49m\u001b[38;5;241;43m.\u001b[39;49m\u001b[43m_update_chunk_length\u001b[49m\u001b[43m(\u001b[49m\u001b[43m)\u001b[49m\n\u001b[0;32m   1220\u001b[0m     \u001b[38;5;28;01mif\u001b[39;00m \u001b[38;5;28mself\u001b[39m\u001b[38;5;241m.\u001b[39mchunk_left \u001b[38;5;241m==\u001b[39m \u001b[38;5;241m0\u001b[39m:\n",
      "File \u001b[1;32mc:\\Users\\maula\\Desktop\\Skripsi\\chat-esg\\env\\lib\\site-packages\\urllib3\\response.py:1149\u001b[0m, in \u001b[0;36mHTTPResponse._update_chunk_length\u001b[1;34m(self)\u001b[0m\n\u001b[0;32m   1147\u001b[0m \u001b[38;5;28;01melse\u001b[39;00m:\n\u001b[0;32m   1148\u001b[0m     \u001b[38;5;66;03m# Truncated at start of next chunk\u001b[39;00m\n\u001b[1;32m-> 1149\u001b[0m     \u001b[38;5;28;01mraise\u001b[39;00m ProtocolError(\u001b[38;5;124m\"\u001b[39m\u001b[38;5;124mResponse ended prematurely\u001b[39m\u001b[38;5;124m\"\u001b[39m) \u001b[38;5;28;01mfrom\u001b[39;00m \u001b[38;5;28;01mNone\u001b[39;00m\n",
      "\u001b[1;31mProtocolError\u001b[0m: Response ended prematurely",
      "\nDuring handling of the above exception, another exception occurred:\n",
      "\u001b[1;31mChunkedEncodingError\u001b[0m                      Traceback (most recent call last)",
      "Cell \u001b[1;32mIn[4], line 20\u001b[0m\n\u001b[0;32m      6\u001b[0m chat_payload \u001b[38;5;241m=\u001b[39m {\n\u001b[0;32m      7\u001b[0m     \u001b[38;5;124m\"\u001b[39m\u001b[38;5;124msrc\u001b[39m\u001b[38;5;124m\"\u001b[39m: \u001b[38;5;124m\"\u001b[39m\u001b[38;5;124mskripsi\u001b[39m\u001b[38;5;124m\"\u001b[39m,\n\u001b[0;32m      8\u001b[0m     \u001b[38;5;124m\"\u001b[39m\u001b[38;5;124mmodel\u001b[39m\u001b[38;5;124m\"\u001b[39m: \u001b[38;5;124m\"\u001b[39m\u001b[38;5;124mgpt-4o-mini\u001b[39m\u001b[38;5;124m\"\u001b[39m,\n\u001b[1;32m   (...)\u001b[0m\n\u001b[0;32m     16\u001b[0m     \u001b[38;5;66;03m# \"reference_contexts\": '305-5'\u001b[39;00m\n\u001b[0;32m     17\u001b[0m }\n\u001b[0;32m     19\u001b[0m response \u001b[38;5;241m=\u001b[39m requests\u001b[38;5;241m.\u001b[39mpost(\u001b[38;5;124mf\u001b[39m\u001b[38;5;124m\"\u001b[39m\u001b[38;5;132;01m{\u001b[39;00mbase_url\u001b[38;5;132;01m}\u001b[39;00m\u001b[38;5;124m/api/v1/chat\u001b[39m\u001b[38;5;124m\"\u001b[39m, headers\u001b[38;5;241m=\u001b[39mheaders_chat, data\u001b[38;5;241m=\u001b[39mjson\u001b[38;5;241m.\u001b[39mdumps(chat_payload), stream\u001b[38;5;241m=\u001b[39m\u001b[38;5;28;01mTrue\u001b[39;00m)\n\u001b[1;32m---> 20\u001b[0m \u001b[38;5;28;01mfor\u001b[39;00m line \u001b[38;5;129;01min\u001b[39;00m response\u001b[38;5;241m.\u001b[39miter_lines():\n\u001b[0;32m     21\u001b[0m     \u001b[38;5;28;01mif\u001b[39;00m line:\n\u001b[0;32m     22\u001b[0m         chunk \u001b[38;5;241m=\u001b[39m json\u001b[38;5;241m.\u001b[39mloads(line\u001b[38;5;241m.\u001b[39mdecode(\u001b[38;5;124m'\u001b[39m\u001b[38;5;124mutf-8\u001b[39m\u001b[38;5;124m'\u001b[39m))\n",
      "File \u001b[1;32mc:\\Users\\maula\\Desktop\\Skripsi\\chat-esg\\env\\lib\\site-packages\\requests\\models.py:869\u001b[0m, in \u001b[0;36mResponse.iter_lines\u001b[1;34m(self, chunk_size, decode_unicode, delimiter)\u001b[0m\n\u001b[0;32m    860\u001b[0m \u001b[38;5;250m\u001b[39m\u001b[38;5;124;03m\"\"\"Iterates over the response data, one line at a time.  When\u001b[39;00m\n\u001b[0;32m    861\u001b[0m \u001b[38;5;124;03mstream=True is set on the request, this avoids reading the\u001b[39;00m\n\u001b[0;32m    862\u001b[0m \u001b[38;5;124;03mcontent at once into memory for large responses.\u001b[39;00m\n\u001b[0;32m    863\u001b[0m \n\u001b[0;32m    864\u001b[0m \u001b[38;5;124;03m.. note:: This method is not reentrant safe.\u001b[39;00m\n\u001b[0;32m    865\u001b[0m \u001b[38;5;124;03m\"\"\"\u001b[39;00m\n\u001b[0;32m    867\u001b[0m pending \u001b[38;5;241m=\u001b[39m \u001b[38;5;28;01mNone\u001b[39;00m\n\u001b[1;32m--> 869\u001b[0m \u001b[38;5;28;01mfor\u001b[39;00m chunk \u001b[38;5;129;01min\u001b[39;00m \u001b[38;5;28mself\u001b[39m\u001b[38;5;241m.\u001b[39miter_content(\n\u001b[0;32m    870\u001b[0m     chunk_size\u001b[38;5;241m=\u001b[39mchunk_size, decode_unicode\u001b[38;5;241m=\u001b[39mdecode_unicode\n\u001b[0;32m    871\u001b[0m ):\n\u001b[0;32m    872\u001b[0m     \u001b[38;5;28;01mif\u001b[39;00m pending \u001b[38;5;129;01mis\u001b[39;00m \u001b[38;5;129;01mnot\u001b[39;00m \u001b[38;5;28;01mNone\u001b[39;00m:\n\u001b[0;32m    873\u001b[0m         chunk \u001b[38;5;241m=\u001b[39m pending \u001b[38;5;241m+\u001b[39m chunk\n",
      "File \u001b[1;32mc:\\Users\\maula\\Desktop\\Skripsi\\chat-esg\\env\\lib\\site-packages\\requests\\models.py:822\u001b[0m, in \u001b[0;36mResponse.iter_content.<locals>.generate\u001b[1;34m()\u001b[0m\n\u001b[0;32m    820\u001b[0m     \u001b[38;5;28;01myield from\u001b[39;00m \u001b[38;5;28mself\u001b[39m\u001b[38;5;241m.\u001b[39mraw\u001b[38;5;241m.\u001b[39mstream(chunk_size, decode_content\u001b[38;5;241m=\u001b[39m\u001b[38;5;28;01mTrue\u001b[39;00m)\n\u001b[0;32m    821\u001b[0m \u001b[38;5;28;01mexcept\u001b[39;00m ProtocolError \u001b[38;5;28;01mas\u001b[39;00m e:\n\u001b[1;32m--> 822\u001b[0m     \u001b[38;5;28;01mraise\u001b[39;00m ChunkedEncodingError(e)\n\u001b[0;32m    823\u001b[0m \u001b[38;5;28;01mexcept\u001b[39;00m DecodeError \u001b[38;5;28;01mas\u001b[39;00m e:\n\u001b[0;32m    824\u001b[0m     \u001b[38;5;28;01mraise\u001b[39;00m ContentDecodingError(e)\n",
      "\u001b[1;31mChunkedEncodingError\u001b[0m: Response ended prematurely"
     ]
    }
   ],
   "source": [
    "headers_chat = {\n",
    "    \"Content-Type\": \"application/json\",\n",
    "    \"test-uid\": TEST_UID\n",
    "}\n",
    "\n",
    "chat_payload = {\n",
    "    \"src\": \"skripsi\",\n",
    "    \"model\": \"gpt-4o-mini\",\n",
    "    # \"model\": 'climategpt-13b',\n",
    "    # \"bsid\": \"7f79f395c3564549be52\",\n",
    "    \"retriever\": 'similarity',\n",
    "    \"top_k\": 4,\n",
    "    \"inputs\": [\n",
    "        {\"type\": \"text\", \"role\": \"user\", \"content\": \"Berapakah total persentase pengurangan emisi gas rumah kaca  yang dihasilkan tahun 2022?\"}\n",
    "    ],\n",
    "    # \"reference_contexts\": '305-5'\n",
    "}\n",
    "\n",
    "response = requests.post(f\"{base_url}/api/v1/chat\", headers=headers_chat, data=json.dumps(chat_payload), stream=True)\n",
    "for line in response.iter_lines():\n",
    "    if line:\n",
    "        chunk = json.loads(line.decode('utf-8'))\n",
    "        print(\"Chunk received:\", chunk)\n",
    "chunk"
   ]
  },
  {
   "cell_type": "markdown",
   "metadata": {},
   "source": [
    "### Retrieval"
   ]
  },
  {
   "cell_type": "code",
   "execution_count": 70,
   "metadata": {},
   "outputs": [
    {
     "data": {
      "text/plain": [
       "{'contents': [{'id': None,\n",
       "   'metadata': {'company': 'PT Astra International Tbk',\n",
       "    'disclosed_gri': ['405-1'],\n",
       "    'page': 114.0,\n",
       "    'ticker': 'ASII',\n",
       "    'year': 2022.0},\n",
       "   'page_content': \"## Woman Leaders Program\\n\\nSepanjang tahun 2023, Astra melaksanakan sejumlah aktivitas untuk memperkuat keberagaman dan inklusi yang sejalan dengan Astra 2030 Sustainability Aspirations, seperti:\\n\\nThroughout 2023, Astra carried out numerous acitivities to strengthen diversity and inclusion in line with the Astra 2030 Sustainability Aspirations, namely:\\n\\n## DIVERSITY & INCLUSION FOR LEADERS\\n\\n## IGNITE THE IMPACT OF WOMEN LEADERS\\n\\n23 batch dengan total 605 peserta manajemen eksekutif dari 94 perusahaan Grup Astra\\n\\n23 batch with 605 participants from 94 companies across Astra Group\\n\\n## ASTRA WOMEN SUPPORT SYSTEM\\n\\n22 sesi mentoring dengan 11 eksekutif wanita dari 11 perusahaan\\n\\n22 mentoring sessions covering 11 women executives from 11 companies\\n\\nBRANDING & EDUCATIONAL CONTENTS\\n\\n7 aktivitas branding yang mencakup 4 konten edukasional & 3 konten kolaboratif\\n\\n7 branding activities that consists of 4 educational content & 3 collaborative content\\n\\n<!-- image -->\\n\\n<!-- image -->\\n\\n## [GRI 405-1]\\n\\n## Keberagaman Badan Tata Kelola Diversity of Governance Bodies\\n\\n| Dewan Komisaris                      | 2021      | 2021          | 2021   | 2022      | 2022          | 2022   | 2023      | 2023          | 2023   |\\n|--------------------------------------|-----------|---------------|--------|-----------|---------------|--------|-----------|---------------|--------|\\n| Board of Commissioners               | Pria Male | Wanita Female | Total  | Pria Male | Wanita Female | Total  | Pria Male | Wanita Female | Total  |\\n| Di bawah 30 tahun Under 30 years old | 0         | 0             | 0      | 0         | 0             | 0      | 0         | 0             | 0      |\\n| 30-50 tahun 30-50 years old          | 3         | 0             | 3      | 3         | 0             | 3      | 1         | 0             | 1      |\\n| Di atas 50 tahun Over 50 years old   | 6         | 1             | 7      | 6         | 1             | 7      | 8         | 1             | 9      |\\n| Subtotal                             | 9         | 1             | 10     | 9         | 1             | 10     | 9         | 1             | 10     |\\n| Persentase Percentage                | 90%       | 10%           |        | 90%       | 10%           |        | 90%       | 10%           |        |\\n\\nKeterangan | Note:\\n\\nData pada tabel di atas adalah data Dewan Komisaris di kantor pusat PT Astra International Tbk\\n\\nThe data in the table above is the data of the Board of Commissioners at the head office of PT Astra International Tbk\\n\\n| Direksi                              | 2021      | 2021          | 2021   | 2022      | 2022          | 2022   | 2023      | 2023          | 2023   |\\n|--------------------------------------|-----------|---------------|--------|-----------|---------------|--------|-----------|---------------|--------|\\n| Board of Directors                   | Pria Male | Wanita Female | Total  | Pria Male | Wanita Female | Total  | Pria Male | Wanita Female | Total  |\\n| Di bawah 30 tahun Under 30 years old | 0         | 0             | 0      | 0         | 0             | 0      | 0         | 0             | 0      |\\n| 30-50 tahun 30-50 years old          | 1         | 0             | 1      | 0         | 0             | 1      | 0         | 0             | 0      |\\n| Di atas 50 tahun Over 50 years old   | 7         | 1             | 8      | 9         | 1             | 10     | 9         | 1             | 10     |\\n| Subtotal                             | 8         | 1             | 9      | 9         | 1             | 10     | 9         | 1             | 10     |\\n| Persentase Percentage                | 88.89%    | 11.11%        |        | 90%       | 10%           |        | 90%       | 10%           |        |\\n\\nKeterangan | Note:\\n\\nData pada tabel di atas adalah data Direksi di kantor pusat PT Astra International Tbk\\n\\nThe data in the table above is the data of the Board of Directors at the head office of PT Astra International Tbk\\n\\n1 sesi pembelajaran dengan 11 peserta dari 8 perusahaan 1 learning session with 11 participants from 8 companies\\n\\n## SISTEAHOOD, FEMINASTRA, & ASTRA WOMEN'S NETWORK\\n\\n3 sesi networking dengan 165 peserta dari 59 perusahaan 3 networking sessions with 165 participants from 59 companies\\n\\nASTRA CAREER MEET UP\\n\\n2 sesi bersama 5 eksekutif wanita selaku narasumber 2 sessions with 5 women executives as speakers\\n\\n<!-- image -->\",\n",
       "   'type': 'Document'},\n",
       "  {'id': None,\n",
       "   'metadata': {'company': 'PT Astra International Tbk',\n",
       "    'disclosed_gri': ['405-1', '413-1', '3-3', '413-2', '405-2'],\n",
       "    'page': 195.0,\n",
       "    'ticker': 'ASII',\n",
       "    'year': 2022.0},\n",
       "   'page_content': '|                                                                                                 |                                                                                         |                                                                                                                                                                                                                                                                                                                                                                                                           |                                                                                         | Hal yang Tidak Dicantumkan |  Omission                                                  | Hal yang Tidak Dicantumkan |  Omission                                                  | Hal yang Tidak Dicantumkan |  Omission                                                                                                                                                                                                                                                                                 |                                                                                         |\\n|-------------------------------------------------------------------------------------------------|-----------------------------------------------------------------------------------------|-----------------------------------------------------------------------------------------------------------------------------------------------------------------------------------------------------------------------------------------------------------------------------------------------------------------------------------------------------------------------------------------------------------|-----------------------------------------------------------------------------------------|-----------------------------------------------------------------------------------------|-----------------------------------------------------------------------------------------|------------------------------------------------------------------------------------------------------------------------------------------------------------------------------------------------------------------------------------------------------------------------------------------------------------------------|-----------------------------------------------------------------------------------------|\\n| GRI Standard                                                                                    |                                                                                         | Pengungkapan Disclosure                                                                                                                                                                                                                                                                                                                                                                                   | Lokasi Location                                                                         | Persyaratan  Omission Requirement(s)  Omitted                                           | Alasan Reason                                                                           | Penjelasan Explanation                                                                                                                                                                                                                                                                                                 | GRI  Sector  Standard  Ref. No.                                                         |\\n| Keanekaragaman dan Kesempatan yang Setara | Diversity and Equal Opportunity (PEOPLE #2)         | Keanekaragaman dan Kesempatan yang Setara | Diversity and Equal Opportunity (PEOPLE #2) | Keanekaragaman dan Kesempatan yang Setara | Diversity and Equal Opportunity (PEOPLE #2)                                                                                                                                                                                                                                                                                                                   | Keanekaragaman dan Kesempatan yang Setara | Diversity and Equal Opportunity (PEOPLE #2) | Keanekaragaman dan Kesempatan yang Setara | Diversity and Equal Opportunity (PEOPLE #2) | Keanekaragaman dan Kesempatan yang Setara | Diversity and Equal Opportunity (PEOPLE #2) | Keanekaragaman dan Kesempatan yang Setara | Diversity and Equal Opportunity (PEOPLE #2)                                                                                                                                                                                                                                | Keanekaragaman dan Kesempatan yang Setara | Diversity and Equal Opportunity (PEOPLE #2) |\\n| GRI 3:  Topik Material  2021 Material Topics  2021                                              | 3-3                                                                                     | Pengelolaan topik-topik  material Management of  material topics                                                                                                                                                                                                                                                                                                                                          | 45; 62; 63                                                                              |                                                                                         |                                                                                         |                                                                                                                                                                                                                                                                                                                        |                                                                                         |\\n| GRI 405:  Keberagaman  dan Kesempatan  yang Setara 2016 Diversity  and Equal  Opportunity  2016 | 405-1                                                                                   | Keanekaragaman  badan tata kelola dan  karyawan  Diversity of governance  bodies and employees                                                                                                                                                                                                                                                                                                            | 112                                                                                     |                                                                                         |                                                                                         |                                                                                                                                                                                                                                                                                                                        |                                                                                         |\\n|                                                                                                 | 405-2                                                                                   | Rasio gaji pokok dan  remunerasi perempuan  dibandingkan laki-laki  Ratio of basic salary and  remuneration of women  to men                                                                                                                                                                                                                                                                              | -                                                                                       | 405-2 (a)                                                                               | Batasan kerahasiaan Confidentiality  constraints                                        | Berisi informasi rahasia  termasuk data sensitif  atau pribadi yang tidak  dimaksudkan untuk  diungkapkan kepada  publik atau individu yang  tidak berwenang Contains confidential  information includes any  sensitive or private data  that is not meant to be  disclosed to the public or  unauthorized individuals |                                                                                         |\\n| Masyarakat Lokal | Local Communities (PUBLIC CONTRIBUTION #1)                                   | Masyarakat Lokal | Local Communities (PUBLIC CONTRIBUTION #1)                           | Masyarakat Lokal | Local Communities (PUBLIC CONTRIBUTION #1)                                                                                                                                                                                                                                                                                                                                             | Masyarakat Lokal | Local Communities (PUBLIC CONTRIBUTION #1)                           | Masyarakat Lokal | Local Communities (PUBLIC CONTRIBUTION #1)                           | Masyarakat Lokal | Local Communities (PUBLIC CONTRIBUTION #1)                           | Masyarakat Lokal | Local Communities (PUBLIC CONTRIBUTION #1)                                                                                                                                                                                                                                                          | Masyarakat Lokal | Local Communities (PUBLIC CONTRIBUTION #1)                           |\\n| GRI 3:  Topik Material  2021 Material Topics  2021                                              | 3-3                                                                                     | Pengelolaan topik-topik  material Management of  material topics                                                                                                                                                                                                                                                                                                                                          | 45; 62; 63;  131                                                                        |                                                                                         |                                                                                         |                                                                                                                                                                                                                                                                                                                        |                                                                                         |\\n| GRI 413:  Masyarakat Lokal  2016 Local  Communities  2016                                       | 413-1                                                                                   | Operasi dengan  keterlibatan masyarakat  lokal, penilaian  dampak dan program  pengembangan Operations with  local community  engagement, impact  assessments and  development programs 413-2 Operasi yang secara  aktual dan yang  berpotensi memiliki  dampak negatif  signifikan terhadap  masyarakat lokal Operations with  significant actual and  potential negative  impacts on local  communities | 131; 140 -                                                                              | 413-2 (a)                                                                               | Informasi  belum tersedia Information  unavailable                                      | Astra masih memastikan kemungkinan dan  sejauh mana dampak  negatif dari program  pengembangan  masyarakat dapat  ditimbulkan bagi  penerima manfaat Astra is still ensuring  the possibility and to  what extent should any                                                                                           |                                                                                         |\\n\\n| GRI 3:          | 3-3   | Pengelolaan topik-topik   |\\n|-----------------|-------|---------------------------|\\n| Topik Material  |       | material                  |\\n| 2021            |       | Management of             |\\n| Material Topics |       | material topics           |\\n| 2021            |       |                           |',\n",
       "   'type': 'Document'}],\n",
       " 'metadata': {'indicators': ['405-1'],\n",
       "  'raw_indicators': {'indicator': 'GRI 405-1'},\n",
       "  'url': 'https://www.astra.co.id/'}}"
      ]
     },
     "execution_count": 70,
     "metadata": {},
     "output_type": "execute_result"
    }
   ],
   "source": [
    "headers = {\n",
    "    \"Content-Type\": \"application/json\",\n",
    "    \"test-uid\": TEST_UID\n",
    "}\n",
    "\n",
    "payload = {\n",
    "    \"query\": \"Berapa jumlah karyawan perusahaan berdasarkan gender?\",\n",
    "    \"filter\": {\"company\": \"PT Astra International Tbk\", \"year\": 2022},\n",
    "    \"mode\": \"indicator-cls\",\n",
    "    \"top_k\": 4,\n",
    "    \"model\": \"gpt-4o-mini\"\n",
    "}\n",
    "\n",
    "response = requests.post(f\"{base_url}/api/v1/retrieval\", headers=headers, data=json.dumps(payload))\n",
    "json.loads(response.content.decode('utf-8'))"
   ]
  },
  {
   "cell_type": "markdown",
   "metadata": {},
   "source": [
    "### User Feedback"
   ]
  },
  {
   "cell_type": "code",
   "execution_count": 11,
   "metadata": {},
   "outputs": [
    {
     "data": {
      "text/plain": [
       "b'{\"thumbs_up\":true}'"
      ]
     },
     "execution_count": 11,
     "metadata": {},
     "output_type": "execute_result"
    }
   ],
   "source": [
    "headers = {\n",
    "    \"Content-Type\": \"application/json\",\n",
    "    \"test-uid\": \"ajIzUGb4SYgAfha9L6WtqSHsmyL2\"\n",
    "}\n",
    "\n",
    "payload = {\n",
    "    \"src\": \"app\",\n",
    "    \"bsid\": \"5ca389207f8146739f97\",\n",
    "    \"bcid\": \"93167ff5-3d4d-49bc-91fc-2eae260ac4b6\",\n",
    "    \"thumbs_up\": True,\n",
    "}\n",
    "\n",
    "response = requests.post(f\"{base_url}/api/v1/feedback\", headers=headers, data=json.dumps(payload))\n",
    "response.content"
   ]
  },
  {
   "cell_type": "markdown",
   "metadata": {},
   "source": [
    "### Generation Evaluation"
   ]
  },
  {
   "cell_type": "code",
   "execution_count": 6,
   "metadata": {},
   "outputs": [],
   "source": [
    "response_text=\"\"\"\n",
    "Berdasarkan laporan keberlanjutan PT Astra International Tbk tahun 2022, berikut adalah asosiasi industri, asosiasi keanggotaan lain, serta organisasi advokasi nasional atau internasional yang diikuti oleh Astra, di mana organisasi tersebut memiliki peran penting:\n",
    "\n",
    "### Asosiasi Industri:\n",
    "1. **Asosiasi Industri Sepeda Motor Indonesia (AISI)**\n",
    "2. **Gabungan Industri Alat Mobil dan Motor (GIAMM)**\n",
    "3. **Gabungan Industri Kendaraan Bermotor Indonesia (GAIKINDO)**\n",
    "4. **Asosiasi Asuransi Jiwa Indonesia (AAJI)**\n",
    "5. **Asosiasi Asuransi Syariah Indonesia (AASI)**\n",
    "6. **Asosiasi Asuransi Umum Indonesia (AAUI)**\n",
    "7. **Asosiasi Jasa Konstruksi Nasional (GAPENSI)**\n",
    "8. **Asosiasi Kontraktor Indonesia (AKI)**\n",
    "9. **Perhimpunan Agen Alat Berat Indonesia (PAABI)**\n",
    "10. **Gabungan Perusahaan Kelapa Sawit Indonesia (GAPKI)**\n",
    "11. **Himpunan Masyarakat Gambut Indonesia (HGI)**\n",
    "12. **Asosiasi Jalan Tol Indonesia (ATI)**\n",
    "13. **Asosiasi Logistik & Forwarder Indonesia (ALFI)**\n",
    "14. **Asosiasi Perusahaan Rental Kendaraan Indonesia (ASPERKINDO)**\n",
    "15. **Indonesian National Shipowners' Association (INSA)**\n",
    "16. **Persatuan Balai Lelang Indonesia (PERBALI)**\n",
    "17. **Asosiasi Industri Teknologi Informasi (AITI)**\n",
    "18. **Asosiasi Pengusaha Komputer Indonesia (APKOMINDO)**\n",
    "19. **Asosiasi Emiten Indonesia (AEI)**\n",
    "20. **Asosiasi Pengusaha Indonesia (APINDO)**\n",
    "21. **Kamar Dagang dan Industri Indonesia (KADIN)**\n",
    "\n",
    "### Organisasi Advokasi dan Konsorsium:\n",
    "1. **Forum Kemitraan Pembangunan Sosial Suku Anak Dalam (FKPSAD)**\n",
    "2. **Konsorsium Genom Seluruh Indonesia**\n",
    "3. **Palm Oil Genome Oil Project**\n",
    "\n",
    "### Keanggotaan Lain:\n",
    "1. **Asosiasi Perusahaan Perdagangan Barang Distributor, Keagenan dan Industri Indonesia (ARDIN INDONESIA)**\n",
    "2. **Asosiasi Perusahaan Pengadaan Komputer dan Telematika Indonesia (ASPEKMI)**\n",
    "3. **Ikatan Akuntan Indonesia (IAI)**\n",
    "4. **Indonesia Corporate Secretary Association (ICSA)**\n",
    "\n",
    "Keterlibatan Astra dalam berbagai asosiasi ini menunjukkan komitmennya untuk berkolaborasi dan berkontribusi dalam pengembangan industri serta advokasi isu-isu yang relevan di tingkat nasional dan internasional.\n",
    "\"\"\"\n",
    "reference_text=\"\"\"\n",
    "PT Astra International aktif terlibat dalam berbagai asosiasi industri dan organisasi, antara lain:\n",
    "\n",
    "1. **Asosiasi Industri:**\n",
    "   - Asosiasi Industri Sepeda Motor Indonesia (AISI)\n",
    "   - Gabungan Industri Alat Mobil dan Motor (GIAMM)\n",
    "   - Gabungan Industri Kendaraan Bermotor Indonesia (GAIKINDO)\n",
    "   - Gabungan Perusahaan Kelapa Sawit Indonesia (GAPKI)\n",
    "   - Asosiasi Jasa Konstruksi Nasional (GAPENSI)\n",
    "\n",
    "2. **Asosiasi Keanggotaan Lain:**\n",
    "   - Asosiasi Asuransi Jiwa Indonesia (AAJI)\n",
    "   - Asosiasi Asuransi Syariah Indonesia (AASI)\n",
    "   - Asosiasi Emiten Indonesia (AEI)\n",
    "   - Kamar Dagang dan Industri Indonesia (KADIN)\n",
    "\n",
    "3. **Organisasi Advokasi:**\n",
    "   - Forum Kemitraan Pembangunan Sosial Suku Anak Dalam (FKPSAD) / Orang Rimba Social Development Partnership Forum\n",
    "   - Konsorsium Genom Seluruh Indonesia\n",
    "   - Palm Oil Genome Oil Project\n",
    "\n",
    "Keterlibatan dalam organisasi-organisasi ini menunjukkan peran aktif Astra dalam membangun jaringan dan berkontribusi pada perkembangan industri serta advokasi sosial.\n",
    "\"\"\""
   ]
  },
  {
   "cell_type": "code",
   "execution_count": 7,
   "metadata": {},
   "outputs": [],
   "source": [
    "headers = {\n",
    "    \"Content-Type\": \"application/json\",\n",
    "    \"test-uid\": TEST_UID\n",
    "}\n",
    "\n",
    "payload = {\n",
    "    \"response\": response_text,\n",
    "    \"reference\": reference_text,\n",
    "}\n",
    "\n",
    "response = requests.post(f\"{base_url}/api/v1/eval/fc_metric\", headers=headers, data=json.dumps(payload))\n",
    "res_fc = json.loads(response.content.decode('utf-8'))\n",
    "res_fc"
   ]
  },
  {
   "cell_type": "code",
   "execution_count": 16,
   "metadata": {},
   "outputs": [
    {
     "data": {
      "text/plain": [
       "{'score': 0.308}"
      ]
     },
     "execution_count": 16,
     "metadata": {},
     "output_type": "execute_result"
    }
   ],
   "source": [
    "headers = {\n",
    "    \"Content-Type\": \"application/json\",\n",
    "    \"test-uid\": TEST_UID\n",
    "}\n",
    "\n",
    "payload = {\n",
    "    \"response\": response_text,\n",
    "    \"reference\": reference_text,\n",
    "    \"measure_type\": \"precision\"\n",
    "}\n",
    "\n",
    "response = requests.post(f\"{base_url}/api/v1/eval/rouge_metric\", headers=headers, data=json.dumps(payload))\n",
    "res_rouge = json.loads(response.content.decode('utf-8'))\n",
    "\n",
    "res_rouge"
   ]
  },
  {
   "cell_type": "markdown",
   "metadata": {},
   "source": [
    "### Retrieval Evaluation"
   ]
  },
  {
   "cell_type": "code",
   "execution_count": 91,
   "metadata": {},
   "outputs": [
    {
     "data": {
      "text/plain": [
       "({'score': 1.0}, {'score': 1.0})"
      ]
     },
     "execution_count": 91,
     "metadata": {},
     "output_type": "execute_result"
    }
   ],
   "source": [
    "headers = {\n",
    "    \"Content-Type\": \"application/json\",\n",
    "    \"test-uid\": TEST_UID\n",
    "}\n",
    "\n",
    "payload = {\n",
    "    \"retrieved_contexts\": [],\n",
    "    \"reference_contexts\": [],\n",
    "}\n",
    "\n",
    "response = requests.post(f\"{base_url}/api/v1/eval/precision_metric\", headers=headers, data=json.dumps(payload))\n",
    "precision = json.loads(response.content.decode('utf-8'))\n",
    "\n",
    "response = requests.post(f\"{base_url}/api/v1/eval/recall_metric\", headers=headers, data=json.dumps(payload))\n",
    "recall = json.loads(response.content.decode('utf-8'))\n",
    "\n",
    "precision, recall"
   ]
  },
  {
   "cell_type": "markdown",
   "metadata": {},
   "source": [
    "### Batch Evaluation"
   ]
  },
  {
   "cell_type": "code",
   "execution_count": 108,
   "metadata": {},
   "outputs": [],
   "source": [
    "data = pd.read_excel(\"data/Test Data v2.xlsx\")\n",
    "data['Pages'] = data['Pages'].apply(lambda x: ast.literal_eval(x))\n",
    "data['Indicator'] = data['Indicator'].apply(lambda x: x.strip())\n",
    "\n",
    "headers = {\n",
    "    \"Content-Type\": \"application/json\",\n",
    "    \"test-uid\": TEST_UID\n",
    "}"
   ]
  },
  {
   "cell_type": "markdown",
   "metadata": {},
   "source": [
    "#### Retrieval"
   ]
  },
  {
   "cell_type": "code",
   "execution_count": 93,
   "metadata": {},
   "outputs": [],
   "source": [
    "import json\n",
    "import logging\n",
    "from typing import List, Dict\n",
    "import pandas as pd\n",
    "import requests\n",
    "from tqdm import tqdm\n",
    "\n",
    "# Konfigurasi Logging\n",
    "logging.basicConfig(level=logging.INFO, format='%(asctime)s - %(levelname)s - %(message)s')\n",
    "\n",
    "# Definisi base_url, TEST_UID, dan headers\n",
    "base_url = 'http://localhost:8000'\n",
    "TEST_UID = \"#test-uid\"\n",
    "headers = {\n",
    "    \"Content-Type\": \"application/json\",\n",
    "    \"test-uid\": TEST_UID\n",
    "}\n",
    "\n",
    "# Fungsi untuk melakukan permintaan retrieval\n",
    "def retrieve_contexts(session: requests.Session, mode: str, payload: Dict) -> List[int]:\n",
    "    try:\n",
    "        response = session.post(f\"{base_url}/api/v1/retrieval\", headers=headers, json=payload)\n",
    "        response.raise_for_status()\n",
    "        result = response.json()\n",
    "        return [int(res['metadata']['page']) for res in result.get('contents', [])]\n",
    "    except requests.RequestException as e:\n",
    "        logging.error(f\"Request failed for mode {mode}: {e}\")\n",
    "        return []\n",
    "    except (KeyError, ValueError) as e:\n",
    "        logging.error(f\"Error parsing response for mode {mode}: {e}\")\n",
    "        return []\n",
    "\n",
    "# Fungsi untuk menghitung precision dan recall\n",
    "def calculate_metrics(session: requests.Session, reference_contexts: List[int], retrieved_contexts: List[int]) -> Dict[str, float]:\n",
    "    payload = {\n",
    "        \"retrieved_contexts\": retrieved_contexts,\n",
    "        \"reference_contexts\": reference_contexts,\n",
    "    }\n",
    "    metrics = {}\n",
    "    try:\n",
    "        # Hitung Precision\n",
    "        precision_response = session.post(\n",
    "            f\"{base_url}/api/v1/eval/precision_metric\",\n",
    "            headers=headers,\n",
    "            json=payload\n",
    "        )\n",
    "        precision_response.raise_for_status()\n",
    "        precision = precision_response.json().get('score', 0.0)\n",
    "        metrics['precision'] = precision\n",
    "\n",
    "        # Hitung Recall\n",
    "        recall_response = session.post(\n",
    "            f\"{base_url}/api/v1/eval/recall_metric\",\n",
    "            headers=headers,\n",
    "            json=payload\n",
    "        )\n",
    "        recall_response.raise_for_status()\n",
    "        recall = recall_response.json().get('score', 0.0)\n",
    "        metrics['recall'] = recall\n",
    "\n",
    "    except requests.RequestException as e:\n",
    "        logging.error(f\"Metrics calculation failed: {e}\")\n",
    "        metrics['precision'] = 0.0\n",
    "        metrics['recall'] = 0.0\n",
    "    except (KeyError, ValueError) as e:\n",
    "        logging.error(f\"Error parsing metrics response: {e}\")\n",
    "        metrics['precision'] = 0.0\n",
    "        metrics['recall'] = 0.0\n",
    "\n",
    "    return metrics\n",
    "\n",
    "# Fungsi utama untuk memproses data\n",
    "def process_data(data: pd.DataFrame) -> pd.DataFrame:\n",
    "    # Inisialisasi kolom baru di DataFrame\n",
    "    data['retrieved_similarity'] = [[] for _ in range(len(data))]\n",
    "    data['precision_similarity'] = 0.0\n",
    "    data['recall_similarity'] = 0.0\n",
    "\n",
    "    data['retrieved_indicator_cls'] = [[] for _ in range(len(data))]\n",
    "    data['precision_indicator_cls'] = 0.0\n",
    "    data['recall_indicator_cls'] = 0.0\n",
    "\n",
    "    data['retrieved_combination'] = [[] for _ in range(len(data))]\n",
    "    data['precision_combination'] = 0.0\n",
    "    data['recall_combination'] = 0.0\n",
    "\n",
    "    with requests.Session() as session:\n",
    "        for idx, row in tqdm(data.iterrows(), total=len(data), desc=\"Processing Rows\"):\n",
    "            question = row['Question']\n",
    "            reference_pages = row['Pages']  # Asumsikan ini adalah list atau iterable\n",
    "\n",
    "            # Definisikan payload untuk setiap mode\n",
    "            payload_similarity = {\n",
    "                \"query\": question,\n",
    "                \"filter\": {\"company\": \"PT Astra International Tbk\", \"year\": 2022},\n",
    "                \"mode\": \"similarity\",\n",
    "                \"top_k\": 4\n",
    "            }\n",
    "\n",
    "            payload_indicator_cls = {\n",
    "                \"query\": question,\n",
    "                \"filter\": {\"company\": \"PT Astra International Tbk\", \"year\": 2022},\n",
    "                \"mode\": \"indicator-cls\",\n",
    "                \"model\": \"gpt-4o-mini\"\n",
    "            }\n",
    "\n",
    "            payload_combination = {\n",
    "                \"query\": question,\n",
    "                \"filter\": {\"company\": \"PT Astra International Tbk\", \"year\": 2022},\n",
    "                \"mode\": \"combination\",\n",
    "                \"top_k\": 4,\n",
    "                \"model\": \"gpt-4o-mini\"\n",
    "            }\n",
    "\n",
    "            # Ambil konteks untuk setiap mode\n",
    "            sim = retrieve_contexts(session, \"similarity\", payload_similarity)\n",
    "            ind = retrieve_contexts(session, \"indicator-cls\", payload_indicator_cls)\n",
    "            com = retrieve_contexts(session, \"combination\", payload_combination)\n",
    "\n",
    "            # Simpan retrieved_contexts ke DataFrame\n",
    "            data.at[idx, 'retrieved_similarity'] = sim\n",
    "            data.at[idx, 'retrieved_indicator_cls'] = ind\n",
    "            data.at[idx, 'retrieved_combination'] = com\n",
    "\n",
    "            # Hitung metrics untuk setiap metode dan simpan ke DataFrame\n",
    "            for method, retrieved in zip(['similarity', 'indicator_cls', 'combination'], [sim, ind, com]):\n",
    "                metrics = calculate_metrics(session, reference_pages, retrieved)\n",
    "                if method == 'similarity':\n",
    "                    data.at[idx, 'precision_similarity'] = metrics['precision']\n",
    "                    data.at[idx, 'recall_similarity'] = metrics['recall']\n",
    "                elif method == 'indicator_cls':\n",
    "                    data.at[idx, 'precision_indicator_cls'] = metrics['precision']\n",
    "                    data.at[idx, 'recall_indicator_cls'] = metrics['recall']\n",
    "                elif method == 'combination':\n",
    "                    data.at[idx, 'precision_combination'] = metrics['precision']\n",
    "                    data.at[idx, 'recall_combination'] = metrics['recall']\n",
    "\n",
    "    return data\n",
    "\n",
    "# Fungsi untuk menyimpan hasil metrics\n",
    "def save_metrics(data: pd.DataFrame, filepath: str):\n",
    "    try:\n",
    "        data.to_csv(filepath, index=False)\n",
    "        logging.info(f\"Metrics successfully saved to {filepath}\")\n",
    "    except Exception as e:\n",
    "        logging.error(f\"Failed to save metrics to {filepath}: {e}\")"
   ]
  },
  {
   "cell_type": "code",
   "execution_count": 94,
   "metadata": {},
   "outputs": [
    {
     "name": "stderr",
     "output_type": "stream",
     "text": [
      "Processing Rows: 100%|██████████| 310/310 [47:02<00:00,  9.11s/it] \n",
      "2025-01-15 14:56:31,739 - INFO - Metrics successfully saved to temp/processed_data_with_metrics.csv\n"
     ]
    }
   ],
   "source": [
    "# Proses data\n",
    "processed_data = process_data(data)\n",
    "\n",
    "# # Tampilkan DataFrame yang telah diproses\n",
    "# print(processed_data)\n",
    "\n",
    "# # Simpan DataFrame ke CSV\n",
    "save_metrics(processed_data, \"temp/processed_data_with_metrics.csv\")"
   ]
  },
  {
   "cell_type": "code",
   "execution_count": 95,
   "metadata": {},
   "outputs": [
    {
     "data": {
      "text/html": [
       "<div>\n",
       "<style scoped>\n",
       "    .dataframe tbody tr th:only-of-type {\n",
       "        vertical-align: middle;\n",
       "    }\n",
       "\n",
       "    .dataframe tbody tr th {\n",
       "        vertical-align: top;\n",
       "    }\n",
       "\n",
       "    .dataframe thead th {\n",
       "        text-align: right;\n",
       "    }\n",
       "</style>\n",
       "<table border=\"1\" class=\"dataframe\">\n",
       "  <thead>\n",
       "    <tr style=\"text-align: right;\">\n",
       "      <th></th>\n",
       "      <th>precision_similarity</th>\n",
       "      <th>recall_similarity</th>\n",
       "      <th>precision_indicator_cls</th>\n",
       "      <th>recall_indicator_cls</th>\n",
       "      <th>precision_combination</th>\n",
       "      <th>recall_combination</th>\n",
       "    </tr>\n",
       "  </thead>\n",
       "  <tbody>\n",
       "    <tr>\n",
       "      <th>count</th>\n",
       "      <td>310.000000</td>\n",
       "      <td>310.000000</td>\n",
       "      <td>310.000000</td>\n",
       "      <td>310.000000</td>\n",
       "      <td>310.000000</td>\n",
       "      <td>310.000000</td>\n",
       "    </tr>\n",
       "    <tr>\n",
       "      <th>mean</th>\n",
       "      <td>0.128226</td>\n",
       "      <td>0.346621</td>\n",
       "      <td>0.515577</td>\n",
       "      <td>0.706183</td>\n",
       "      <td>0.144663</td>\n",
       "      <td>0.515054</td>\n",
       "    </tr>\n",
       "    <tr>\n",
       "      <th>std</th>\n",
       "      <td>0.175022</td>\n",
       "      <td>0.447998</td>\n",
       "      <td>0.373159</td>\n",
       "      <td>0.447919</td>\n",
       "      <td>0.160216</td>\n",
       "      <td>0.487019</td>\n",
       "    </tr>\n",
       "    <tr>\n",
       "      <th>min</th>\n",
       "      <td>0.000000</td>\n",
       "      <td>0.000000</td>\n",
       "      <td>0.000000</td>\n",
       "      <td>0.000000</td>\n",
       "      <td>0.000000</td>\n",
       "      <td>0.000000</td>\n",
       "    </tr>\n",
       "    <tr>\n",
       "      <th>25%</th>\n",
       "      <td>0.000000</td>\n",
       "      <td>0.000000</td>\n",
       "      <td>0.000000</td>\n",
       "      <td>0.000000</td>\n",
       "      <td>0.000000</td>\n",
       "      <td>0.000000</td>\n",
       "    </tr>\n",
       "    <tr>\n",
       "      <th>50%</th>\n",
       "      <td>0.000000</td>\n",
       "      <td>0.000000</td>\n",
       "      <td>0.500000</td>\n",
       "      <td>1.000000</td>\n",
       "      <td>0.166667</td>\n",
       "      <td>0.666667</td>\n",
       "    </tr>\n",
       "    <tr>\n",
       "      <th>75%</th>\n",
       "      <td>0.250000</td>\n",
       "      <td>1.000000</td>\n",
       "      <td>1.000000</td>\n",
       "      <td>1.000000</td>\n",
       "      <td>0.200000</td>\n",
       "      <td>1.000000</td>\n",
       "    </tr>\n",
       "    <tr>\n",
       "      <th>max</th>\n",
       "      <td>0.750000</td>\n",
       "      <td>1.000000</td>\n",
       "      <td>1.000000</td>\n",
       "      <td>1.000000</td>\n",
       "      <td>0.777778</td>\n",
       "      <td>1.000000</td>\n",
       "    </tr>\n",
       "  </tbody>\n",
       "</table>\n",
       "</div>"
      ],
      "text/plain": [
       "       precision_similarity  recall_similarity  precision_indicator_cls  \\\n",
       "count            310.000000         310.000000               310.000000   \n",
       "mean               0.128226           0.346621                 0.515577   \n",
       "std                0.175022           0.447998                 0.373159   \n",
       "min                0.000000           0.000000                 0.000000   \n",
       "25%                0.000000           0.000000                 0.000000   \n",
       "50%                0.000000           0.000000                 0.500000   \n",
       "75%                0.250000           1.000000                 1.000000   \n",
       "max                0.750000           1.000000                 1.000000   \n",
       "\n",
       "       recall_indicator_cls  precision_combination  recall_combination  \n",
       "count            310.000000             310.000000          310.000000  \n",
       "mean               0.706183               0.144663            0.515054  \n",
       "std                0.447919               0.160216            0.487019  \n",
       "min                0.000000               0.000000            0.000000  \n",
       "25%                0.000000               0.000000            0.000000  \n",
       "50%                1.000000               0.166667            0.666667  \n",
       "75%                1.000000               0.200000            1.000000  \n",
       "max                1.000000               0.777778            1.000000  "
      ]
     },
     "execution_count": 95,
     "metadata": {},
     "output_type": "execute_result"
    }
   ],
   "source": [
    "processed_data.describe()"
   ]
  },
  {
   "cell_type": "markdown",
   "metadata": {},
   "source": [
    "#### Generation"
   ]
  },
  {
   "cell_type": "code",
   "execution_count": 127,
   "metadata": {},
   "outputs": [
    {
     "name": "stderr",
     "output_type": "stream",
     "text": [
      "100%|██████████| 310/310 [30:02<00:00,  5.82s/it]\n"
     ]
    }
   ],
   "source": [
    "response_list = []\n",
    "for idx, row in tqdm(data.iterrows(), total=len(data)):\n",
    "    payload = {\n",
    "        \"src\": \"skripsi\",\n",
    "        \"model\": \"gpt-4o-mini\",\n",
    "        # \"model\": 'climategpt-13b',\n",
    "        \"inputs\": [\n",
    "            {\"type\": \"text\", \"role\": \"user\", \"content\": row['Question']}\n",
    "            # {\"type\": \"text\", \"role\": \"user\", \"content\": 'Berapakah jumlah total insiden ketidakpatuhan terhadap peraturan sukarela yang menyangkut dampak kesehatan dan keselamatan dari produk dan jasa?'}\n",
    "        ],\n",
    "        \"reference_contexts\": row['Indicator']\n",
    "        # \"reference_contexts\": '416-2'\n",
    "    }\n",
    "\n",
    "    response = requests.post(f\"{base_url}/api/v1/chat\", headers=headers, data=json.dumps(payload), stream=True)\n",
    "    for line in response.iter_lines():\n",
    "        if line:\n",
    "            chunk = json.loads(line.decode('utf-8'))\n",
    "\n",
    "    response_list.append(chunk['responses'][-1])"
   ]
  },
  {
   "cell_type": "code",
   "execution_count": 130,
   "metadata": {},
   "outputs": [],
   "source": [
    "data['Response'] = response_list\n",
    "data.to_excel(\"temp/result_openai.xlsx\", index=False)"
   ]
  },
  {
   "cell_type": "code",
   "execution_count": 139,
   "metadata": {},
   "outputs": [
    {
     "name": "stderr",
     "output_type": "stream",
     "text": [
      "100%|██████████| 310/310 [2:30:34<00:00, 29.14s/it]  \n"
     ]
    }
   ],
   "source": [
    "fc_list = []\n",
    "rouge_list = []\n",
    "for idx, row in tqdm(data.iterrows(), total=len(data)):\n",
    "    payload = {\n",
    "        \"response\": row['Response'],\n",
    "        \"reference\": row['Reference'],\n",
    "    }\n",
    "\n",
    "    response = requests.post(f\"{base_url}/api/v1/eval/fc_metric\", headers=headers, data=json.dumps(payload))\n",
    "    res_fc = json.loads(response.content.decode('utf-8'))\n",
    "    fc_list.append(res_fc)\n",
    "\n",
    "    response = requests.post(f\"{base_url}/api/v1/eval/rouge_metric\", headers=headers, data=json.dumps(payload))\n",
    "    res_rouge = json.loads(response.content.decode('utf-8'))\n",
    "    rouge_list.append(res_rouge)"
   ]
  },
  {
   "cell_type": "code",
   "execution_count": 142,
   "metadata": {},
   "outputs": [],
   "source": [
    "import json\n",
    "\n",
    "with open(\"temp/fc_result.json\", \"w\") as f:\n",
    "    json.dump(fc_list, f, indent=4)\n",
    "\n",
    "with open(\"temp/rouge_result.json\", \"w\") as f:\n",
    "    json.dump(rouge_list, f, indent=4)"
   ]
  },
  {
   "cell_type": "code",
   "execution_count": 146,
   "metadata": {},
   "outputs": [],
   "source": [
    "rouge_score_list = [res['score'] for res in rouge_list]\n",
    "fc_score_list = [res['score'] for res in fc_list]"
   ]
  },
  {
   "cell_type": "code",
   "execution_count": 148,
   "metadata": {},
   "outputs": [
    {
     "data": {
      "text/plain": [
       "(0.5808286007125334, 0.5240406184493932)"
      ]
     },
     "execution_count": 148,
     "metadata": {},
     "output_type": "execute_result"
    }
   ],
   "source": [
    "sum(rouge_score_list) / len(rouge_score_list), sum(fc_score_list) / len(fc_score_list)"
   ]
  }
 ],
 "metadata": {
  "kernelspec": {
   "display_name": "env",
   "language": "python",
   "name": "python3"
  },
  "language_info": {
   "codemirror_mode": {
    "name": "ipython",
    "version": 3
   },
   "file_extension": ".py",
   "mimetype": "text/x-python",
   "name": "python",
   "nbconvert_exporter": "python",
   "pygments_lexer": "ipython3",
   "version": "3.10.7"
  }
 },
 "nbformat": 4,
 "nbformat_minor": 2
}
