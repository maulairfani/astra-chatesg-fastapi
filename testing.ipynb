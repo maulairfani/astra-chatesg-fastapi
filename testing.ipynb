{
 "cells": [
  {
   "cell_type": "markdown",
   "metadata": {},
   "source": [
    "# Testing ChatESG"
   ]
  },
  {
   "cell_type": "code",
   "execution_count": 4,
   "metadata": {},
   "outputs": [],
   "source": [
    "import requests\n",
    "import json"
   ]
  },
  {
   "cell_type": "code",
   "execution_count": 5,
   "metadata": {},
   "outputs": [
    {
     "data": {
      "text/plain": [
       "(b'{\"status\":\"OK\"}', 'http://localhost:8000')"
      ]
     },
     "execution_count": 5,
     "metadata": {},
     "output_type": "execute_result"
    }
   ],
   "source": [
    "TEST_UID = \"#test-uid\"\n",
    "MODE = \"local\"\n",
    "\n",
    "if MODE==\"local\":\n",
    "    base_url = 'http://localhost:8000'\n",
    "\n",
    "# Health check\n",
    "requests.get(f\"{base_url}/health\").content, base_url"
   ]
  },
  {
   "cell_type": "markdown",
   "metadata": {},
   "source": [
    "### Chat"
   ]
  },
  {
   "cell_type": "code",
   "execution_count": 63,
   "metadata": {},
   "outputs": [
    {
     "name": "stdout",
     "output_type": "stream",
     "text": [
      "Chunk received: {'done': False, 'tools': ['Mengambil informasi relevan dari laporan keberlanjutan'], 'responses': [], 'sources': None, 'bsid': 'c3a7858b520045dbb3f3', 'bcid': 'f4aed020-57fa-4d9d-8de3-85e1bc0aec04', 'metadata': None}\n",
      "Chunk received: {'done': False, 'tools': ['Mengambil informasi relevan dari laporan keberlanjutan'], 'responses': [''], 'sources': None, 'bsid': 'c3a7858b520045dbb3f3', 'bcid': 'f4aed020-57fa-4d9d-8de3-85e1bc0aec04', 'metadata': None}\n",
      "Chunk received: {'done': False, 'tools': ['Mengambil informasi relevan dari laporan keberlanjutan'], 'responses': ['Jumlah'], 'sources': None, 'bsid': 'c3a7858b520045dbb3f3', 'bcid': 'f4aed020-57fa-4d9d-8de3-85e1bc0aec04', 'metadata': None}\n",
      "Chunk received: {'done': False, 'tools': ['Mengambil informasi relevan dari laporan keberlanjutan'], 'responses': ['Jumlah k'], 'sources': None, 'bsid': 'c3a7858b520045dbb3f3', 'bcid': 'f4aed020-57fa-4d9d-8de3-85e1bc0aec04', 'metadata': None}\n",
      "Chunk received: {'done': False, 'tools': ['Mengambil informasi relevan dari laporan keberlanjutan'], 'responses': ['Jumlah karyawan'], 'sources': None, 'bsid': 'c3a7858b520045dbb3f3', 'bcid': 'f4aed020-57fa-4d9d-8de3-85e1bc0aec04', 'metadata': None}\n",
      "Chunk received: {'done': False, 'tools': ['Mengambil informasi relevan dari laporan keberlanjutan'], 'responses': ['Jumlah karyawan berdasarkan'], 'sources': None, 'bsid': 'c3a7858b520045dbb3f3', 'bcid': 'f4aed020-57fa-4d9d-8de3-85e1bc0aec04', 'metadata': None}\n",
      "Chunk received: {'done': False, 'tools': ['Mengambil informasi relevan dari laporan keberlanjutan'], 'responses': ['Jumlah karyawan berdasarkan gender'], 'sources': None, 'bsid': 'c3a7858b520045dbb3f3', 'bcid': 'f4aed020-57fa-4d9d-8de3-85e1bc0aec04', 'metadata': None}\n",
      "Chunk received: {'done': False, 'tools': ['Mengambil informasi relevan dari laporan keberlanjutan'], 'responses': ['Jumlah karyawan berdasarkan gender di'], 'sources': None, 'bsid': 'c3a7858b520045dbb3f3', 'bcid': 'f4aed020-57fa-4d9d-8de3-85e1bc0aec04', 'metadata': None}\n",
      "Chunk received: {'done': False, 'tools': ['Mengambil informasi relevan dari laporan keberlanjutan'], 'responses': ['Jumlah karyawan berdasarkan gender di PT'], 'sources': None, 'bsid': 'c3a7858b520045dbb3f3', 'bcid': 'f4aed020-57fa-4d9d-8de3-85e1bc0aec04', 'metadata': None}\n",
      "Chunk received: {'done': False, 'tools': ['Mengambil informasi relevan dari laporan keberlanjutan'], 'responses': ['Jumlah karyawan berdasarkan gender di PT Astra'], 'sources': None, 'bsid': 'c3a7858b520045dbb3f3', 'bcid': 'f4aed020-57fa-4d9d-8de3-85e1bc0aec04', 'metadata': None}\n",
      "Chunk received: {'done': False, 'tools': ['Mengambil informasi relevan dari laporan keberlanjutan'], 'responses': ['Jumlah karyawan berdasarkan gender di PT Astra International'], 'sources': None, 'bsid': 'c3a7858b520045dbb3f3', 'bcid': 'f4aed020-57fa-4d9d-8de3-85e1bc0aec04', 'metadata': None}\n",
      "Chunk received: {'done': False, 'tools': ['Mengambil informasi relevan dari laporan keberlanjutan'], 'responses': ['Jumlah karyawan berdasarkan gender di PT Astra International T'], 'sources': None, 'bsid': 'c3a7858b520045dbb3f3', 'bcid': 'f4aed020-57fa-4d9d-8de3-85e1bc0aec04', 'metadata': None}\n",
      "Chunk received: {'done': False, 'tools': ['Mengambil informasi relevan dari laporan keberlanjutan'], 'responses': ['Jumlah karyawan berdasarkan gender di PT Astra International Tbk'], 'sources': None, 'bsid': 'c3a7858b520045dbb3f3', 'bcid': 'f4aed020-57fa-4d9d-8de3-85e1bc0aec04', 'metadata': None}\n",
      "Chunk received: {'done': False, 'tools': ['Mengambil informasi relevan dari laporan keberlanjutan'], 'responses': ['Jumlah karyawan berdasarkan gender di PT Astra International Tbk pada'], 'sources': None, 'bsid': 'c3a7858b520045dbb3f3', 'bcid': 'f4aed020-57fa-4d9d-8de3-85e1bc0aec04', 'metadata': None}\n",
      "Chunk received: {'done': False, 'tools': ['Mengambil informasi relevan dari laporan keberlanjutan'], 'responses': ['Jumlah karyawan berdasarkan gender di PT Astra International Tbk pada tahun'], 'sources': None, 'bsid': 'c3a7858b520045dbb3f3', 'bcid': 'f4aed020-57fa-4d9d-8de3-85e1bc0aec04', 'metadata': None}\n",
      "Chunk received: {'done': False, 'tools': ['Mengambil informasi relevan dari laporan keberlanjutan'], 'responses': ['Jumlah karyawan berdasarkan gender di PT Astra International Tbk pada tahun '], 'sources': None, 'bsid': 'c3a7858b520045dbb3f3', 'bcid': 'f4aed020-57fa-4d9d-8de3-85e1bc0aec04', 'metadata': None}\n",
      "Chunk received: {'done': False, 'tools': ['Mengambil informasi relevan dari laporan keberlanjutan'], 'responses': ['Jumlah karyawan berdasarkan gender di PT Astra International Tbk pada tahun 202'], 'sources': None, 'bsid': 'c3a7858b520045dbb3f3', 'bcid': 'f4aed020-57fa-4d9d-8de3-85e1bc0aec04', 'metadata': None}\n",
      "Chunk received: {'done': False, 'tools': ['Mengambil informasi relevan dari laporan keberlanjutan'], 'responses': ['Jumlah karyawan berdasarkan gender di PT Astra International Tbk pada tahun 2023'], 'sources': None, 'bsid': 'c3a7858b520045dbb3f3', 'bcid': 'f4aed020-57fa-4d9d-8de3-85e1bc0aec04', 'metadata': None}\n",
      "Chunk received: {'done': False, 'tools': ['Mengambil informasi relevan dari laporan keberlanjutan'], 'responses': ['Jumlah karyawan berdasarkan gender di PT Astra International Tbk pada tahun 2023 adalah'], 'sources': None, 'bsid': 'c3a7858b520045dbb3f3', 'bcid': 'f4aed020-57fa-4d9d-8de3-85e1bc0aec04', 'metadata': None}\n",
      "Chunk received: {'done': False, 'tools': ['Mengambil informasi relevan dari laporan keberlanjutan'], 'responses': ['Jumlah karyawan berdasarkan gender di PT Astra International Tbk pada tahun 2023 adalah sebagai'], 'sources': None, 'bsid': 'c3a7858b520045dbb3f3', 'bcid': 'f4aed020-57fa-4d9d-8de3-85e1bc0aec04', 'metadata': None}\n",
      "Chunk received: {'done': False, 'tools': ['Mengambil informasi relevan dari laporan keberlanjutan'], 'responses': ['Jumlah karyawan berdasarkan gender di PT Astra International Tbk pada tahun 2023 adalah sebagai berikut'], 'sources': None, 'bsid': 'c3a7858b520045dbb3f3', 'bcid': 'f4aed020-57fa-4d9d-8de3-85e1bc0aec04', 'metadata': None}\n",
      "Chunk received: {'done': False, 'tools': ['Mengambil informasi relevan dari laporan keberlanjutan'], 'responses': ['Jumlah karyawan berdasarkan gender di PT Astra International Tbk pada tahun 2023 adalah sebagai berikut:\\n\\n'], 'sources': None, 'bsid': 'c3a7858b520045dbb3f3', 'bcid': 'f4aed020-57fa-4d9d-8de3-85e1bc0aec04', 'metadata': None}\n",
      "Chunk received: {'done': False, 'tools': ['Mengambil informasi relevan dari laporan keberlanjutan'], 'responses': ['Jumlah karyawan berdasarkan gender di PT Astra International Tbk pada tahun 2023 adalah sebagai berikut:\\n\\n-'], 'sources': None, 'bsid': 'c3a7858b520045dbb3f3', 'bcid': 'f4aed020-57fa-4d9d-8de3-85e1bc0aec04', 'metadata': None}\n",
      "Chunk received: {'done': False, 'tools': ['Mengambil informasi relevan dari laporan keberlanjutan'], 'responses': ['Jumlah karyawan berdasarkan gender di PT Astra International Tbk pada tahun 2023 adalah sebagai berikut:\\n\\n- Pr'], 'sources': None, 'bsid': 'c3a7858b520045dbb3f3', 'bcid': 'f4aed020-57fa-4d9d-8de3-85e1bc0aec04', 'metadata': None}\n",
      "Chunk received: {'done': False, 'tools': ['Mengambil informasi relevan dari laporan keberlanjutan'], 'responses': ['Jumlah karyawan berdasarkan gender di PT Astra International Tbk pada tahun 2023 adalah sebagai berikut:\\n\\n- Pria'], 'sources': None, 'bsid': 'c3a7858b520045dbb3f3', 'bcid': 'f4aed020-57fa-4d9d-8de3-85e1bc0aec04', 'metadata': None}\n",
      "Chunk received: {'done': False, 'tools': ['Mengambil informasi relevan dari laporan keberlanjutan'], 'responses': ['Jumlah karyawan berdasarkan gender di PT Astra International Tbk pada tahun 2023 adalah sebagai berikut:\\n\\n- Pria ('], 'sources': None, 'bsid': 'c3a7858b520045dbb3f3', 'bcid': 'f4aed020-57fa-4d9d-8de3-85e1bc0aec04', 'metadata': None}\n",
      "Chunk received: {'done': False, 'tools': ['Mengambil informasi relevan dari laporan keberlanjutan'], 'responses': ['Jumlah karyawan berdasarkan gender di PT Astra International Tbk pada tahun 2023 adalah sebagai berikut:\\n\\n- Pria (Male'], 'sources': None, 'bsid': 'c3a7858b520045dbb3f3', 'bcid': 'f4aed020-57fa-4d9d-8de3-85e1bc0aec04', 'metadata': None}\n",
      "Chunk received: {'done': False, 'tools': ['Mengambil informasi relevan dari laporan keberlanjutan'], 'responses': ['Jumlah karyawan berdasarkan gender di PT Astra International Tbk pada tahun 2023 adalah sebagai berikut:\\n\\n- Pria (Male):'], 'sources': None, 'bsid': 'c3a7858b520045dbb3f3', 'bcid': 'f4aed020-57fa-4d9d-8de3-85e1bc0aec04', 'metadata': None}\n",
      "Chunk received: {'done': False, 'tools': ['Mengambil informasi relevan dari laporan keberlanjutan'], 'responses': ['Jumlah karyawan berdasarkan gender di PT Astra International Tbk pada tahun 2023 adalah sebagai berikut:\\n\\n- Pria (Male): '], 'sources': None, 'bsid': 'c3a7858b520045dbb3f3', 'bcid': 'f4aed020-57fa-4d9d-8de3-85e1bc0aec04', 'metadata': None}\n",
      "Chunk received: {'done': False, 'tools': ['Mengambil informasi relevan dari laporan keberlanjutan'], 'responses': ['Jumlah karyawan berdasarkan gender di PT Astra International Tbk pada tahun 2023 adalah sebagai berikut:\\n\\n- Pria (Male): 181'], 'sources': None, 'bsid': 'c3a7858b520045dbb3f3', 'bcid': 'f4aed020-57fa-4d9d-8de3-85e1bc0aec04', 'metadata': None}\n",
      "Chunk received: {'done': False, 'tools': ['Mengambil informasi relevan dari laporan keberlanjutan'], 'responses': ['Jumlah karyawan berdasarkan gender di PT Astra International Tbk pada tahun 2023 adalah sebagai berikut:\\n\\n- Pria (Male): 181,'], 'sources': None, 'bsid': 'c3a7858b520045dbb3f3', 'bcid': 'f4aed020-57fa-4d9d-8de3-85e1bc0aec04', 'metadata': None}\n",
      "Chunk received: {'done': False, 'tools': ['Mengambil informasi relevan dari laporan keberlanjutan'], 'responses': ['Jumlah karyawan berdasarkan gender di PT Astra International Tbk pada tahun 2023 adalah sebagai berikut:\\n\\n- Pria (Male): 181,795'], 'sources': None, 'bsid': 'c3a7858b520045dbb3f3', 'bcid': 'f4aed020-57fa-4d9d-8de3-85e1bc0aec04', 'metadata': None}\n",
      "Chunk received: {'done': False, 'tools': ['Mengambil informasi relevan dari laporan keberlanjutan'], 'responses': ['Jumlah karyawan berdasarkan gender di PT Astra International Tbk pada tahun 2023 adalah sebagai berikut:\\n\\n- Pria (Male): 181,795\\n'], 'sources': None, 'bsid': 'c3a7858b520045dbb3f3', 'bcid': 'f4aed020-57fa-4d9d-8de3-85e1bc0aec04', 'metadata': None}\n",
      "Chunk received: {'done': False, 'tools': ['Mengambil informasi relevan dari laporan keberlanjutan'], 'responses': ['Jumlah karyawan berdasarkan gender di PT Astra International Tbk pada tahun 2023 adalah sebagai berikut:\\n\\n- Pria (Male): 181,795\\n-'], 'sources': None, 'bsid': 'c3a7858b520045dbb3f3', 'bcid': 'f4aed020-57fa-4d9d-8de3-85e1bc0aec04', 'metadata': None}\n",
      "Chunk received: {'done': False, 'tools': ['Mengambil informasi relevan dari laporan keberlanjutan'], 'responses': ['Jumlah karyawan berdasarkan gender di PT Astra International Tbk pada tahun 2023 adalah sebagai berikut:\\n\\n- Pria (Male): 181,795\\n- Wan'], 'sources': None, 'bsid': 'c3a7858b520045dbb3f3', 'bcid': 'f4aed020-57fa-4d9d-8de3-85e1bc0aec04', 'metadata': None}\n",
      "Chunk received: {'done': False, 'tools': ['Mengambil informasi relevan dari laporan keberlanjutan'], 'responses': ['Jumlah karyawan berdasarkan gender di PT Astra International Tbk pada tahun 2023 adalah sebagai berikut:\\n\\n- Pria (Male): 181,795\\n- Wanita'], 'sources': None, 'bsid': 'c3a7858b520045dbb3f3', 'bcid': 'f4aed020-57fa-4d9d-8de3-85e1bc0aec04', 'metadata': None}\n",
      "Chunk received: {'done': False, 'tools': ['Mengambil informasi relevan dari laporan keberlanjutan'], 'responses': ['Jumlah karyawan berdasarkan gender di PT Astra International Tbk pada tahun 2023 adalah sebagai berikut:\\n\\n- Pria (Male): 181,795\\n- Wanita ('], 'sources': None, 'bsid': 'c3a7858b520045dbb3f3', 'bcid': 'f4aed020-57fa-4d9d-8de3-85e1bc0aec04', 'metadata': None}\n",
      "Chunk received: {'done': False, 'tools': ['Mengambil informasi relevan dari laporan keberlanjutan'], 'responses': ['Jumlah karyawan berdasarkan gender di PT Astra International Tbk pada tahun 2023 adalah sebagai berikut:\\n\\n- Pria (Male): 181,795\\n- Wanita (Female'], 'sources': None, 'bsid': 'c3a7858b520045dbb3f3', 'bcid': 'f4aed020-57fa-4d9d-8de3-85e1bc0aec04', 'metadata': None}\n",
      "Chunk received: {'done': False, 'tools': ['Mengambil informasi relevan dari laporan keberlanjutan'], 'responses': ['Jumlah karyawan berdasarkan gender di PT Astra International Tbk pada tahun 2023 adalah sebagai berikut:\\n\\n- Pria (Male): 181,795\\n- Wanita (Female):'], 'sources': None, 'bsid': 'c3a7858b520045dbb3f3', 'bcid': 'f4aed020-57fa-4d9d-8de3-85e1bc0aec04', 'metadata': None}\n",
      "Chunk received: {'done': False, 'tools': ['Mengambil informasi relevan dari laporan keberlanjutan'], 'responses': ['Jumlah karyawan berdasarkan gender di PT Astra International Tbk pada tahun 2023 adalah sebagai berikut:\\n\\n- Pria (Male): 181,795\\n- Wanita (Female): '], 'sources': None, 'bsid': 'c3a7858b520045dbb3f3', 'bcid': 'f4aed020-57fa-4d9d-8de3-85e1bc0aec04', 'metadata': None}\n",
      "Chunk received: {'done': False, 'tools': ['Mengambil informasi relevan dari laporan keberlanjutan'], 'responses': ['Jumlah karyawan berdasarkan gender di PT Astra International Tbk pada tahun 2023 adalah sebagai berikut:\\n\\n- Pria (Male): 181,795\\n- Wanita (Female): 19'], 'sources': None, 'bsid': 'c3a7858b520045dbb3f3', 'bcid': 'f4aed020-57fa-4d9d-8de3-85e1bc0aec04', 'metadata': None}\n",
      "Chunk received: {'done': False, 'tools': ['Mengambil informasi relevan dari laporan keberlanjutan'], 'responses': ['Jumlah karyawan berdasarkan gender di PT Astra International Tbk pada tahun 2023 adalah sebagai berikut:\\n\\n- Pria (Male): 181,795\\n- Wanita (Female): 19,'], 'sources': None, 'bsid': 'c3a7858b520045dbb3f3', 'bcid': 'f4aed020-57fa-4d9d-8de3-85e1bc0aec04', 'metadata': None}\n",
      "Chunk received: {'done': False, 'tools': ['Mengambil informasi relevan dari laporan keberlanjutan'], 'responses': ['Jumlah karyawan berdasarkan gender di PT Astra International Tbk pada tahun 2023 adalah sebagai berikut:\\n\\n- Pria (Male): 181,795\\n- Wanita (Female): 19,758'], 'sources': None, 'bsid': 'c3a7858b520045dbb3f3', 'bcid': 'f4aed020-57fa-4d9d-8de3-85e1bc0aec04', 'metadata': None}\n",
      "Chunk received: {'done': False, 'tools': ['Mengambil informasi relevan dari laporan keberlanjutan'], 'responses': ['Jumlah karyawan berdasarkan gender di PT Astra International Tbk pada tahun 2023 adalah sebagai berikut:\\n\\n- Pria (Male): 181,795\\n- Wanita (Female): 19,758\\n\\n'], 'sources': None, 'bsid': 'c3a7858b520045dbb3f3', 'bcid': 'f4aed020-57fa-4d9d-8de3-85e1bc0aec04', 'metadata': None}\n",
      "Chunk received: {'done': False, 'tools': ['Mengambil informasi relevan dari laporan keberlanjutan'], 'responses': ['Jumlah karyawan berdasarkan gender di PT Astra International Tbk pada tahun 2023 adalah sebagai berikut:\\n\\n- Pria (Male): 181,795\\n- Wanita (Female): 19,758\\n\\nTotal'], 'sources': None, 'bsid': 'c3a7858b520045dbb3f3', 'bcid': 'f4aed020-57fa-4d9d-8de3-85e1bc0aec04', 'metadata': None}\n",
      "Chunk received: {'done': False, 'tools': ['Mengambil informasi relevan dari laporan keberlanjutan'], 'responses': ['Jumlah karyawan berdasarkan gender di PT Astra International Tbk pada tahun 2023 adalah sebagai berikut:\\n\\n- Pria (Male): 181,795\\n- Wanita (Female): 19,758\\n\\nTotal k'], 'sources': None, 'bsid': 'c3a7858b520045dbb3f3', 'bcid': 'f4aed020-57fa-4d9d-8de3-85e1bc0aec04', 'metadata': None}\n",
      "Chunk received: {'done': False, 'tools': ['Mengambil informasi relevan dari laporan keberlanjutan'], 'responses': ['Jumlah karyawan berdasarkan gender di PT Astra International Tbk pada tahun 2023 adalah sebagai berikut:\\n\\n- Pria (Male): 181,795\\n- Wanita (Female): 19,758\\n\\nTotal karyawan'], 'sources': None, 'bsid': 'c3a7858b520045dbb3f3', 'bcid': 'f4aed020-57fa-4d9d-8de3-85e1bc0aec04', 'metadata': None}\n",
      "Chunk received: {'done': False, 'tools': ['Mengambil informasi relevan dari laporan keberlanjutan'], 'responses': ['Jumlah karyawan berdasarkan gender di PT Astra International Tbk pada tahun 2023 adalah sebagai berikut:\\n\\n- Pria (Male): 181,795\\n- Wanita (Female): 19,758\\n\\nTotal karyawan:'], 'sources': None, 'bsid': 'c3a7858b520045dbb3f3', 'bcid': 'f4aed020-57fa-4d9d-8de3-85e1bc0aec04', 'metadata': None}\n",
      "Chunk received: {'done': False, 'tools': ['Mengambil informasi relevan dari laporan keberlanjutan'], 'responses': ['Jumlah karyawan berdasarkan gender di PT Astra International Tbk pada tahun 2023 adalah sebagai berikut:\\n\\n- Pria (Male): 181,795\\n- Wanita (Female): 19,758\\n\\nTotal karyawan: '], 'sources': None, 'bsid': 'c3a7858b520045dbb3f3', 'bcid': 'f4aed020-57fa-4d9d-8de3-85e1bc0aec04', 'metadata': None}\n",
      "Chunk received: {'done': False, 'tools': ['Mengambil informasi relevan dari laporan keberlanjutan'], 'responses': ['Jumlah karyawan berdasarkan gender di PT Astra International Tbk pada tahun 2023 adalah sebagai berikut:\\n\\n- Pria (Male): 181,795\\n- Wanita (Female): 19,758\\n\\nTotal karyawan: 201'], 'sources': None, 'bsid': 'c3a7858b520045dbb3f3', 'bcid': 'f4aed020-57fa-4d9d-8de3-85e1bc0aec04', 'metadata': None}\n",
      "Chunk received: {'done': False, 'tools': ['Mengambil informasi relevan dari laporan keberlanjutan'], 'responses': ['Jumlah karyawan berdasarkan gender di PT Astra International Tbk pada tahun 2023 adalah sebagai berikut:\\n\\n- Pria (Male): 181,795\\n- Wanita (Female): 19,758\\n\\nTotal karyawan: 201,'], 'sources': None, 'bsid': 'c3a7858b520045dbb3f3', 'bcid': 'f4aed020-57fa-4d9d-8de3-85e1bc0aec04', 'metadata': None}\n",
      "Chunk received: {'done': False, 'tools': ['Mengambil informasi relevan dari laporan keberlanjutan'], 'responses': ['Jumlah karyawan berdasarkan gender di PT Astra International Tbk pada tahun 2023 adalah sebagai berikut:\\n\\n- Pria (Male): 181,795\\n- Wanita (Female): 19,758\\n\\nTotal karyawan: 201,553'], 'sources': None, 'bsid': 'c3a7858b520045dbb3f3', 'bcid': 'f4aed020-57fa-4d9d-8de3-85e1bc0aec04', 'metadata': None}\n",
      "Chunk received: {'done': False, 'tools': ['Mengambil informasi relevan dari laporan keberlanjutan'], 'responses': ['Jumlah karyawan berdasarkan gender di PT Astra International Tbk pada tahun 2023 adalah sebagai berikut:\\n\\n- Pria (Male): 181,795\\n- Wanita (Female): 19,758\\n\\nTotal karyawan: 201,553.'], 'sources': None, 'bsid': 'c3a7858b520045dbb3f3', 'bcid': 'f4aed020-57fa-4d9d-8de3-85e1bc0aec04', 'metadata': None}\n",
      "Chunk received: {'done': False, 'tools': ['Mengambil informasi relevan dari laporan keberlanjutan'], 'responses': ['Jumlah karyawan berdasarkan gender di PT Astra International Tbk pada tahun 2023 adalah sebagai berikut:\\n\\n- Pria (Male): 181,795\\n- Wanita (Female): 19,758\\n\\nTotal karyawan: 201,553.'], 'sources': None, 'bsid': 'c3a7858b520045dbb3f3', 'bcid': 'f4aed020-57fa-4d9d-8de3-85e1bc0aec04', 'metadata': None}\n",
      "Chunk received: {'done': True, 'tools': ['Mengambil informasi relevan dari laporan keberlanjutan'], 'responses': ['Jumlah karyawan berdasarkan gender di PT Astra International Tbk pada tahun 2023 adalah sebagai berikut:\\n\\n- Pria (Male): 181,795\\n- Wanita (Female): 19,758\\n\\nTotal karyawan: 201,553.'], 'sources': [{'url': 'https://www.astra.co.id/', 'pages': [115], 'snippet': None, 'related_indicators': None}], 'bsid': 'c3a7858b520045dbb3f3', 'bcid': 'f4aed020-57fa-4d9d-8de3-85e1bc0aec04', 'metadata': None}\n"
     ]
    },
    {
     "data": {
      "text/plain": [
       "{'done': True,\n",
       " 'tools': ['Mengambil informasi relevan dari laporan keberlanjutan'],\n",
       " 'responses': ['Jumlah karyawan berdasarkan gender di PT Astra International Tbk pada tahun 2023 adalah sebagai berikut:\\n\\n- Pria (Male): 181,795\\n- Wanita (Female): 19,758\\n\\nTotal karyawan: 201,553.'],\n",
       " 'sources': [{'url': 'https://www.astra.co.id/',\n",
       "   'pages': [115],\n",
       "   'snippet': None,\n",
       "   'related_indicators': None}],\n",
       " 'bsid': 'c3a7858b520045dbb3f3',\n",
       " 'bcid': 'f4aed020-57fa-4d9d-8de3-85e1bc0aec04',\n",
       " 'metadata': None}"
      ]
     },
     "execution_count": 63,
     "metadata": {},
     "output_type": "execute_result"
    }
   ],
   "source": [
    "headers_chat = {\n",
    "    \"Content-Type\": \"application/json\",\n",
    "    \"test-uid\": TEST_UID\n",
    "}\n",
    "\n",
    "chat_payload = {\n",
    "    \"src\": \"skripsi\",\n",
    "    \"model\": \"gpt-4o-mini\",\n",
    "    # \"model\": 'climategpt-13b',\n",
    "    # \"bsid\": \"7f79f395c3564549be52\",\n",
    "    \"retriever\": 'similarity',\n",
    "    \"top_k\": 1,\n",
    "    \"inputs\": [\n",
    "        # {\"type\": \"text\", \"role\": \"user\", \"content\": \"sebutkan nama presiden komisaris dari perusahaan\"}\n",
    "        {\"type\": \"text\", \"role\": \"user\", \"content\": \"berapa jumlah karyawan berdasarkan gender?\"}\n",
    "    ]\n",
    "}\n",
    "\n",
    "response = requests.post(f\"{base_url}/api/v1/chat\", headers=headers_chat, data=json.dumps(chat_payload), stream=True)\n",
    "for line in response.iter_lines():\n",
    "    if line:\n",
    "        chunk = json.loads(line.decode('utf-8'))\n",
    "        print(\"Chunk received:\", chunk)\n",
    "chunk"
   ]
  },
  {
   "cell_type": "markdown",
   "metadata": {},
   "source": [
    "### Retrieval"
   ]
  },
  {
   "cell_type": "code",
   "execution_count": 70,
   "metadata": {},
   "outputs": [
    {
     "data": {
      "text/plain": [
       "{'contents': [{'id': None,\n",
       "   'metadata': {'company': 'PT Astra International Tbk',\n",
       "    'disclosed_gri': ['405-1'],\n",
       "    'page': 114.0,\n",
       "    'ticker': 'ASII',\n",
       "    'year': 2022.0},\n",
       "   'page_content': \"## Woman Leaders Program\\n\\nSepanjang tahun 2023, Astra melaksanakan sejumlah aktivitas untuk memperkuat keberagaman dan inklusi yang sejalan dengan Astra 2030 Sustainability Aspirations, seperti:\\n\\nThroughout 2023, Astra carried out numerous acitivities to strengthen diversity and inclusion in line with the Astra 2030 Sustainability Aspirations, namely:\\n\\n## DIVERSITY & INCLUSION FOR LEADERS\\n\\n## IGNITE THE IMPACT OF WOMEN LEADERS\\n\\n23 batch dengan total 605 peserta manajemen eksekutif dari 94 perusahaan Grup Astra\\n\\n23 batch with 605 participants from 94 companies across Astra Group\\n\\n## ASTRA WOMEN SUPPORT SYSTEM\\n\\n22 sesi mentoring dengan 11 eksekutif wanita dari 11 perusahaan\\n\\n22 mentoring sessions covering 11 women executives from 11 companies\\n\\nBRANDING & EDUCATIONAL CONTENTS\\n\\n7 aktivitas branding yang mencakup 4 konten edukasional & 3 konten kolaboratif\\n\\n7 branding activities that consists of 4 educational content & 3 collaborative content\\n\\n<!-- image -->\\n\\n<!-- image -->\\n\\n## [GRI 405-1]\\n\\n## Keberagaman Badan Tata Kelola Diversity of Governance Bodies\\n\\n| Dewan Komisaris                      | 2021      | 2021          | 2021   | 2022      | 2022          | 2022   | 2023      | 2023          | 2023   |\\n|--------------------------------------|-----------|---------------|--------|-----------|---------------|--------|-----------|---------------|--------|\\n| Board of Commissioners               | Pria Male | Wanita Female | Total  | Pria Male | Wanita Female | Total  | Pria Male | Wanita Female | Total  |\\n| Di bawah 30 tahun Under 30 years old | 0         | 0             | 0      | 0         | 0             | 0      | 0         | 0             | 0      |\\n| 30-50 tahun 30-50 years old          | 3         | 0             | 3      | 3         | 0             | 3      | 1         | 0             | 1      |\\n| Di atas 50 tahun Over 50 years old   | 6         | 1             | 7      | 6         | 1             | 7      | 8         | 1             | 9      |\\n| Subtotal                             | 9         | 1             | 10     | 9         | 1             | 10     | 9         | 1             | 10     |\\n| Persentase Percentage                | 90%       | 10%           |        | 90%       | 10%           |        | 90%       | 10%           |        |\\n\\nKeterangan | Note:\\n\\nData pada tabel di atas adalah data Dewan Komisaris di kantor pusat PT Astra International Tbk\\n\\nThe data in the table above is the data of the Board of Commissioners at the head office of PT Astra International Tbk\\n\\n| Direksi                              | 2021      | 2021          | 2021   | 2022      | 2022          | 2022   | 2023      | 2023          | 2023   |\\n|--------------------------------------|-----------|---------------|--------|-----------|---------------|--------|-----------|---------------|--------|\\n| Board of Directors                   | Pria Male | Wanita Female | Total  | Pria Male | Wanita Female | Total  | Pria Male | Wanita Female | Total  |\\n| Di bawah 30 tahun Under 30 years old | 0         | 0             | 0      | 0         | 0             | 0      | 0         | 0             | 0      |\\n| 30-50 tahun 30-50 years old          | 1         | 0             | 1      | 0         | 0             | 1      | 0         | 0             | 0      |\\n| Di atas 50 tahun Over 50 years old   | 7         | 1             | 8      | 9         | 1             | 10     | 9         | 1             | 10     |\\n| Subtotal                             | 8         | 1             | 9      | 9         | 1             | 10     | 9         | 1             | 10     |\\n| Persentase Percentage                | 88.89%    | 11.11%        |        | 90%       | 10%           |        | 90%       | 10%           |        |\\n\\nKeterangan | Note:\\n\\nData pada tabel di atas adalah data Direksi di kantor pusat PT Astra International Tbk\\n\\nThe data in the table above is the data of the Board of Directors at the head office of PT Astra International Tbk\\n\\n1 sesi pembelajaran dengan 11 peserta dari 8 perusahaan 1 learning session with 11 participants from 8 companies\\n\\n## SISTEAHOOD, FEMINASTRA, & ASTRA WOMEN'S NETWORK\\n\\n3 sesi networking dengan 165 peserta dari 59 perusahaan 3 networking sessions with 165 participants from 59 companies\\n\\nASTRA CAREER MEET UP\\n\\n2 sesi bersama 5 eksekutif wanita selaku narasumber 2 sessions with 5 women executives as speakers\\n\\n<!-- image -->\",\n",
       "   'type': 'Document'},\n",
       "  {'id': None,\n",
       "   'metadata': {'company': 'PT Astra International Tbk',\n",
       "    'disclosed_gri': ['405-1', '413-1', '3-3', '413-2', '405-2'],\n",
       "    'page': 195.0,\n",
       "    'ticker': 'ASII',\n",
       "    'year': 2022.0},\n",
       "   'page_content': '|                                                                                                 |                                                                                         |                                                                                                                                                                                                                                                                                                                                                                                                           |                                                                                         | Hal yang Tidak Dicantumkan |  Omission                                                  | Hal yang Tidak Dicantumkan |  Omission                                                  | Hal yang Tidak Dicantumkan |  Omission                                                                                                                                                                                                                                                                                 |                                                                                         |\\n|-------------------------------------------------------------------------------------------------|-----------------------------------------------------------------------------------------|-----------------------------------------------------------------------------------------------------------------------------------------------------------------------------------------------------------------------------------------------------------------------------------------------------------------------------------------------------------------------------------------------------------|-----------------------------------------------------------------------------------------|-----------------------------------------------------------------------------------------|-----------------------------------------------------------------------------------------|------------------------------------------------------------------------------------------------------------------------------------------------------------------------------------------------------------------------------------------------------------------------------------------------------------------------|-----------------------------------------------------------------------------------------|\\n| GRI Standard                                                                                    |                                                                                         | Pengungkapan Disclosure                                                                                                                                                                                                                                                                                                                                                                                   | Lokasi Location                                                                         | Persyaratan  Omission Requirement(s)  Omitted                                           | Alasan Reason                                                                           | Penjelasan Explanation                                                                                                                                                                                                                                                                                                 | GRI  Sector  Standard  Ref. No.                                                         |\\n| Keanekaragaman dan Kesempatan yang Setara | Diversity and Equal Opportunity (PEOPLE #2)         | Keanekaragaman dan Kesempatan yang Setara | Diversity and Equal Opportunity (PEOPLE #2) | Keanekaragaman dan Kesempatan yang Setara | Diversity and Equal Opportunity (PEOPLE #2)                                                                                                                                                                                                                                                                                                                   | Keanekaragaman dan Kesempatan yang Setara | Diversity and Equal Opportunity (PEOPLE #2) | Keanekaragaman dan Kesempatan yang Setara | Diversity and Equal Opportunity (PEOPLE #2) | Keanekaragaman dan Kesempatan yang Setara | Diversity and Equal Opportunity (PEOPLE #2) | Keanekaragaman dan Kesempatan yang Setara | Diversity and Equal Opportunity (PEOPLE #2)                                                                                                                                                                                                                                | Keanekaragaman dan Kesempatan yang Setara | Diversity and Equal Opportunity (PEOPLE #2) |\\n| GRI 3:  Topik Material  2021 Material Topics  2021                                              | 3-3                                                                                     | Pengelolaan topik-topik  material Management of  material topics                                                                                                                                                                                                                                                                                                                                          | 45; 62; 63                                                                              |                                                                                         |                                                                                         |                                                                                                                                                                                                                                                                                                                        |                                                                                         |\\n| GRI 405:  Keberagaman  dan Kesempatan  yang Setara 2016 Diversity  and Equal  Opportunity  2016 | 405-1                                                                                   | Keanekaragaman  badan tata kelola dan  karyawan  Diversity of governance  bodies and employees                                                                                                                                                                                                                                                                                                            | 112                                                                                     |                                                                                         |                                                                                         |                                                                                                                                                                                                                                                                                                                        |                                                                                         |\\n|                                                                                                 | 405-2                                                                                   | Rasio gaji pokok dan  remunerasi perempuan  dibandingkan laki-laki  Ratio of basic salary and  remuneration of women  to men                                                                                                                                                                                                                                                                              | -                                                                                       | 405-2 (a)                                                                               | Batasan kerahasiaan Confidentiality  constraints                                        | Berisi informasi rahasia  termasuk data sensitif  atau pribadi yang tidak  dimaksudkan untuk  diungkapkan kepada  publik atau individu yang  tidak berwenang Contains confidential  information includes any  sensitive or private data  that is not meant to be  disclosed to the public or  unauthorized individuals |                                                                                         |\\n| Masyarakat Lokal | Local Communities (PUBLIC CONTRIBUTION #1)                                   | Masyarakat Lokal | Local Communities (PUBLIC CONTRIBUTION #1)                           | Masyarakat Lokal | Local Communities (PUBLIC CONTRIBUTION #1)                                                                                                                                                                                                                                                                                                                                             | Masyarakat Lokal | Local Communities (PUBLIC CONTRIBUTION #1)                           | Masyarakat Lokal | Local Communities (PUBLIC CONTRIBUTION #1)                           | Masyarakat Lokal | Local Communities (PUBLIC CONTRIBUTION #1)                           | Masyarakat Lokal | Local Communities (PUBLIC CONTRIBUTION #1)                                                                                                                                                                                                                                                          | Masyarakat Lokal | Local Communities (PUBLIC CONTRIBUTION #1)                           |\\n| GRI 3:  Topik Material  2021 Material Topics  2021                                              | 3-3                                                                                     | Pengelolaan topik-topik  material Management of  material topics                                                                                                                                                                                                                                                                                                                                          | 45; 62; 63;  131                                                                        |                                                                                         |                                                                                         |                                                                                                                                                                                                                                                                                                                        |                                                                                         |\\n| GRI 413:  Masyarakat Lokal  2016 Local  Communities  2016                                       | 413-1                                                                                   | Operasi dengan  keterlibatan masyarakat  lokal, penilaian  dampak dan program  pengembangan Operations with  local community  engagement, impact  assessments and  development programs 413-2 Operasi yang secara  aktual dan yang  berpotensi memiliki  dampak negatif  signifikan terhadap  masyarakat lokal Operations with  significant actual and  potential negative  impacts on local  communities | 131; 140 -                                                                              | 413-2 (a)                                                                               | Informasi  belum tersedia Information  unavailable                                      | Astra masih memastikan kemungkinan dan  sejauh mana dampak  negatif dari program  pengembangan  masyarakat dapat  ditimbulkan bagi  penerima manfaat Astra is still ensuring  the possibility and to  what extent should any                                                                                           |                                                                                         |\\n\\n| GRI 3:          | 3-3   | Pengelolaan topik-topik   |\\n|-----------------|-------|---------------------------|\\n| Topik Material  |       | material                  |\\n| 2021            |       | Management of             |\\n| Material Topics |       | material topics           |\\n| 2021            |       |                           |',\n",
       "   'type': 'Document'}],\n",
       " 'metadata': {'indicators': ['405-1'],\n",
       "  'raw_indicators': {'indicator': 'GRI 405-1'},\n",
       "  'url': 'https://www.astra.co.id/'}}"
      ]
     },
     "execution_count": 70,
     "metadata": {},
     "output_type": "execute_result"
    }
   ],
   "source": [
    "headers = {\n",
    "    \"Content-Type\": \"application/json\",\n",
    "    \"test-uid\": TEST_UID\n",
    "}\n",
    "\n",
    "payload = {\n",
    "    \"query\": \"Berapa jumlah karyawan perusahaan berdasarkan gender?\",\n",
    "    \"filter\": {\"company\": \"PT Astra International Tbk\", \"year\": 2022},\n",
    "    \"mode\": \"indicator-cls\",\n",
    "    \"top_k\": 4,\n",
    "    \"model\": \"gpt-4o-mini\"\n",
    "}\n",
    "\n",
    "response = requests.post(f\"{base_url}/api/v1/retrieval\", headers=headers, data=json.dumps(payload))\n",
    "json.loads(response.content.decode('utf-8'))"
   ]
  },
  {
   "cell_type": "markdown",
   "metadata": {},
   "source": [
    "### Generation Evaluation"
   ]
  },
  {
   "cell_type": "code",
   "execution_count": 6,
   "metadata": {},
   "outputs": [],
   "source": [
    "response_text=\"\"\"\n",
    "Berdasarkan laporan keberlanjutan PT Astra International Tbk tahun 2022, berikut adalah asosiasi industri, asosiasi keanggotaan lain, serta organisasi advokasi nasional atau internasional yang diikuti oleh Astra, di mana organisasi tersebut memiliki peran penting:\n",
    "\n",
    "### Asosiasi Industri:\n",
    "1. **Asosiasi Industri Sepeda Motor Indonesia (AISI)**\n",
    "2. **Gabungan Industri Alat Mobil dan Motor (GIAMM)**\n",
    "3. **Gabungan Industri Kendaraan Bermotor Indonesia (GAIKINDO)**\n",
    "4. **Asosiasi Asuransi Jiwa Indonesia (AAJI)**\n",
    "5. **Asosiasi Asuransi Syariah Indonesia (AASI)**\n",
    "6. **Asosiasi Asuransi Umum Indonesia (AAUI)**\n",
    "7. **Asosiasi Jasa Konstruksi Nasional (GAPENSI)**\n",
    "8. **Asosiasi Kontraktor Indonesia (AKI)**\n",
    "9. **Perhimpunan Agen Alat Berat Indonesia (PAABI)**\n",
    "10. **Gabungan Perusahaan Kelapa Sawit Indonesia (GAPKI)**\n",
    "11. **Himpunan Masyarakat Gambut Indonesia (HGI)**\n",
    "12. **Asosiasi Jalan Tol Indonesia (ATI)**\n",
    "13. **Asosiasi Logistik & Forwarder Indonesia (ALFI)**\n",
    "14. **Asosiasi Perusahaan Rental Kendaraan Indonesia (ASPERKINDO)**\n",
    "15. **Indonesian National Shipowners' Association (INSA)**\n",
    "16. **Persatuan Balai Lelang Indonesia (PERBALI)**\n",
    "17. **Asosiasi Industri Teknologi Informasi (AITI)**\n",
    "18. **Asosiasi Pengusaha Komputer Indonesia (APKOMINDO)**\n",
    "19. **Asosiasi Emiten Indonesia (AEI)**\n",
    "20. **Asosiasi Pengusaha Indonesia (APINDO)**\n",
    "21. **Kamar Dagang dan Industri Indonesia (KADIN)**\n",
    "\n",
    "### Organisasi Advokasi dan Konsorsium:\n",
    "1. **Forum Kemitraan Pembangunan Sosial Suku Anak Dalam (FKPSAD)**\n",
    "2. **Konsorsium Genom Seluruh Indonesia**\n",
    "3. **Palm Oil Genome Oil Project**\n",
    "\n",
    "### Keanggotaan Lain:\n",
    "1. **Asosiasi Perusahaan Perdagangan Barang Distributor, Keagenan dan Industri Indonesia (ARDIN INDONESIA)**\n",
    "2. **Asosiasi Perusahaan Pengadaan Komputer dan Telematika Indonesia (ASPEKMI)**\n",
    "3. **Ikatan Akuntan Indonesia (IAI)**\n",
    "4. **Indonesia Corporate Secretary Association (ICSA)**\n",
    "\n",
    "Keterlibatan Astra dalam berbagai asosiasi ini menunjukkan komitmennya untuk berkolaborasi dan berkontribusi dalam pengembangan industri serta advokasi isu-isu yang relevan di tingkat nasional dan internasional.\n",
    "\"\"\"\n",
    "reference_text=\"\"\"\n",
    "PT Astra International aktif terlibat dalam berbagai asosiasi industri dan organisasi, antara lain:\n",
    "\n",
    "1. **Asosiasi Industri:**\n",
    "   - Asosiasi Industri Sepeda Motor Indonesia (AISI)\n",
    "   - Gabungan Industri Alat Mobil dan Motor (GIAMM)\n",
    "   - Gabungan Industri Kendaraan Bermotor Indonesia (GAIKINDO)\n",
    "   - Gabungan Perusahaan Kelapa Sawit Indonesia (GAPKI)\n",
    "   - Asosiasi Jasa Konstruksi Nasional (GAPENSI)\n",
    "\n",
    "2. **Asosiasi Keanggotaan Lain:**\n",
    "   - Asosiasi Asuransi Jiwa Indonesia (AAJI)\n",
    "   - Asosiasi Asuransi Syariah Indonesia (AASI)\n",
    "   - Asosiasi Emiten Indonesia (AEI)\n",
    "   - Kamar Dagang dan Industri Indonesia (KADIN)\n",
    "\n",
    "3. **Organisasi Advokasi:**\n",
    "   - Forum Kemitraan Pembangunan Sosial Suku Anak Dalam (FKPSAD) / Orang Rimba Social Development Partnership Forum\n",
    "   - Konsorsium Genom Seluruh Indonesia\n",
    "   - Palm Oil Genome Oil Project\n",
    "\n",
    "Keterlibatan dalam organisasi-organisasi ini menunjukkan peran aktif Astra dalam membangun jaringan dan berkontribusi pada perkembangan industri serta advokasi sosial.\n",
    "\"\"\""
   ]
  },
  {
   "cell_type": "code",
   "execution_count": 7,
   "metadata": {},
   "outputs": [],
   "source": [
    "headers = {\n",
    "    \"Content-Type\": \"application/json\",\n",
    "    \"test-uid\": TEST_UID\n",
    "}\n",
    "\n",
    "payload = {\n",
    "    \"response\": response_text,\n",
    "    \"reference\": reference_text,\n",
    "}\n",
    "\n",
    "response = requests.post(f\"{base_url}/api/v1/eval/fc_metric\", headers=headers, data=json.dumps(payload))\n",
    "res_fc = json.loads(response.content.decode('utf-8'))\n",
    "res_fc"
   ]
  },
  {
   "cell_type": "code",
   "execution_count": 16,
   "metadata": {},
   "outputs": [
    {
     "data": {
      "text/plain": [
       "{'score': 0.308}"
      ]
     },
     "execution_count": 16,
     "metadata": {},
     "output_type": "execute_result"
    }
   ],
   "source": [
    "headers = {\n",
    "    \"Content-Type\": \"application/json\",\n",
    "    \"test-uid\": TEST_UID\n",
    "}\n",
    "\n",
    "payload = {\n",
    "    \"response\": response_text,\n",
    "    \"reference\": reference_text,\n",
    "    \"measure_type\": \"precision\"\n",
    "}\n",
    "\n",
    "response = requests.post(f\"{base_url}/api/v1/eval/rouge_metric\", headers=headers, data=json.dumps(payload))\n",
    "res_rouge = json.loads(response.content.decode('utf-8'))\n",
    "\n",
    "res_rouge"
   ]
  },
  {
   "cell_type": "code",
   "execution_count": null,
   "metadata": {},
   "outputs": [],
   "source": []
  }
 ],
 "metadata": {
  "kernelspec": {
   "display_name": "env",
   "language": "python",
   "name": "python3"
  },
  "language_info": {
   "codemirror_mode": {
    "name": "ipython",
    "version": 3
   },
   "file_extension": ".py",
   "mimetype": "text/x-python",
   "name": "python",
   "nbconvert_exporter": "python",
   "pygments_lexer": "ipython3",
   "version": "3.10.7"
  }
 },
 "nbformat": 4,
 "nbformat_minor": 2
}
