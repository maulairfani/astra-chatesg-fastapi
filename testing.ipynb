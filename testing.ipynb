{
 "cells": [
  {
   "cell_type": "markdown",
   "metadata": {},
   "source": [
    "# Testing ChatESG"
   ]
  },
  {
   "cell_type": "code",
   "execution_count": 2,
   "metadata": {},
   "outputs": [],
   "source": [
    "import requests\n",
    "import json"
   ]
  },
  {
   "cell_type": "code",
   "execution_count": 3,
   "metadata": {},
   "outputs": [
    {
     "data": {
      "text/plain": [
       "(b'{\"status\":\"OK\"}', 'http://localhost:8000')"
      ]
     },
     "execution_count": 3,
     "metadata": {},
     "output_type": "execute_result"
    }
   ],
   "source": [
    "TEST_UID = \"#test-uid\"\n",
    "MODE = \"local\"\n",
    "\n",
    "if MODE==\"local\":\n",
    "    base_url = 'http://localhost:8000'\n",
    "\n",
    "# Health check\n",
    "requests.get(f\"{base_url}/health\").content, base_url"
   ]
  },
  {
   "cell_type": "markdown",
   "metadata": {},
   "source": [
    "### Chat"
   ]
  },
  {
   "cell_type": "code",
   "execution_count": null,
   "metadata": {},
   "outputs": [
    {
     "name": "stdout",
     "output_type": "stream",
     "text": [
      "Chunk received: {'done': False, 'tools': ['Mengambil informasi relevan dari laporan keberlanjutan'], 'responses': [], 'sources': None, 'bsid': '4f19e8a17d8d4eac8c1c', 'bcid': 'e8f1cd0e-508f-4818-9bb8-fed11d3317fd', 'metadata': None}\n",
      "Chunk received: {'done': False, 'tools': ['Mengambil informasi relevan dari laporan keberlanjutan'], 'responses': ['Pri'], 'sources': None, 'bsid': '4f19e8a17d8d4eac8c1c', 'bcid': 'e8f1cd0e-508f-4818-9bb8-fed11d3317fd', 'metadata': None}\n",
      "Chunk received: {'done': False, 'tools': ['Mengambil informasi relevan dari laporan keberlanjutan'], 'responses': ['Prij'], 'sources': None, 'bsid': '4f19e8a17d8d4eac8c1c', 'bcid': 'e8f1cd0e-508f-4818-9bb8-fed11d3317fd', 'metadata': None}\n",
      "Chunk received: {'done': False, 'tools': ['Mengambil informasi relevan dari laporan keberlanjutan'], 'responses': ['Prijono'], 'sources': None, 'bsid': '4f19e8a17d8d4eac8c1c', 'bcid': 'e8f1cd0e-508f-4818-9bb8-fed11d3317fd', 'metadata': None}\n",
      "Chunk received: {'done': False, 'tools': ['Mengambil informasi relevan dari laporan keberlanjutan'], 'responses': ['Prijono Sug'], 'sources': None, 'bsid': '4f19e8a17d8d4eac8c1c', 'bcid': 'e8f1cd0e-508f-4818-9bb8-fed11d3317fd', 'metadata': None}\n",
      "Chunk received: {'done': False, 'tools': ['Mengambil informasi relevan dari laporan keberlanjutan'], 'responses': ['Prijono Sugiar'], 'sources': None, 'bsid': '4f19e8a17d8d4eac8c1c', 'bcid': 'e8f1cd0e-508f-4818-9bb8-fed11d3317fd', 'metadata': None}\n",
      "Chunk received: {'done': False, 'tools': ['Mengambil informasi relevan dari laporan keberlanjutan'], 'responses': ['Prijono Sugiarto'], 'sources': None, 'bsid': '4f19e8a17d8d4eac8c1c', 'bcid': 'e8f1cd0e-508f-4818-9bb8-fed11d3317fd', 'metadata': None}\n",
      "Chunk received: {'done': False, 'tools': ['Mengambil informasi relevan dari laporan keberlanjutan'], 'responses': ['Prijono Sugiarto<end_of_turn>'], 'sources': None, 'bsid': '4f19e8a17d8d4eac8c1c', 'bcid': 'e8f1cd0e-508f-4818-9bb8-fed11d3317fd', 'metadata': None}\n",
      "Chunk received: {'done': False, 'tools': ['Mengambil informasi relevan dari laporan keberlanjutan'], 'responses': ['Prijono Sugiarto<end_of_turn>\\n'], 'sources': None, 'bsid': '4f19e8a17d8d4eac8c1c', 'bcid': 'e8f1cd0e-508f-4818-9bb8-fed11d3317fd', 'metadata': None}\n",
      "Chunk received: {'done': False, 'tools': ['Mengambil informasi relevan dari laporan keberlanjutan'], 'responses': ['Prijono Sugiarto<end_of_turn>\\n<eos>'], 'sources': None, 'bsid': '4f19e8a17d8d4eac8c1c', 'bcid': 'e8f1cd0e-508f-4818-9bb8-fed11d3317fd', 'metadata': None}\n",
      "Chunk received: {'done': True, 'tools': ['Mengambil informasi relevan dari laporan keberlanjutan'], 'responses': ['Prijono Sugiarto<end_of_turn>\\n<eos>'], 'sources': [{'url': 'https://www.astra.co.id/', 'pages': [60, 59, 57, 62, 187], 'snippet': None, 'related_indicators': ['2-9']}], 'bsid': '4f19e8a17d8d4eac8c1c', 'bcid': 'e8f1cd0e-508f-4818-9bb8-fed11d3317fd', 'metadata': None}\n"
     ]
    },
    {
     "data": {
      "text/plain": [
       "{'done': True,\n",
       " 'tools': ['Mengambil informasi relevan dari laporan keberlanjutan'],\n",
       " 'responses': ['Prijono Sugiarto<end_of_turn>\\n<eos>'],\n",
       " 'sources': [{'url': 'https://www.astra.co.id/',\n",
       "   'pages': [60, 59, 57, 62, 187],\n",
       "   'snippet': None,\n",
       "   'related_indicators': ['2-9']}],\n",
       " 'bsid': '4f19e8a17d8d4eac8c1c',\n",
       " 'bcid': 'e8f1cd0e-508f-4818-9bb8-fed11d3317fd',\n",
       " 'metadata': None}"
      ]
     },
     "execution_count": 67,
     "metadata": {},
     "output_type": "execute_result"
    }
   ],
   "source": [
    "headers_chat = {\n",
    "    \"Content-Type\": \"application/json\",\n",
    "    \"test-uid\": TEST_UID\n",
    "}\n",
    "\n",
    "chat_payload = {\n",
    "    \"src\": \"skripsi\",\n",
    "    \"model\": \"Llama-3.1-8B-Instruct\",\n",
    "    \"retriever\": 'similarity',\n",
    "    \"inputs\": [\n",
    "        {\"type\": \"text\", \"role\": \"user\", \"content\": \"sebutkan nama presiden komisaris dari perusahaan\"}\n",
    "    ]\n",
    "}\n",
    "\n",
    "response = requests.post(f\"{base_url}/api/v1/chat\", headers=headers_chat, data=json.dumps(chat_payload), stream=True)\n",
    "for line in response.iter_lines():\n",
    "    if line:\n",
    "        chunk = json.loads(line.decode('utf-8'))\n",
    "        print(\"Chunk received:\", chunk)\n",
    "chunk"
   ]
  },
  {
   "cell_type": "code",
   "execution_count": 54,
   "metadata": {},
   "outputs": [
    {
     "name": "stdout",
     "output_type": "stream",
     "text": [
      "\n",
      "\n",
      "Assistant: The GHG scope 1 emission in 2023 is 4,604,076 tons CO2 -eq.</s>\n"
     ]
    }
   ],
   "source": [
    "print(chunk['responses'][-1])"
   ]
  },
  {
   "cell_type": "code",
   "execution_count": null,
   "metadata": {},
   "outputs": [],
   "source": []
  }
 ],
 "metadata": {
  "kernelspec": {
   "display_name": "env",
   "language": "python",
   "name": "python3"
  },
  "language_info": {
   "codemirror_mode": {
    "name": "ipython",
    "version": 3
   },
   "file_extension": ".py",
   "mimetype": "text/x-python",
   "name": "python",
   "nbconvert_exporter": "python",
   "pygments_lexer": "ipython3",
   "version": "3.10.7"
  }
 },
 "nbformat": 4,
 "nbformat_minor": 2
}
