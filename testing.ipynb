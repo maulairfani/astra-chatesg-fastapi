{
 "cells": [
  {
   "cell_type": "markdown",
   "metadata": {},
   "source": [
    "# Testing ChatESG"
   ]
  },
  {
   "cell_type": "code",
   "execution_count": 2,
   "metadata": {},
   "outputs": [],
   "source": [
    "import requests\n",
    "import json"
   ]
  },
  {
   "cell_type": "code",
   "execution_count": 3,
   "metadata": {},
   "outputs": [
    {
     "data": {
      "text/plain": [
       "(b'{\"status\":\"OK\"}', 'http://localhost:8000')"
      ]
     },
     "execution_count": 3,
     "metadata": {},
     "output_type": "execute_result"
    }
   ],
   "source": [
    "TEST_UID = \"#test-uid\"\n",
    "MODE = \"local\"\n",
    "\n",
    "if MODE==\"local\":\n",
    "    base_url = 'http://localhost:8000'\n",
    "\n",
    "# Health check\n",
    "requests.get(f\"{base_url}/health\").content, base_url"
   ]
  },
  {
   "cell_type": "markdown",
   "metadata": {},
   "source": [
    "### Chat"
   ]
  },
  {
   "cell_type": "code",
   "execution_count": 101,
   "metadata": {},
   "outputs": [
    {
     "name": "stdout",
     "output_type": "stream",
     "text": [
      "Chunk received: {'done': False, 'tools': ['Mengambil informasi relevan dari laporan keberlanjutan'], 'responses': [], 'sources': None, 'bsid': 'aca43de8ae004a46a69c', 'bcid': 'ebdce24d-cff8-4676-aaad-b678393b3183', 'metadata': None}\n",
      "Chunk received: {'done': False, 'tools': ['Mengambil informasi relevan dari laporan keberlanjutan'], 'responses': [''], 'sources': None, 'bsid': 'aca43de8ae004a46a69c', 'bcid': 'ebdce24d-cff8-4676-aaad-b678393b3183', 'metadata': None}\n",
      "Chunk received: {'done': False, 'tools': ['Mengambil informasi relevan dari laporan keberlanjutan'], 'responses': ['Pres'], 'sources': None, 'bsid': 'aca43de8ae004a46a69c', 'bcid': 'ebdce24d-cff8-4676-aaad-b678393b3183', 'metadata': None}\n",
      "Chunk received: {'done': False, 'tools': ['Mengambil informasi relevan dari laporan keberlanjutan'], 'responses': ['Presiden'], 'sources': None, 'bsid': 'aca43de8ae004a46a69c', 'bcid': 'ebdce24d-cff8-4676-aaad-b678393b3183', 'metadata': None}\n",
      "Chunk received: {'done': False, 'tools': ['Mengambil informasi relevan dari laporan keberlanjutan'], 'responses': ['Presiden Direkt'], 'sources': None, 'bsid': 'aca43de8ae004a46a69c', 'bcid': 'ebdce24d-cff8-4676-aaad-b678393b3183', 'metadata': None}\n",
      "Chunk received: {'done': False, 'tools': ['Mengambil informasi relevan dari laporan keberlanjutan'], 'responses': ['Presiden Direktur'], 'sources': None, 'bsid': 'aca43de8ae004a46a69c', 'bcid': 'ebdce24d-cff8-4676-aaad-b678393b3183', 'metadata': None}\n",
      "Chunk received: {'done': False, 'tools': ['Mengambil informasi relevan dari laporan keberlanjutan'], 'responses': ['Presiden Direktur PT'], 'sources': None, 'bsid': 'aca43de8ae004a46a69c', 'bcid': 'ebdce24d-cff8-4676-aaad-b678393b3183', 'metadata': None}\n",
      "Chunk received: {'done': False, 'tools': ['Mengambil informasi relevan dari laporan keberlanjutan'], 'responses': ['Presiden Direktur PT Astra'], 'sources': None, 'bsid': 'aca43de8ae004a46a69c', 'bcid': 'ebdce24d-cff8-4676-aaad-b678393b3183', 'metadata': None}\n",
      "Chunk received: {'done': False, 'tools': ['Mengambil informasi relevan dari laporan keberlanjutan'], 'responses': ['Presiden Direktur PT Astra International'], 'sources': None, 'bsid': 'aca43de8ae004a46a69c', 'bcid': 'ebdce24d-cff8-4676-aaad-b678393b3183', 'metadata': None}\n",
      "Chunk received: {'done': False, 'tools': ['Mengambil informasi relevan dari laporan keberlanjutan'], 'responses': ['Presiden Direktur PT Astra International T'], 'sources': None, 'bsid': 'aca43de8ae004a46a69c', 'bcid': 'ebdce24d-cff8-4676-aaad-b678393b3183', 'metadata': None}\n",
      "Chunk received: {'done': False, 'tools': ['Mengambil informasi relevan dari laporan keberlanjutan'], 'responses': ['Presiden Direktur PT Astra International Tbk'], 'sources': None, 'bsid': 'aca43de8ae004a46a69c', 'bcid': 'ebdce24d-cff8-4676-aaad-b678393b3183', 'metadata': None}\n",
      "Chunk received: {'done': False, 'tools': ['Mengambil informasi relevan dari laporan keberlanjutan'], 'responses': ['Presiden Direktur PT Astra International Tbk adalah'], 'sources': None, 'bsid': 'aca43de8ae004a46a69c', 'bcid': 'ebdce24d-cff8-4676-aaad-b678393b3183', 'metadata': None}\n",
      "Chunk received: {'done': False, 'tools': ['Mengambil informasi relevan dari laporan keberlanjutan'], 'responses': ['Presiden Direktur PT Astra International Tbk adalah Dj'], 'sources': None, 'bsid': 'aca43de8ae004a46a69c', 'bcid': 'ebdce24d-cff8-4676-aaad-b678393b3183', 'metadata': None}\n",
      "Chunk received: {'done': False, 'tools': ['Mengambil informasi relevan dari laporan keberlanjutan'], 'responses': ['Presiden Direktur PT Astra International Tbk adalah Djony'], 'sources': None, 'bsid': 'aca43de8ae004a46a69c', 'bcid': 'ebdce24d-cff8-4676-aaad-b678393b3183', 'metadata': None}\n",
      "Chunk received: {'done': False, 'tools': ['Mengambil informasi relevan dari laporan keberlanjutan'], 'responses': ['Presiden Direktur PT Astra International Tbk adalah Djony Bun'], 'sources': None, 'bsid': 'aca43de8ae004a46a69c', 'bcid': 'ebdce24d-cff8-4676-aaad-b678393b3183', 'metadata': None}\n",
      "Chunk received: {'done': False, 'tools': ['Mengambil informasi relevan dari laporan keberlanjutan'], 'responses': ['Presiden Direktur PT Astra International Tbk adalah Djony Bunarto'], 'sources': None, 'bsid': 'aca43de8ae004a46a69c', 'bcid': 'ebdce24d-cff8-4676-aaad-b678393b3183', 'metadata': None}\n",
      "Chunk received: {'done': False, 'tools': ['Mengambil informasi relevan dari laporan keberlanjutan'], 'responses': ['Presiden Direktur PT Astra International Tbk adalah Djony Bunarto T'], 'sources': None, 'bsid': 'aca43de8ae004a46a69c', 'bcid': 'ebdce24d-cff8-4676-aaad-b678393b3183', 'metadata': None}\n",
      "Chunk received: {'done': False, 'tools': ['Mengambil informasi relevan dari laporan keberlanjutan'], 'responses': ['Presiden Direktur PT Astra International Tbk adalah Djony Bunarto Tj'], 'sources': None, 'bsid': 'aca43de8ae004a46a69c', 'bcid': 'ebdce24d-cff8-4676-aaad-b678393b3183', 'metadata': None}\n",
      "Chunk received: {'done': False, 'tools': ['Mengambil informasi relevan dari laporan keberlanjutan'], 'responses': ['Presiden Direktur PT Astra International Tbk adalah Djony Bunarto Tjondro'], 'sources': None, 'bsid': 'aca43de8ae004a46a69c', 'bcid': 'ebdce24d-cff8-4676-aaad-b678393b3183', 'metadata': None}\n",
      "Chunk received: {'done': False, 'tools': ['Mengambil informasi relevan dari laporan keberlanjutan'], 'responses': ['Presiden Direktur PT Astra International Tbk adalah Djony Bunarto Tjondro.'], 'sources': None, 'bsid': 'aca43de8ae004a46a69c', 'bcid': 'ebdce24d-cff8-4676-aaad-b678393b3183', 'metadata': None}\n",
      "Chunk received: {'done': False, 'tools': ['Mengambil informasi relevan dari laporan keberlanjutan'], 'responses': ['Presiden Direktur PT Astra International Tbk adalah Djony Bunarto Tjondro.'], 'sources': None, 'bsid': 'aca43de8ae004a46a69c', 'bcid': 'ebdce24d-cff8-4676-aaad-b678393b3183', 'metadata': None}\n",
      "Chunk received: {'done': True, 'tools': ['Mengambil informasi relevan dari laporan keberlanjutan'], 'responses': ['Presiden Direktur PT Astra International Tbk adalah Djony Bunarto Tjondro.'], 'sources': [{'url': 'https://www.astra.co.id/', 'pages': [60, 61, 30, 59], 'snippet': None, 'related_indicators': None}], 'bsid': 'aca43de8ae004a46a69c', 'bcid': 'ebdce24d-cff8-4676-aaad-b678393b3183', 'metadata': None}\n"
     ]
    },
    {
     "data": {
      "text/plain": [
       "{'done': True,\n",
       " 'tools': ['Mengambil informasi relevan dari laporan keberlanjutan'],\n",
       " 'responses': ['Presiden Direktur PT Astra International Tbk adalah Djony Bunarto Tjondro.'],\n",
       " 'sources': [{'url': 'https://www.astra.co.id/',\n",
       "   'pages': [60, 61, 30, 59],\n",
       "   'snippet': None,\n",
       "   'related_indicators': None}],\n",
       " 'bsid': 'aca43de8ae004a46a69c',\n",
       " 'bcid': 'ebdce24d-cff8-4676-aaad-b678393b3183',\n",
       " 'metadata': None}"
      ]
     },
     "execution_count": 101,
     "metadata": {},
     "output_type": "execute_result"
    }
   ],
   "source": [
    "headers_chat = {\n",
    "    \"Content-Type\": \"application/json\",\n",
    "    \"test-uid\": TEST_UID\n",
    "}\n",
    "\n",
    "chat_payload = {\n",
    "    \"src\": \"skripsi\",\n",
    "    \"model\": \"gpt-4o-mini\",\n",
    "    # \"model\": 'gemma-2-27b-it',\n",
    "    # \"bsid\": \"7f79f395c3564549be52\",\n",
    "    \"retriever\": 'similarity',\n",
    "    \"top_k\": 4,\n",
    "    \"inputs\": [\n",
    "        # {\"type\": \"text\", \"role\": \"user\", \"content\": \"sebutkan nama presiden komisaris dari perusahaan\"}\n",
    "        {\"type\": \"text\", \"role\": \"user\", \"content\": \"kalau presiden direkturnya siapa?\"}\n",
    "    ]\n",
    "}\n",
    "\n",
    "response = requests.post(f\"{base_url}/api/v1/chat\", headers=headers_chat, data=json.dumps(chat_payload), stream=True)\n",
    "for line in response.iter_lines():\n",
    "    if line:\n",
    "        chunk = json.loads(line.decode('utf-8'))\n",
    "        print(\"Chunk received:\", chunk)\n",
    "chunk"
   ]
  },
  {
   "cell_type": "code",
   "execution_count": null,
   "metadata": {},
   "outputs": [],
   "source": []
  }
 ],
 "metadata": {
  "kernelspec": {
   "display_name": "env",
   "language": "python",
   "name": "python3"
  },
  "language_info": {
   "codemirror_mode": {
    "name": "ipython",
    "version": 3
   },
   "file_extension": ".py",
   "mimetype": "text/x-python",
   "name": "python",
   "nbconvert_exporter": "python",
   "pygments_lexer": "ipython3",
   "version": "3.10.7"
  }
 },
 "nbformat": 4,
 "nbformat_minor": 2
}
