{
 "cells": [
  {
   "cell_type": "markdown",
   "metadata": {},
   "source": [
    "# Testing ChatESG"
   ]
  },
  {
   "cell_type": "code",
   "execution_count": 1,
   "metadata": {},
   "outputs": [],
   "source": [
    "import requests\n",
    "import json"
   ]
  },
  {
   "cell_type": "code",
   "execution_count": 2,
   "metadata": {},
   "outputs": [
    {
     "data": {
      "text/plain": [
       "(b'{\"status\":\"OK\"}', 'http://localhost:8000')"
      ]
     },
     "execution_count": 2,
     "metadata": {},
     "output_type": "execute_result"
    }
   ],
   "source": [
    "TEST_UID = \"#test-uid\"\n",
    "MODE = \"local\"\n",
    "\n",
    "if MODE==\"local\":\n",
    "    base_url = 'http://localhost:8000'\n",
    "\n",
    "# Health check\n",
    "requests.get(f\"{base_url}/health\").content, base_url"
   ]
  },
  {
   "cell_type": "markdown",
   "metadata": {},
   "source": [
    "### Chat"
   ]
  },
  {
   "cell_type": "code",
   "execution_count": 5,
   "metadata": {},
   "outputs": [
    {
     "name": "stdout",
     "output_type": "stream",
     "text": [
      "Chunk received: {'done': False, 'tools': ['Respon diterima'], 'responses': [], 'sources': None, 'bsid': 'c3521d7d4d0e414ca23e', 'bcid': 'b78cbffd-f773-4c6b-8028-13c2b3b91cec', 'metadata': None}\n",
      "Chunk received: {'done': False, 'tools': ['Respon diterima'], 'responses': [''], 'sources': None, 'bsid': 'c3521d7d4d0e414ca23e', 'bcid': 'b78cbffd-f773-4c6b-8028-13c2b3b91cec', 'metadata': None}\n",
      "Chunk received: {'done': False, 'tools': ['Respon diterima'], 'responses': ['Total'], 'sources': None, 'bsid': 'c3521d7d4d0e414ca23e', 'bcid': 'b78cbffd-f773-4c6b-8028-13c2b3b91cec', 'metadata': None}\n",
      "Chunk received: {'done': False, 'tools': ['Respon diterima'], 'responses': ['Total em'], 'sources': None, 'bsid': 'c3521d7d4d0e414ca23e', 'bcid': 'b78cbffd-f773-4c6b-8028-13c2b3b91cec', 'metadata': None}\n",
      "Chunk received: {'done': False, 'tools': ['Respon diterima'], 'responses': ['Total emisi'], 'sources': None, 'bsid': 'c3521d7d4d0e414ca23e', 'bcid': 'b78cbffd-f773-4c6b-8028-13c2b3b91cec', 'metadata': None}\n",
      "Chunk received: {'done': False, 'tools': ['Respon diterima'], 'responses': ['Total emisi gas'], 'sources': None, 'bsid': 'c3521d7d4d0e414ca23e', 'bcid': 'b78cbffd-f773-4c6b-8028-13c2b3b91cec', 'metadata': None}\n",
      "Chunk received: {'done': False, 'tools': ['Respon diterima'], 'responses': ['Total emisi gas rumah'], 'sources': None, 'bsid': 'c3521d7d4d0e414ca23e', 'bcid': 'b78cbffd-f773-4c6b-8028-13c2b3b91cec', 'metadata': None}\n",
      "Chunk received: {'done': False, 'tools': ['Respon diterima'], 'responses': ['Total emisi gas rumah kaca'], 'sources': None, 'bsid': 'c3521d7d4d0e414ca23e', 'bcid': 'b78cbffd-f773-4c6b-8028-13c2b3b91cec', 'metadata': None}\n",
      "Chunk received: {'done': False, 'tools': ['Respon diterima'], 'responses': ['Total emisi gas rumah kaca langsung'], 'sources': None, 'bsid': 'c3521d7d4d0e414ca23e', 'bcid': 'b78cbffd-f773-4c6b-8028-13c2b3b91cec', 'metadata': None}\n",
      "Chunk received: {'done': False, 'tools': ['Respon diterima'], 'responses': ['Total emisi gas rumah kaca langsung ('], 'sources': None, 'bsid': 'c3521d7d4d0e414ca23e', 'bcid': 'b78cbffd-f773-4c6b-8028-13c2b3b91cec', 'metadata': None}\n",
      "Chunk received: {'done': False, 'tools': ['Respon diterima'], 'responses': ['Total emisi gas rumah kaca langsung (Scope'], 'sources': None, 'bsid': 'c3521d7d4d0e414ca23e', 'bcid': 'b78cbffd-f773-4c6b-8028-13c2b3b91cec', 'metadata': None}\n",
      "Chunk received: {'done': False, 'tools': ['Respon diterima'], 'responses': ['Total emisi gas rumah kaca langsung (Scope '], 'sources': None, 'bsid': 'c3521d7d4d0e414ca23e', 'bcid': 'b78cbffd-f773-4c6b-8028-13c2b3b91cec', 'metadata': None}\n",
      "Chunk received: {'done': False, 'tools': ['Respon diterima'], 'responses': ['Total emisi gas rumah kaca langsung (Scope 1'], 'sources': None, 'bsid': 'c3521d7d4d0e414ca23e', 'bcid': 'b78cbffd-f773-4c6b-8028-13c2b3b91cec', 'metadata': None}\n",
      "Chunk received: {'done': False, 'tools': ['Respon diterima'], 'responses': ['Total emisi gas rumah kaca langsung (Scope 1)'], 'sources': None, 'bsid': 'c3521d7d4d0e414ca23e', 'bcid': 'b78cbffd-f773-4c6b-8028-13c2b3b91cec', 'metadata': None}\n",
      "Chunk received: {'done': False, 'tools': ['Respon diterima'], 'responses': ['Total emisi gas rumah kaca langsung (Scope 1) yang'], 'sources': None, 'bsid': 'c3521d7d4d0e414ca23e', 'bcid': 'b78cbffd-f773-4c6b-8028-13c2b3b91cec', 'metadata': None}\n",
      "Chunk received: {'done': False, 'tools': ['Respon diterima'], 'responses': ['Total emisi gas rumah kaca langsung (Scope 1) yang di'], 'sources': None, 'bsid': 'c3521d7d4d0e414ca23e', 'bcid': 'b78cbffd-f773-4c6b-8028-13c2b3b91cec', 'metadata': None}\n",
      "Chunk received: {'done': False, 'tools': ['Respon diterima'], 'responses': ['Total emisi gas rumah kaca langsung (Scope 1) yang dihasilkan'], 'sources': None, 'bsid': 'c3521d7d4d0e414ca23e', 'bcid': 'b78cbffd-f773-4c6b-8028-13c2b3b91cec', 'metadata': None}\n",
      "Chunk received: {'done': False, 'tools': ['Respon diterima'], 'responses': ['Total emisi gas rumah kaca langsung (Scope 1) yang dihasilkan oleh'], 'sources': None, 'bsid': 'c3521d7d4d0e414ca23e', 'bcid': 'b78cbffd-f773-4c6b-8028-13c2b3b91cec', 'metadata': None}\n",
      "Chunk received: {'done': False, 'tools': ['Respon diterima'], 'responses': ['Total emisi gas rumah kaca langsung (Scope 1) yang dihasilkan oleh PT'], 'sources': None, 'bsid': 'c3521d7d4d0e414ca23e', 'bcid': 'b78cbffd-f773-4c6b-8028-13c2b3b91cec', 'metadata': None}\n",
      "Chunk received: {'done': False, 'tools': ['Respon diterima'], 'responses': ['Total emisi gas rumah kaca langsung (Scope 1) yang dihasilkan oleh PT Astra'], 'sources': None, 'bsid': 'c3521d7d4d0e414ca23e', 'bcid': 'b78cbffd-f773-4c6b-8028-13c2b3b91cec', 'metadata': None}\n",
      "Chunk received: {'done': False, 'tools': ['Respon diterima'], 'responses': ['Total emisi gas rumah kaca langsung (Scope 1) yang dihasilkan oleh PT Astra International'], 'sources': None, 'bsid': 'c3521d7d4d0e414ca23e', 'bcid': 'b78cbffd-f773-4c6b-8028-13c2b3b91cec', 'metadata': None}\n",
      "Chunk received: {'done': False, 'tools': ['Respon diterima'], 'responses': ['Total emisi gas rumah kaca langsung (Scope 1) yang dihasilkan oleh PT Astra International T'], 'sources': None, 'bsid': 'c3521d7d4d0e414ca23e', 'bcid': 'b78cbffd-f773-4c6b-8028-13c2b3b91cec', 'metadata': None}\n",
      "Chunk received: {'done': False, 'tools': ['Respon diterima'], 'responses': ['Total emisi gas rumah kaca langsung (Scope 1) yang dihasilkan oleh PT Astra International Tbk'], 'sources': None, 'bsid': 'c3521d7d4d0e414ca23e', 'bcid': 'b78cbffd-f773-4c6b-8028-13c2b3b91cec', 'metadata': None}\n",
      "Chunk received: {'done': False, 'tools': ['Respon diterima'], 'responses': ['Total emisi gas rumah kaca langsung (Scope 1) yang dihasilkan oleh PT Astra International Tbk pada'], 'sources': None, 'bsid': 'c3521d7d4d0e414ca23e', 'bcid': 'b78cbffd-f773-4c6b-8028-13c2b3b91cec', 'metadata': None}\n",
      "Chunk received: {'done': False, 'tools': ['Respon diterima'], 'responses': ['Total emisi gas rumah kaca langsung (Scope 1) yang dihasilkan oleh PT Astra International Tbk pada tahun'], 'sources': None, 'bsid': 'c3521d7d4d0e414ca23e', 'bcid': 'b78cbffd-f773-4c6b-8028-13c2b3b91cec', 'metadata': None}\n",
      "Chunk received: {'done': False, 'tools': ['Respon diterima'], 'responses': ['Total emisi gas rumah kaca langsung (Scope 1) yang dihasilkan oleh PT Astra International Tbk pada tahun '], 'sources': None, 'bsid': 'c3521d7d4d0e414ca23e', 'bcid': 'b78cbffd-f773-4c6b-8028-13c2b3b91cec', 'metadata': None}\n",
      "Chunk received: {'done': False, 'tools': ['Respon diterima'], 'responses': ['Total emisi gas rumah kaca langsung (Scope 1) yang dihasilkan oleh PT Astra International Tbk pada tahun 202'], 'sources': None, 'bsid': 'c3521d7d4d0e414ca23e', 'bcid': 'b78cbffd-f773-4c6b-8028-13c2b3b91cec', 'metadata': None}\n",
      "Chunk received: {'done': False, 'tools': ['Respon diterima'], 'responses': ['Total emisi gas rumah kaca langsung (Scope 1) yang dihasilkan oleh PT Astra International Tbk pada tahun 2023'], 'sources': None, 'bsid': 'c3521d7d4d0e414ca23e', 'bcid': 'b78cbffd-f773-4c6b-8028-13c2b3b91cec', 'metadata': None}\n",
      "Chunk received: {'done': False, 'tools': ['Respon diterima'], 'responses': ['Total emisi gas rumah kaca langsung (Scope 1) yang dihasilkan oleh PT Astra International Tbk pada tahun 2023 adalah'], 'sources': None, 'bsid': 'c3521d7d4d0e414ca23e', 'bcid': 'b78cbffd-f773-4c6b-8028-13c2b3b91cec', 'metadata': None}\n",
      "Chunk received: {'done': False, 'tools': ['Respon diterima'], 'responses': ['Total emisi gas rumah kaca langsung (Scope 1) yang dihasilkan oleh PT Astra International Tbk pada tahun 2023 adalah sebesar'], 'sources': None, 'bsid': 'c3521d7d4d0e414ca23e', 'bcid': 'b78cbffd-f773-4c6b-8028-13c2b3b91cec', 'metadata': None}\n",
      "Chunk received: {'done': False, 'tools': ['Respon diterima'], 'responses': ['Total emisi gas rumah kaca langsung (Scope 1) yang dihasilkan oleh PT Astra International Tbk pada tahun 2023 adalah sebesar '], 'sources': None, 'bsid': 'c3521d7d4d0e414ca23e', 'bcid': 'b78cbffd-f773-4c6b-8028-13c2b3b91cec', 'metadata': None}\n",
      "Chunk received: {'done': False, 'tools': ['Respon diterima'], 'responses': ['Total emisi gas rumah kaca langsung (Scope 1) yang dihasilkan oleh PT Astra International Tbk pada tahun 2023 adalah sebesar 4'], 'sources': None, 'bsid': 'c3521d7d4d0e414ca23e', 'bcid': 'b78cbffd-f773-4c6b-8028-13c2b3b91cec', 'metadata': None}\n",
      "Chunk received: {'done': False, 'tools': ['Respon diterima'], 'responses': ['Total emisi gas rumah kaca langsung (Scope 1) yang dihasilkan oleh PT Astra International Tbk pada tahun 2023 adalah sebesar 4,'], 'sources': None, 'bsid': 'c3521d7d4d0e414ca23e', 'bcid': 'b78cbffd-f773-4c6b-8028-13c2b3b91cec', 'metadata': None}\n",
      "Chunk received: {'done': False, 'tools': ['Respon diterima'], 'responses': ['Total emisi gas rumah kaca langsung (Scope 1) yang dihasilkan oleh PT Astra International Tbk pada tahun 2023 adalah sebesar 4,604'], 'sources': None, 'bsid': 'c3521d7d4d0e414ca23e', 'bcid': 'b78cbffd-f773-4c6b-8028-13c2b3b91cec', 'metadata': None}\n",
      "Chunk received: {'done': False, 'tools': ['Respon diterima'], 'responses': ['Total emisi gas rumah kaca langsung (Scope 1) yang dihasilkan oleh PT Astra International Tbk pada tahun 2023 adalah sebesar 4,604,'], 'sources': None, 'bsid': 'c3521d7d4d0e414ca23e', 'bcid': 'b78cbffd-f773-4c6b-8028-13c2b3b91cec', 'metadata': None}\n",
      "Chunk received: {'done': False, 'tools': ['Respon diterima'], 'responses': ['Total emisi gas rumah kaca langsung (Scope 1) yang dihasilkan oleh PT Astra International Tbk pada tahun 2023 adalah sebesar 4,604,076'], 'sources': None, 'bsid': 'c3521d7d4d0e414ca23e', 'bcid': 'b78cbffd-f773-4c6b-8028-13c2b3b91cec', 'metadata': None}\n",
      "Chunk received: {'done': False, 'tools': ['Respon diterima'], 'responses': ['Total emisi gas rumah kaca langsung (Scope 1) yang dihasilkan oleh PT Astra International Tbk pada tahun 2023 adalah sebesar 4,604,076 ton'], 'sources': None, 'bsid': 'c3521d7d4d0e414ca23e', 'bcid': 'b78cbffd-f773-4c6b-8028-13c2b3b91cec', 'metadata': None}\n",
      "Chunk received: {'done': False, 'tools': ['Respon diterima'], 'responses': ['Total emisi gas rumah kaca langsung (Scope 1) yang dihasilkan oleh PT Astra International Tbk pada tahun 2023 adalah sebesar 4,604,076 ton CO'], 'sources': None, 'bsid': 'c3521d7d4d0e414ca23e', 'bcid': 'b78cbffd-f773-4c6b-8028-13c2b3b91cec', 'metadata': None}\n",
      "Chunk received: {'done': False, 'tools': ['Respon diterima'], 'responses': ['Total emisi gas rumah kaca langsung (Scope 1) yang dihasilkan oleh PT Astra International Tbk pada tahun 2023 adalah sebesar 4,604,076 ton CO2'], 'sources': None, 'bsid': 'c3521d7d4d0e414ca23e', 'bcid': 'b78cbffd-f773-4c6b-8028-13c2b3b91cec', 'metadata': None}\n",
      "Chunk received: {'done': False, 'tools': ['Respon diterima'], 'responses': ['Total emisi gas rumah kaca langsung (Scope 1) yang dihasilkan oleh PT Astra International Tbk pada tahun 2023 adalah sebesar 4,604,076 ton CO2-e'], 'sources': None, 'bsid': 'c3521d7d4d0e414ca23e', 'bcid': 'b78cbffd-f773-4c6b-8028-13c2b3b91cec', 'metadata': None}\n",
      "Chunk received: {'done': False, 'tools': ['Respon diterima'], 'responses': ['Total emisi gas rumah kaca langsung (Scope 1) yang dihasilkan oleh PT Astra International Tbk pada tahun 2023 adalah sebesar 4,604,076 ton CO2-eq'], 'sources': None, 'bsid': 'c3521d7d4d0e414ca23e', 'bcid': 'b78cbffd-f773-4c6b-8028-13c2b3b91cec', 'metadata': None}\n",
      "Chunk received: {'done': False, 'tools': ['Respon diterima'], 'responses': ['Total emisi gas rumah kaca langsung (Scope 1) yang dihasilkan oleh PT Astra International Tbk pada tahun 2023 adalah sebesar 4,604,076 ton CO2-eq.'], 'sources': None, 'bsid': 'c3521d7d4d0e414ca23e', 'bcid': 'b78cbffd-f773-4c6b-8028-13c2b3b91cec', 'metadata': None}\n",
      "Chunk received: {'done': False, 'tools': ['Respon diterima'], 'responses': ['Total emisi gas rumah kaca langsung (Scope 1) yang dihasilkan oleh PT Astra International Tbk pada tahun 2023 adalah sebesar 4,604,076 ton CO2-eq.'], 'sources': None, 'bsid': 'c3521d7d4d0e414ca23e', 'bcid': 'b78cbffd-f773-4c6b-8028-13c2b3b91cec', 'metadata': None}\n",
      "Chunk received: {'done': True, 'tools': ['Respon diterima'], 'responses': ['Total emisi gas rumah kaca langsung (Scope 1) yang dihasilkan oleh PT Astra International Tbk pada tahun 2023 adalah sebesar 4,604,076 ton CO2-eq.'], 'sources': [{'url': 'https://example.com', 'pages': [1, 2, 3], 'snippet': 'this is snippet...'}], 'bsid': 'c3521d7d4d0e414ca23e', 'bcid': 'b78cbffd-f773-4c6b-8028-13c2b3b91cec', 'metadata': None}\n"
     ]
    },
    {
     "data": {
      "text/plain": [
       "{'done': True,\n",
       " 'tools': ['Respon diterima'],\n",
       " 'responses': ['Total emisi gas rumah kaca langsung (Scope 1) yang dihasilkan oleh PT Astra International Tbk pada tahun 2023 adalah sebesar 4,604,076 ton CO2-eq.'],\n",
       " 'sources': [{'url': 'https://example.com',\n",
       "   'pages': [1, 2, 3],\n",
       "   'snippet': 'this is snippet...'}],\n",
       " 'bsid': 'c3521d7d4d0e414ca23e',\n",
       " 'bcid': 'b78cbffd-f773-4c6b-8028-13c2b3b91cec',\n",
       " 'metadata': None}"
      ]
     },
     "execution_count": 5,
     "metadata": {},
     "output_type": "execute_result"
    }
   ],
   "source": [
    "headers_chat = {\n",
    "    \"Content-Type\": \"application/json\",\n",
    "    \"test-uid\": TEST_UID\n",
    "}\n",
    "\n",
    "chat_payload = {\n",
    "    \"src\": \"skripsi\",\n",
    "    \"model\": \"gpt-4o-mini\",\n",
    "    # \"bsid\": \"c23aabb84ff24825be7d\",\n",
    "    \"inputs\": [\n",
    "        # {\"type\": \"text\", \"role\": \"user\", \"content\": \"hai apa itu esg, jelasin secara singkat\"}\n",
    "        # {\"type\": \"text\", \"role\": \"user\", \"content\": \"sebutkan 5 jenis inisiatif esg\"}\n",
    "        {\"type\": \"text\", \"role\": \"user\", \"content\": \"Berapakah total emisi gas rumah kaca langsung yang dihasilkan tahun 2023?\"}\n",
    "    ]\n",
    "}\n",
    "\n",
    "response = requests.post(f\"{base_url}/api/v1/chat\", headers=headers_chat, data=json.dumps(chat_payload), stream=True)\n",
    "for line in response.iter_lines():\n",
    "    if line:\n",
    "        chunk = json.loads(line.decode('utf-8'))\n",
    "        print(\"Chunk received:\", chunk)\n",
    "chunk"
   ]
  },
  {
   "cell_type": "code",
   "execution_count": null,
   "metadata": {},
   "outputs": [],
   "source": []
  }
 ],
 "metadata": {
  "kernelspec": {
   "display_name": "env",
   "language": "python",
   "name": "python3"
  },
  "language_info": {
   "codemirror_mode": {
    "name": "ipython",
    "version": 3
   },
   "file_extension": ".py",
   "mimetype": "text/x-python",
   "name": "python",
   "nbconvert_exporter": "python",
   "pygments_lexer": "ipython3",
   "version": "3.10.7"
  }
 },
 "nbformat": 4,
 "nbformat_minor": 2
}
