{
 "cells": [
  {
   "cell_type": "markdown",
   "metadata": {},
   "source": [
    "# Testing ChatESG"
   ]
  },
  {
   "cell_type": "code",
   "execution_count": 2,
   "metadata": {},
   "outputs": [],
   "source": [
    "import requests\n",
    "import json"
   ]
  },
  {
   "cell_type": "code",
   "execution_count": 3,
   "metadata": {},
   "outputs": [
    {
     "data": {
      "text/plain": [
       "(b'{\"status\":\"OK\"}', 'http://localhost:8000')"
      ]
     },
     "execution_count": 3,
     "metadata": {},
     "output_type": "execute_result"
    }
   ],
   "source": [
    "TEST_UID = \"#test-uid\"\n",
    "MODE = \"local\"\n",
    "\n",
    "if MODE==\"local\":\n",
    "    base_url = 'http://localhost:8000'\n",
    "\n",
    "# Health check\n",
    "requests.get(f\"{base_url}/health\").content, base_url"
   ]
  },
  {
   "cell_type": "markdown",
   "metadata": {},
   "source": [
    "### Chat"
   ]
  },
  {
   "cell_type": "code",
   "execution_count": 59,
   "metadata": {},
   "outputs": [
    {
     "name": "stdout",
     "output_type": "stream",
     "text": [
      "Chunk received: {'done': False, 'tools': ['Mengambil informasi relevan dari laporan keberlanjutan'], 'responses': [], 'sources': None, 'bsid': '0dc793ada0464ff19c3b', 'bcid': '13dc8652-b4d0-4dc7-9185-d6573c0e6973', 'metadata': None}\n",
      "Chunk received: {'done': False, 'tools': ['Mengambil informasi relevan dari laporan keberlanjutan'], 'responses': [' Astra'], 'sources': None, 'bsid': '0dc793ada0464ff19c3b', 'bcid': '13dc8652-b4d0-4dc7-9185-d6573c0e6973', 'metadata': None}\n",
      "Chunk received: {'done': False, 'tools': ['Mengambil informasi relevan dari laporan keberlanjutan'], 'responses': [' Astra International'], 'sources': None, 'bsid': '0dc793ada0464ff19c3b', 'bcid': '13dc8652-b4d0-4dc7-9185-d6573c0e6973', 'metadata': None}\n",
      "Chunk received: {'done': False, 'tools': ['Mengambil informasi relevan dari laporan keberlanjutan'], 'responses': [' Astra International T'], 'sources': None, 'bsid': '0dc793ada0464ff19c3b', 'bcid': '13dc8652-b4d0-4dc7-9185-d6573c0e6973', 'metadata': None}\n",
      "Chunk received: {'done': False, 'tools': ['Mengambil informasi relevan dari laporan keberlanjutan'], 'responses': [' Astra International Tbk'], 'sources': None, 'bsid': '0dc793ada0464ff19c3b', 'bcid': '13dc8652-b4d0-4dc7-9185-d6573c0e6973', 'metadata': None}\n",
      "Chunk received: {'done': False, 'tools': ['Mengambil informasi relevan dari laporan keberlanjutan'], 'responses': [' Astra International Tbk.'], 'sources': None, 'bsid': '0dc793ada0464ff19c3b', 'bcid': '13dc8652-b4d0-4dc7-9185-d6573c0e6973', 'metadata': None}\n",
      "Chunk received: {'done': False, 'tools': ['Mengambil informasi relevan dari laporan keberlanjutan'], 'responses': [' Astra International Tbk.\\n\\n'], 'sources': None, 'bsid': '0dc793ada0464ff19c3b', 'bcid': '13dc8652-b4d0-4dc7-9185-d6573c0e6973', 'metadata': None}\n",
      "Chunk received: {'done': False, 'tools': ['Mengambil informasi relevan dari laporan keberlanjutan'], 'responses': [' Astra International Tbk.\\n\\nAnswer'], 'sources': None, 'bsid': '0dc793ada0464ff19c3b', 'bcid': '13dc8652-b4d0-4dc7-9185-d6573c0e6973', 'metadata': None}\n",
      "Chunk received: {'done': False, 'tools': ['Mengambil informasi relevan dari laporan keberlanjutan'], 'responses': [' Astra International Tbk.\\n\\nAnswer:'], 'sources': None, 'bsid': '0dc793ada0464ff19c3b', 'bcid': '13dc8652-b4d0-4dc7-9185-d6573c0e6973', 'metadata': None}\n",
      "Chunk received: {'done': False, 'tools': ['Mengambil informasi relevan dari laporan keberlanjutan'], 'responses': [' Astra International Tbk.\\n\\nAnswer: Pri'], 'sources': None, 'bsid': '0dc793ada0464ff19c3b', 'bcid': '13dc8652-b4d0-4dc7-9185-d6573c0e6973', 'metadata': None}\n",
      "Chunk received: {'done': False, 'tools': ['Mengambil informasi relevan dari laporan keberlanjutan'], 'responses': [' Astra International Tbk.\\n\\nAnswer: Prij'], 'sources': None, 'bsid': '0dc793ada0464ff19c3b', 'bcid': '13dc8652-b4d0-4dc7-9185-d6573c0e6973', 'metadata': None}\n",
      "Chunk received: {'done': False, 'tools': ['Mengambil informasi relevan dari laporan keberlanjutan'], 'responses': [' Astra International Tbk.\\n\\nAnswer: Prijono'], 'sources': None, 'bsid': '0dc793ada0464ff19c3b', 'bcid': '13dc8652-b4d0-4dc7-9185-d6573c0e6973', 'metadata': None}\n",
      "Chunk received: {'done': False, 'tools': ['Mengambil informasi relevan dari laporan keberlanjutan'], 'responses': [' Astra International Tbk.\\n\\nAnswer: Prijono Sug'], 'sources': None, 'bsid': '0dc793ada0464ff19c3b', 'bcid': '13dc8652-b4d0-4dc7-9185-d6573c0e6973', 'metadata': None}\n",
      "Chunk received: {'done': False, 'tools': ['Mengambil informasi relevan dari laporan keberlanjutan'], 'responses': [' Astra International Tbk.\\n\\nAnswer: Prijono Sugiar'], 'sources': None, 'bsid': '0dc793ada0464ff19c3b', 'bcid': '13dc8652-b4d0-4dc7-9185-d6573c0e6973', 'metadata': None}\n",
      "Chunk received: {'done': False, 'tools': ['Mengambil informasi relevan dari laporan keberlanjutan'], 'responses': [' Astra International Tbk.\\n\\nAnswer: Prijono Sugiarto'], 'sources': None, 'bsid': '0dc793ada0464ff19c3b', 'bcid': '13dc8652-b4d0-4dc7-9185-d6573c0e6973', 'metadata': None}\n",
      "Chunk received: {'done': False, 'tools': ['Mengambil informasi relevan dari laporan keberlanjutan'], 'responses': [' Astra International Tbk.\\n\\nAnswer: Prijono Sugiarto '], 'sources': None, 'bsid': '0dc793ada0464ff19c3b', 'bcid': '13dc8652-b4d0-4dc7-9185-d6573c0e6973', 'metadata': None}\n",
      "Chunk received: {'done': False, 'tools': ['Mengambil informasi relevan dari laporan keberlanjutan'], 'responses': [' Astra International Tbk.\\n\\nAnswer: Prijono Sugiarto \\n'], 'sources': None, 'bsid': '0dc793ada0464ff19c3b', 'bcid': '13dc8652-b4d0-4dc7-9185-d6573c0e6973', 'metadata': None}\n",
      "Chunk received: {'done': False, 'tools': ['Mengambil informasi relevan dari laporan keberlanjutan'], 'responses': [' Astra International Tbk.\\n\\nAnswer: Prijono Sugiarto \\n<end_of_turn>'], 'sources': None, 'bsid': '0dc793ada0464ff19c3b', 'bcid': '13dc8652-b4d0-4dc7-9185-d6573c0e6973', 'metadata': None}\n",
      "Chunk received: {'done': True, 'tools': ['Mengambil informasi relevan dari laporan keberlanjutan'], 'responses': [' Astra International Tbk.\\n\\nAnswer: Prijono Sugiarto \\n<end_of_turn>'], 'sources': [{'url': 'https://www.astra.co.id/', 'pages': [30, 60, 59, 61], 'snippet': None, 'related_indicators': ['2-29', '2-28']}], 'bsid': '0dc793ada0464ff19c3b', 'bcid': '13dc8652-b4d0-4dc7-9185-d6573c0e6973', 'metadata': None}\n"
     ]
    },
    {
     "data": {
      "text/plain": [
       "{'done': True,\n",
       " 'tools': ['Mengambil informasi relevan dari laporan keberlanjutan'],\n",
       " 'responses': [' Astra International Tbk.\\n\\nAnswer: Prijono Sugiarto \\n<end_of_turn>'],\n",
       " 'sources': [{'url': 'https://www.astra.co.id/',\n",
       "   'pages': [30, 60, 59, 61],\n",
       "   'snippet': None,\n",
       "   'related_indicators': ['2-29', '2-28']}],\n",
       " 'bsid': '0dc793ada0464ff19c3b',\n",
       " 'bcid': '13dc8652-b4d0-4dc7-9185-d6573c0e6973',\n",
       " 'metadata': None}"
      ]
     },
     "execution_count": 59,
     "metadata": {},
     "output_type": "execute_result"
    }
   ],
   "source": [
    "headers_chat = {\n",
    "    \"Content-Type\": \"application/json\",\n",
    "    \"test-uid\": TEST_UID\n",
    "}\n",
    "\n",
    "chat_payload = {\n",
    "    \"src\": \"skripsi\",\n",
    "    \"model\": \"Llama-3.1-8B-Instruct\",\n",
    "    # \"bsid\": \"c23aabb84ff24825be7d\",\n",
    "    \"inputs\": [\n",
    "        {\"type\": \"text\", \"role\": \"user\", \"content\": \"sebutkan nama presiden komisaris dari perusahaan\"}\n",
    "    ]\n",
    "}\n",
    "\n",
    "response = requests.post(f\"{base_url}/api/v1/chat\", headers=headers_chat, data=json.dumps(chat_payload), stream=True)\n",
    "for line in response.iter_lines():\n",
    "    if line:\n",
    "        chunk = json.loads(line.decode('utf-8'))\n",
    "        print(\"Chunk received:\", chunk)\n",
    "chunk"
   ]
  },
  {
   "cell_type": "code",
   "execution_count": 54,
   "metadata": {},
   "outputs": [
    {
     "name": "stdout",
     "output_type": "stream",
     "text": [
      "\n",
      "\n",
      "Assistant: The GHG scope 1 emission in 2023 is 4,604,076 tons CO2 -eq.</s>\n"
     ]
    }
   ],
   "source": [
    "print(chunk['responses'][-1])"
   ]
  },
  {
   "cell_type": "code",
   "execution_count": null,
   "metadata": {},
   "outputs": [],
   "source": []
  }
 ],
 "metadata": {
  "kernelspec": {
   "display_name": "env",
   "language": "python",
   "name": "python3"
  },
  "language_info": {
   "codemirror_mode": {
    "name": "ipython",
    "version": 3
   },
   "file_extension": ".py",
   "mimetype": "text/x-python",
   "name": "python",
   "nbconvert_exporter": "python",
   "pygments_lexer": "ipython3",
   "version": "3.10.7"
  }
 },
 "nbformat": 4,
 "nbformat_minor": 2
}
