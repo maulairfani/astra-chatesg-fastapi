{
 "cells": [
  {
   "cell_type": "markdown",
   "metadata": {},
   "source": [
    "# Pinecone"
   ]
  },
  {
   "cell_type": "code",
   "execution_count": 1,
   "metadata": {},
   "outputs": [
    {
     "name": "stderr",
     "output_type": "stream",
     "text": [
      "c:\\Users\\maula\\Desktop\\Skripsi\\chat-esg\\env\\lib\\site-packages\\pinecone\\data\\index.py:1: TqdmWarning: IProgress not found. Please update jupyter and ipywidgets. See https://ipywidgets.readthedocs.io/en/stable/user_install.html\n",
      "  from tqdm.autonotebook import tqdm\n"
     ]
    },
    {
     "data": {
      "text/plain": [
       "True"
      ]
     },
     "execution_count": 1,
     "metadata": {},
     "output_type": "execute_result"
    }
   ],
   "source": [
    "# Indexing\n",
    "import json\n",
    "from pinecone import Pinecone\n",
    "from langchain_pinecone import PineconeVectorStore\n",
    "from langchain_core.documents import Document\n",
    "from langchain_openai import OpenAIEmbeddings\n",
    "import uuid\n",
    "import os\n",
    "import uuid\n",
    "import humps\n",
    "from datetime import datetime\n",
    "from typing import Dict, List\n",
    "from pydantic import BaseModel\n",
    "from scripts.utils import get_firestore_client\n",
    "from dotenv import load_dotenv\n",
    "load_dotenv(\".env.development\")"
   ]
  },
  {
   "cell_type": "code",
   "execution_count": 2,
   "metadata": {},
   "outputs": [],
   "source": [
    "path = \"data/asii_2023_sustainability_report_output.json\"\n",
    "with open(path, \"r\", encoding=\"utf-8\") as file:\n",
    "    data = json.load(file)"
   ]
  },
  {
   "cell_type": "code",
   "execution_count": 3,
   "metadata": {},
   "outputs": [],
   "source": [
    "docs = []\n",
    "ids = []\n",
    "disclosed_gri = {}\n",
    "for doc in data:\n",
    "    docs.append(Document(\n",
    "        page_content=doc['page_content'],\n",
    "        metadata=doc['metadata']\n",
    "    ))\n",
    "    ids.append(doc['id'])\n",
    "\n",
    "    for indicator in doc['metadata']['disclosed_gri']:\n",
    "        if indicator in disclosed_gri:\n",
    "            disclosed_gri[indicator].append(doc['id'])\n",
    "        else:\n",
    "            disclosed_gri[indicator] = [doc['id']]"
   ]
  },
  {
   "cell_type": "code",
   "execution_count": 5,
   "metadata": {},
   "outputs": [
    {
     "data": {
      "text/plain": [
       "{'2-22': ['e6070f87-0545-4553-8afa-16a13022f6d3']}"
      ]
     },
     "execution_count": 5,
     "metadata": {},
     "output_type": "execute_result"
    }
   ],
   "source": [
    "disclosed_gri"
   ]
  },
  {
   "cell_type": "code",
   "execution_count": 6,
   "metadata": {},
   "outputs": [
    {
     "data": {
      "text/plain": [
       "['873e45d6-de45-45f0-a840-9508ed9fc451',\n",
       " '996902e6-7b30-437c-8cff-6e09b5990fc5',\n",
       " '57cada26-9494-4737-ba8e-c93b988d0aa7',\n",
       " '40daa66e-a1b1-4654-acd1-bc85abd66388',\n",
       " '1a31516f-8875-45b7-a9ae-6cab6cb378a3',\n",
       " 'cf53443e-8ea5-4d16-b2ca-861c25f24b4a',\n",
       " '2f14a853-6824-4ef2-a9a4-e13def71cd21',\n",
       " 'e6070f87-0545-4553-8afa-16a13022f6d3',\n",
       " '17086faa-132e-4534-8021-ce3ac4de9ece',\n",
       " 'c6a390a8-240e-43cf-aca7-e4d29a00352c']"
      ]
     },
     "execution_count": 6,
     "metadata": {},
     "output_type": "execute_result"
    }
   ],
   "source": [
    "embedding_function = OpenAIEmbeddings(model=\"text-embedding-3-large\")\n",
    "pc = Pinecone(api_key=os.getenv(\"PINECONE_API_KEY\"))\n",
    "index = pc.Index(\"single-sr-test\")\n",
    "vector_store = PineconeVectorStore(index, embedding_function)\n",
    "\n",
    "vector_store.add_documents(docs, ids=ids)"
   ]
  },
  {
   "cell_type": "code",
   "execution_count": 21,
   "metadata": {},
   "outputs": [],
   "source": [
    "# Inisialisasi Firestore client\n",
    "fsclient = get_firestore_client()\n",
    "\n",
    "# Definisikan model untuk Sustainability Report Document\n",
    "class SRDocument(BaseModel):\n",
    "    company: str\n",
    "    year: int\n",
    "    ticker: str\n",
    "    disclosed_gri: Dict\n",
    "    url: str\n",
    "    cid: str | None = None\n",
    "    created_at: datetime | None = None\n",
    "    updated_at: datetime | None = None\n",
    "\n",
    "# Fungsi untuk membuat dokumen Sustainability Report\n",
    "def create_sr_doc(item: SRDocument):\n",
    "    # Generate CID jika tidak ada\n",
    "    item.cid = str(uuid.uuid4())\n",
    "\n",
    "    # Pastikan created_at dan updated_at memiliki nilai jika None\n",
    "    if item.created_at is None:\n",
    "        item.created_at = datetime.now()\n",
    "    if item.updated_at is None:\n",
    "        item.updated_at = datetime.now()\n",
    "\n",
    "    # Referensi ke koleksi Firestore\n",
    "    doc_ref = fsclient.collection(\"sustainabilityReports\").document(item.cid)\n",
    "\n",
    "    # Simpan data ke Firestore\n",
    "    doc_ref.set(humps.camelize(item.model_dump()))\n",
    "\n",
    "    return item\n",
    "\n",
    "sr_doc = SRDocument(\n",
    "    company=\"PT Astra International Tbk\",\n",
    "    year=2022,\n",
    "    ticker = \"ASII\",\n",
    "    disclosed_gri=disclosed_gri,\n",
    "    url=\"\"\n",
    ")"
   ]
  },
  {
   "cell_type": "code",
   "execution_count": 23,
   "metadata": {},
   "outputs": [
    {
     "data": {
      "text/plain": [
       "SRDocument(company='PT Astra International Tbk', year=2022, ticker='ASII', disclosed_gri={'2-22': ['e6070f87-0545-4553-8afa-16a13022f6d3']}, url='', cid='811ccd63-6899-4fbf-99b1-90b7887a9c1d', created_at=datetime.datetime(2025, 1, 9, 20, 0, 35, 214302), updated_at=datetime.datetime(2025, 1, 9, 20, 0, 35, 214302))"
      ]
     },
     "execution_count": 23,
     "metadata": {},
     "output_type": "execute_result"
    }
   ],
   "source": [
    "item = SRDocument(\n",
    "    company=\"PT Astra International Tbk\",\n",
    "    year=2022,\n",
    "    ticker = \"ASII\",\n",
    "    disclosed_gri=disclosed_gri,\n",
    "    url=\"\"\n",
    ")\n",
    "\n",
    "_disclosed_gri = item.disclosed_gri\n",
    "\n",
    "# Generate CID jika tidak ada\n",
    "item.cid = str(uuid.uuid4())\n",
    "\n",
    "# Pastikan created_at dan updated_at memiliki nilai jika None\n",
    "if item.created_at is None:\n",
    "    item.created_at = datetime.now()\n",
    "if item.updated_at is None:\n",
    "    item.updated_at = datetime.now()\n",
    "\n",
    "item_dump = humps.camelize(item.model_dump())\n",
    "item_dump['disclosedGri'] = _disclosed_gri\n",
    "\n",
    "# # Referensi ke koleksi Firestore\n",
    "doc_ref = fsclient.collection(\"sustainabilityReports\").document(item.cid)\n",
    "\n",
    "# # Simpan data ke Firestore\n",
    "doc_ref.set(item_dump)\n",
    "\n",
    "item"
   ]
  },
  {
   "cell_type": "markdown",
   "metadata": {},
   "source": [
    "# Firestore"
   ]
  },
  {
   "cell_type": "code",
   "execution_count": null,
   "metadata": {},
   "outputs": [],
   "source": []
  }
 ],
 "metadata": {
  "kernelspec": {
   "display_name": "env",
   "language": "python",
   "name": "python3"
  },
  "language_info": {
   "codemirror_mode": {
    "name": "ipython",
    "version": 3
   },
   "file_extension": ".py",
   "mimetype": "text/x-python",
   "name": "python",
   "nbconvert_exporter": "python",
   "pygments_lexer": "ipython3",
   "version": "3.10.7"
  }
 },
 "nbformat": 4,
 "nbformat_minor": 2
}
