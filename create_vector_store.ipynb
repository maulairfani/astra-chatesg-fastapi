{
 "cells": [
  {
   "cell_type": "markdown",
   "metadata": {},
   "source": [
    "# Pinecone"
   ]
  },
  {
   "cell_type": "code",
   "execution_count": 1,
   "metadata": {},
   "outputs": [
    {
     "name": "stderr",
     "output_type": "stream",
     "text": [
      "c:\\Users\\maula\\Desktop\\Skripsi\\chat-esg\\env\\lib\\site-packages\\pinecone\\data\\index.py:1: TqdmWarning: IProgress not found. Please update jupyter and ipywidgets. See https://ipywidgets.readthedocs.io/en/stable/user_install.html\n",
      "  from tqdm.autonotebook import tqdm\n"
     ]
    },
    {
     "data": {
      "text/plain": [
       "True"
      ]
     },
     "execution_count": 1,
     "metadata": {},
     "output_type": "execute_result"
    }
   ],
   "source": [
    "# Indexing\n",
    "import json\n",
    "from pinecone import Pinecone\n",
    "from langchain_pinecone import PineconeVectorStore\n",
    "from langchain_core.documents import Document\n",
    "from langchain_openai import OpenAIEmbeddings\n",
    "import uuid\n",
    "import os\n",
    "import uuid\n",
    "import humps\n",
    "from datetime import datetime\n",
    "from typing import Dict, List\n",
    "from pydantic import BaseModel\n",
    "from scripts.utils import get_firestore_client\n",
    "from dotenv import load_dotenv\n",
    "load_dotenv(\".env.development\")"
   ]
  },
  {
   "cell_type": "code",
   "execution_count": 2,
   "metadata": {},
   "outputs": [],
   "source": [
    "path = \"data/asii_2023_sustainability_report_output (1).json\"\n",
    "with open(path, \"r\", encoding=\"utf-8\") as file:\n",
    "    data = json.load(file)"
   ]
  },
  {
   "cell_type": "code",
   "execution_count": 3,
   "metadata": {},
   "outputs": [],
   "source": [
    "docs = []\n",
    "ids = []\n",
    "disclosed_gri = {}\n",
    "for doc in data:\n",
    "    docs.append(Document(\n",
    "        page_content=doc['page_content'],\n",
    "        metadata=doc['metadata']\n",
    "    ))\n",
    "    ids.append(doc['id'])\n",
    "\n",
    "    for indicator in doc['metadata']['disclosed_gri']:\n",
    "        if indicator in disclosed_gri:\n",
    "            disclosed_gri[indicator].append(doc['id'])\n",
    "        else:\n",
    "            disclosed_gri[indicator] = [doc['id']]"
   ]
  },
  {
   "cell_type": "code",
   "execution_count": 6,
   "metadata": {},
   "outputs": [
    {
     "data": {
      "text/plain": [
       "['04d53cd1-2143-4588-abc9-8725fac9ae12',\n",
       " '3631ab5f-af30-4559-a9d0-82f7c8b7bff6',\n",
       " 'c4e0029d-03e4-493c-a6f5-a2ddddbdc928',\n",
       " '83e782ba-d3cf-4819-baab-676350543d86',\n",
       " '4a5da069-2022-485c-ad46-aad71cabe209',\n",
       " 'c2282f53-e5c3-4e80-820c-3e3492107838',\n",
       " '8ae80b96-eb13-48fb-9a90-d39437a9b5b0',\n",
       " '2f318141-1573-4944-ac9f-eee509947852',\n",
       " '5aa3010c-dbf6-4179-a23e-511abc71bb5d',\n",
       " '7d465fa9-9d16-402c-bed7-391f965382a5',\n",
       " 'a14e19b0-a65c-4e7e-a9e8-adea79642308',\n",
       " 'e8e06b0d-2eeb-4b6c-a79c-3c98ac0ed853',\n",
       " 'bc051374-4444-4a09-be4f-7771a8a62ff6',\n",
       " 'ac18dea9-e941-4e66-94ec-53f14209db9b',\n",
       " '64c3f225-b791-4d28-8009-c30eb1d03e0b',\n",
       " '2677ee20-a569-48b3-8352-f37039915253',\n",
       " '18383b8b-ce55-4745-a5be-381581a68e53',\n",
       " 'e529c9f6-3009-44e7-b7e4-9196b60e7382',\n",
       " 'dea25bbf-bd98-4fa8-a929-10ee7ae40079',\n",
       " '736ddae3-dd88-4ea6-ab7c-8fc9665b6106',\n",
       " 'e41e5fa6-a224-4513-8d9a-47a229887d6a',\n",
       " '6124bc12-b1ba-48ac-a986-dfb9c83f58bb',\n",
       " '8096edd2-71eb-485f-aed9-187081296395',\n",
       " '424cda46-3b4d-4cb5-b072-37fa15ae116b',\n",
       " '849329b3-70a1-4425-877c-d7f52792f169',\n",
       " '619cc14e-140c-4948-8948-29070f634fde',\n",
       " 'c944da77-d69f-4203-ae33-a7ec49a1c53e',\n",
       " '8eb7ede6-6662-47b4-899c-92eb5e950194',\n",
       " '3e54781a-e391-4ce7-86e7-c1e071c12d1f',\n",
       " 'a2a06528-6c1c-43cf-857b-6f0a90dc6cae',\n",
       " '31bc01f9-8027-41b7-9fd6-491947aa63d8',\n",
       " 'c453ee4f-0878-499f-b78c-cf0cb40dc655',\n",
       " '7b60ca8a-3f8d-4f38-8ab8-db15e2c7c740',\n",
       " 'fd9ad52c-9a2d-48f2-882e-115d90787c15',\n",
       " '0486d227-1eb5-479c-9a0a-3991888a8dfa',\n",
       " '1c6287cc-d745-4925-bb40-a1848e14dd9a',\n",
       " '2a3b2504-2ccf-4ce3-b09f-e443e252d51e',\n",
       " 'adbd4676-4d8d-473f-9d67-1d8304ce6d1f',\n",
       " '9f38d6d7-f3b4-407c-8fc8-81555014c56c',\n",
       " '82f9a999-6389-4d84-b1c8-04815cea2b34',\n",
       " '14e4bcea-5ff5-40c3-bd79-f9eec4ad5df7',\n",
       " '9468f849-7e1e-4bf9-94e2-4395e9a8af8c',\n",
       " '706e5aab-9e69-4ac6-b41d-ae3c4284b8e6',\n",
       " '9647df86-7eea-4c1e-b953-edba73e719ff',\n",
       " '060be041-339d-4f48-8661-3f09a8bccdd9',\n",
       " '48eaee09-02ef-49d4-be4a-07eb5d598147',\n",
       " '60809a1e-7ac2-4c26-b278-e3eb3b18f81a',\n",
       " 'bab32dae-d1d0-437b-a410-e7a2d9180597',\n",
       " '9e0d0319-c2ad-467f-b2a4-f28a4331629b',\n",
       " 'fbddec47-313e-4f25-8394-16dcb057d61b',\n",
       " 'c6007440-5bb2-4996-8ce9-075a777751b3',\n",
       " 'd293222c-309e-4cf2-8fe4-906a619c203b',\n",
       " '07ca10e0-b960-4fed-b019-0beb75c54d6a',\n",
       " '349aaa09-52aa-48d1-a825-b0a43fa4cf8e',\n",
       " 'e0c2f69d-dfc8-45d9-aeda-38c30ab5a828',\n",
       " 'b24ab942-56ff-48c3-83e9-58798ddc5958',\n",
       " '008cb1df-0bd6-4a86-bed1-9b85f2cac67a',\n",
       " 'f24a0349-0f99-451d-b95d-8d7e60b81d7c',\n",
       " 'c6f9cf0f-7130-4f63-a8b1-a98c475299ce',\n",
       " '0841e4ee-6baf-40bf-abeb-5890e3781f8d',\n",
       " 'f0688b3e-a0bc-4b8a-a2da-fd66478d91db',\n",
       " '1ac686c0-803a-4005-a309-0e67ddd46aee',\n",
       " '245f464d-9395-45e2-8c65-7335a1053dce',\n",
       " '81f1eba4-b92b-411e-889e-d382bcfadcff',\n",
       " '2a025dfd-8163-4b2c-a48a-540f439cba54',\n",
       " '61d15044-b2e3-4f5d-9e5c-cbafd315984e',\n",
       " '2083bb5e-9d7a-474b-a01e-45a5c004cd02',\n",
       " '56ab283f-2f51-41bf-9eff-f86258c304cb',\n",
       " '9f09a97e-32dc-4684-bd05-8606e70e3b45',\n",
       " '3e25c67b-00da-4ec0-9a6c-faf054cf5889',\n",
       " 'ef0c685d-1ffe-4a70-b85c-c8f59cc3e5bf',\n",
       " '5591af5c-b7cb-4793-8fe3-cb23b5507ffa',\n",
       " '6bb173ea-e44a-4535-8fb6-ce12ad152a24',\n",
       " 'e09d586c-25da-420e-839e-dd8690536eb7',\n",
       " '11a34a6a-5b68-4fcb-8e6f-f053ef7c3712',\n",
       " '2d14c695-ebe1-4f51-bf59-c67c51c13c30',\n",
       " '7dd18a4d-a856-4973-a035-372edf92047e',\n",
       " '56148185-8872-4e68-a5e3-4317ad0bbc3d',\n",
       " 'c84d2605-3206-43b0-b74c-81ec7e45fdb1',\n",
       " '0bb1498d-5c75-436c-84ac-994a23ef6d4a',\n",
       " '98dbfcf9-0e2d-47b8-acce-a5a3aa627211',\n",
       " 'a3511fe6-e67f-4918-be20-d63a7ebfb2af',\n",
       " '16a91d02-b3fa-47c1-a44d-dfa7f36fb0bd',\n",
       " '2a439ea7-83b7-4a3d-bd06-4c72ed41eb52',\n",
       " '6034d7c5-625e-4982-bd27-bccad9a22985',\n",
       " 'a7a036b2-f987-4a32-8e0d-63b25cd52140',\n",
       " 'c63d9470-a0c4-4620-88f3-68f634bc905f',\n",
       " '643621e6-c79c-4d78-b7cd-098e7affaa74',\n",
       " '92b503b8-94e5-421b-a688-a1ed615a60e6',\n",
       " '4e37e741-378c-41c7-bab9-110bfd0c1878',\n",
       " '63f9be75-b53d-4a59-80f8-9582bea86b9a',\n",
       " '2427ce7c-da48-40b0-95b4-ea7190d54efc',\n",
       " 'b397c08b-02d1-4801-bfb6-3a4e2f9263cb',\n",
       " 'a00de644-5a8b-4acd-b1cf-32163d39976d',\n",
       " 'ba3ac77f-8f0a-4895-956e-bea122682f8d',\n",
       " '9de4fcac-e5da-4f4a-bc2d-5e6f26e4dccd',\n",
       " '934995ca-24ba-4d5c-b7d0-06b417d2da22',\n",
       " '00cb154e-23ad-4244-a8b5-64bc22910d49',\n",
       " '21c66230-a1c4-4869-b371-4f657b21c192',\n",
       " '415a80cd-a427-408b-8385-b777c87d3b8b',\n",
       " '2bce6649-5181-4141-b086-b16e3a737975',\n",
       " 'c6bca050-20c2-42fd-8786-193ab62e67ff',\n",
       " '52ac28d5-6181-4299-bb0d-6514ee54a084',\n",
       " '5f86e9d6-009c-4a18-9bf3-052f486bd51b',\n",
       " '8025c46c-0845-4b49-8ba1-96165fe15c2d',\n",
       " 'ed533958-647f-4b0e-987b-e75b7bd67a3a',\n",
       " '8341bb83-ef03-421f-a6be-72ee9faf3a3f',\n",
       " '2f094075-3ee8-47ab-a793-2ac0a5946b60',\n",
       " '1a914aef-6484-4db1-b4eb-13a564b5ce2d',\n",
       " '79aeb5c3-fda4-470c-9557-1ef572ad8c70',\n",
       " 'a666cb6b-45ab-45fc-81a5-8a22b2ad82d9',\n",
       " '2de94e10-f7db-4a1b-a1e3-6b6624c36b73',\n",
       " '1c274091-a710-4dbb-a103-dc638dfc12bb',\n",
       " '438d05ce-9c8e-417a-bf5f-1670e2a1ca84',\n",
       " '78e7a551-e8bb-4755-9a51-303512841346',\n",
       " 'b0a1ffbc-da16-4bb1-9b40-6490ae8034ff',\n",
       " '2e2d1783-f206-417b-87ba-c2e57a6d3443',\n",
       " 'e13fbd79-9e6b-4beb-9649-9468c377b232',\n",
       " 'a5739091-28c3-413d-b2a4-713fe2743780',\n",
       " '0590285e-78fa-4f56-9456-ef28572c7cb3',\n",
       " '0caaf4dc-829b-413e-b846-ed9376bf2fae',\n",
       " '0775ecdd-a36d-4ca5-abf6-99b6f5cc5968',\n",
       " '42241b32-1abd-4a98-91cd-f0a716dd5705',\n",
       " '743edd5f-5963-46ff-98b1-bf0ad4996eb3',\n",
       " 'c7137a1b-0890-4e47-b7f3-4f73641d4d5c',\n",
       " 'e5605a93-1d15-4a57-87ae-c85a98c12271',\n",
       " 'b3e4ff18-8cf1-40fe-a6ac-8c81adb0818c',\n",
       " '2315d21a-4559-4ba5-9f81-56e91368ed15',\n",
       " '685435a8-a80d-4381-a4b2-fc319a9ca20f',\n",
       " 'd3597166-42b3-4725-b17f-a5742dc5bd6e',\n",
       " 'ecbf7ec3-1683-4934-9338-d78f07983075',\n",
       " 'b742a2ae-8d8b-4ddf-84a1-eefa7778b650',\n",
       " '1a3d2a8d-b272-4460-b0ca-618a60a96e1f',\n",
       " '4e4bd09d-85fb-4ee0-85d7-2ff169d60eb3',\n",
       " '18b8f5b1-4ce4-4925-9432-655261dad4e2',\n",
       " 'fe632502-410c-4a5a-a0fb-a8b092029846',\n",
       " '5207b5b4-880b-4092-beb1-c59d0efe82e9',\n",
       " 'd1dad17d-b2f0-4686-9a2f-2f83fcc76de7',\n",
       " 'bbd4f0f9-1403-4194-968a-b829d4cbcdf0',\n",
       " 'a74a65f7-54aa-49f0-89af-0b0468fe20c5',\n",
       " 'c00f402a-dddd-4d7b-b90e-ca898073604c',\n",
       " 'fc482c2c-07ee-4ebc-b9ba-2073e85cf887',\n",
       " '88966535-64bc-4c30-97c0-b391d04f5275',\n",
       " '60cad1d5-9b45-4e95-9b71-975a153898aa',\n",
       " 'cb9ea893-7cbf-4d20-b69a-6ca1749dce9f',\n",
       " '6a2a7f40-476c-4c79-bf49-38fb54958af3',\n",
       " '071d1ba0-23ca-4063-9b9f-d66043ed4d4d',\n",
       " '3fe97e98-c622-4d12-adaf-366757a5e95a',\n",
       " '590105bb-012d-45da-9863-e88b12f95637',\n",
       " '93604efd-2b62-4e27-8e3c-f1f70b710d7e',\n",
       " 'c99a8f58-b3e4-4c3f-b308-d7de7bebf3bd',\n",
       " 'd53c7412-0569-4f04-97df-0b81d0ce8c10',\n",
       " 'c975d3aa-10fc-4177-979f-899d696d71e5',\n",
       " 'b1637272-fe76-49f9-b375-ae8c03a95e94',\n",
       " 'baa079e0-beb6-47ed-9567-45266045b506',\n",
       " 'f7241b59-e713-4900-b7ef-6b193c1e00e7',\n",
       " '15b3ba1d-3a35-4551-a36f-e24efa3efa5d',\n",
       " 'b26c75bb-cff1-45da-8e5e-1c2ac271b5ac',\n",
       " 'a53b47a1-e7df-4f97-a5e8-c1833a76ec45',\n",
       " '25719d01-aae6-4642-b6d9-8adaede33c54',\n",
       " '38d17746-f422-4337-bc40-ba42fc21072e',\n",
       " '0dafaa50-a86d-4358-8efa-7fc1938a4d8b',\n",
       " '88824e2c-d141-4b71-99ff-c874e6483851',\n",
       " 'f94e5a68-288a-4000-be64-ae59016086e6',\n",
       " '52cd4e4a-b707-4ab0-83a8-1fd33543ecf4',\n",
       " 'c7e57b3a-97ca-49de-9de8-9a2499b6052e',\n",
       " 'b1ac13e4-739e-4e53-bb24-a2198d64ffd7',\n",
       " '99d2fbe0-af7e-46bc-8302-e0b0edbdc76e',\n",
       " 'b3b6dd06-2683-4602-84ae-2f06f79f56ad',\n",
       " '3ffa913b-73b2-42c0-ac84-16c060404156',\n",
       " 'e3ed19bc-10cd-4e44-baf2-8dd8ac8eee6f',\n",
       " '04ade265-5406-4f80-9f5f-bb1c6c69361c',\n",
       " 'ade131ee-e2db-45c1-897c-0ffa0fb3bc25',\n",
       " 'e1360f97-b176-4ec7-89aa-d16c2dc601ea',\n",
       " '8c4a079f-210b-4948-9c94-9a283d532000',\n",
       " '155da0f1-85ba-408d-b93d-0761b33ed5db',\n",
       " '88c62495-eb99-4278-946d-fce2d6a4a089',\n",
       " 'aef1785d-1234-44d1-ad66-4b9de50009c2',\n",
       " '3a2a16bd-3146-461c-ad76-cda9b4632537',\n",
       " '7c22b2a3-5d65-4c8e-bb17-1f2a4e045e0f',\n",
       " 'bb8766cc-ad83-46c0-82ae-a6847e67e8d8',\n",
       " 'e14dbd6d-49a5-4748-8b69-ef3b7089a5a7',\n",
       " 'd2b29c64-88e2-4c97-bff9-3105a056f22c',\n",
       " 'a6f9d603-9a60-489e-97c1-96f4addfc867',\n",
       " 'eb7a6e25-4d87-450a-bd1d-3f7a24288f23',\n",
       " 'd023b7f7-ca00-4bf1-805d-5bec5f9c4e26',\n",
       " '450c694b-2070-477a-bcf2-05c94e1b4e31',\n",
       " 'cd59191c-7ba3-491e-860f-89121296d0c1',\n",
       " '6cc0fe5a-c99e-462b-b69e-ed0d972410c9',\n",
       " '742fb572-ac12-4143-ad57-05b4b5f58cdf',\n",
       " '14bb774d-a33b-454a-b1cf-8ee978b0e460',\n",
       " '7162adeb-0369-4465-8ba0-d375aafa77b6',\n",
       " '780aacf2-ed55-4b3c-a47e-39cbffcab6ed',\n",
       " 'e013d05c-66fb-4656-9e5f-7fbaac9d4dad',\n",
       " 'fdf1e50d-10bf-41d1-9469-280610f0f00e',\n",
       " 'bfece4ba-54c4-43d3-9f7a-85925e2aaab3',\n",
       " '0ceac55f-e4c4-48e5-86b5-6848b2175c4e',\n",
       " '3e3db7ec-b81d-49f9-ba85-ab00f10439e8',\n",
       " '708f4e3b-e732-47ae-815a-82ba93c9bf9d',\n",
       " '43d5c648-3bd0-42ef-8fab-cf7ecf3a674c',\n",
       " '25ba7e42-3744-460c-b77f-3b13f275c7c9',\n",
       " 'da1848ff-c537-4e43-a9fc-dbf9a68a8ca2',\n",
       " 'ea489d0b-df67-41b3-926d-fb1e62d3b6d2',\n",
       " '02dec92d-8589-4109-b208-a88612fdc611',\n",
       " '1e4e46d8-8838-494d-994c-0767bb5a6556',\n",
       " '80d3d607-2f00-4f6c-b401-22d6d27a569c',\n",
       " 'c5a4521e-ae17-43b5-8661-20b45e855dae',\n",
       " '63a67e4f-d99d-41e8-83e8-a5ae2c01803b',\n",
       " '99331220-09f6-43b4-a838-98d229a8e954',\n",
       " '148f16d0-522f-46a1-babe-27bc3459f08b']"
      ]
     },
     "execution_count": 6,
     "metadata": {},
     "output_type": "execute_result"
    }
   ],
   "source": [
    "embedding_function = OpenAIEmbeddings(model=\"text-embedding-3-large\")\n",
    "pc = Pinecone(api_key=os.getenv(\"PINECONE_API_KEY\"))\n",
    "index = pc.Index(\"single-sr-test\")\n",
    "vector_store = PineconeVectorStore(index, embedding_function)\n",
    "\n",
    "vector_store.add_documents(docs, ids=ids)"
   ]
  },
  {
   "cell_type": "code",
   "execution_count": 7,
   "metadata": {},
   "outputs": [],
   "source": [
    "# Inisialisasi Firestore client\n",
    "fsclient = get_firestore_client()\n",
    "\n",
    "# Definisikan model untuk Sustainability Report Document\n",
    "class SRDocument(BaseModel):\n",
    "    company: str\n",
    "    year: int\n",
    "    ticker: str\n",
    "    disclosed_gri: Dict\n",
    "    url: str\n",
    "    cid: str | None = None\n",
    "    created_at: datetime | None = None\n",
    "    updated_at: datetime | None = None\n",
    "\n",
    "# Fungsi untuk membuat dokumen Sustainability Report\n",
    "def create_sr_doc(item: SRDocument):\n",
    "    # Generate CID jika tidak ada\n",
    "    item.cid = str(uuid.uuid4())\n",
    "\n",
    "    # Pastikan created_at dan updated_at memiliki nilai jika None\n",
    "    if item.created_at is None:\n",
    "        item.created_at = datetime.now()\n",
    "    if item.updated_at is None:\n",
    "        item.updated_at = datetime.now()\n",
    "\n",
    "    # Referensi ke koleksi Firestore\n",
    "    doc_ref = fsclient.collection(\"sustainabilityReports\").document(item.cid)\n",
    "\n",
    "    # Simpan data ke Firestore\n",
    "    doc_ref.set(humps.camelize(item.model_dump()))\n",
    "\n",
    "    return item"
   ]
  },
  {
   "cell_type": "code",
   "execution_count": 8,
   "metadata": {},
   "outputs": [
    {
     "data": {
      "text/plain": [
       "SRDocument(company='PT Astra International Tbk', year=2022, ticker='ASII', disclosed_gri={'2-22': ['2f318141-1573-4944-ac9f-eee509947852', 'ac18dea9-e941-4e66-94ec-53f14209db9b', 'cd59191c-7ba3-491e-860f-89121296d0c1'], '2-6': ['619cc14e-140c-4948-8948-29070f634fde', 'c944da77-d69f-4203-ae33-a7ec49a1c53e', '8eb7ede6-6662-47b4-899c-92eb5e950194', 'a2a06528-6c1c-43cf-857b-6f0a90dc6cae', '450c694b-2070-477a-bcf2-05c94e1b4e31'], '2-1': ['619cc14e-140c-4948-8948-29070f634fde', 'c944da77-d69f-4203-ae33-a7ec49a1c53e', '450c694b-2070-477a-bcf2-05c94e1b4e31'], '2-7': ['c944da77-d69f-4203-ae33-a7ec49a1c53e', 'b0a1ffbc-da16-4bb1-9b40-6490ae8034ff', '450c694b-2070-477a-bcf2-05c94e1b4e31'], '2-28': ['0486d227-1eb5-479c-9a0a-3991888a8dfa', '6cc0fe5a-c99e-462b-b69e-ed0d972410c9'], '2-24': ['9f38d6d7-f3b4-407c-8fc8-81555014c56c', '349aaa09-52aa-48d1-a825-b0a43fa4cf8e', 'e0c2f69d-dfc8-45d9-aeda-38c30ab5a828', 'b24ab942-56ff-48c3-83e9-58798ddc5958', '008cb1df-0bd6-4a86-bed1-9b85f2cac67a', '245f464d-9395-45e2-8c65-7335a1053dce', '2a025dfd-8163-4b2c-a48a-540f439cba54', 'cd59191c-7ba3-491e-860f-89121296d0c1'], '3-3': ['60809a1e-7ac2-4c26-b278-e3eb3b18f81a', '81f1eba4-b92b-411e-889e-d382bcfadcff', '2a025dfd-8163-4b2c-a48a-540f439cba54', '1a3d2a8d-b272-4460-b0ca-618a60a96e1f', 'c99a8f58-b3e4-4c3f-b308-d7de7bebf3bd', '6cc0fe5a-c99e-462b-b69e-ed0d972410c9', '742fb572-ac12-4143-ad57-05b4b5f58cdf', '14bb774d-a33b-454a-b1cf-8ee978b0e460', '7162adeb-0369-4465-8ba0-d375aafa77b6', '780aacf2-ed55-4b3c-a47e-39cbffcab6ed', 'e013d05c-66fb-4656-9e5f-7fbaac9d4dad', 'fdf1e50d-10bf-41d1-9469-280610f0f00e', 'bfece4ba-54c4-43d3-9f7a-85925e2aaab3'], '3-1': ['60809a1e-7ac2-4c26-b278-e3eb3b18f81a', '3a2a16bd-3146-461c-ad76-cda9b4632537', '6cc0fe5a-c99e-462b-b69e-ed0d972410c9'], '3-2': ['60809a1e-7ac2-4c26-b278-e3eb3b18f81a', '6cc0fe5a-c99e-462b-b69e-ed0d972410c9'], '2-26': ['07ca10e0-b960-4fed-b019-0beb75c54d6a', '6cc0fe5a-c99e-462b-b69e-ed0d972410c9'], '2-27': ['07ca10e0-b960-4fed-b019-0beb75c54d6a', '6cc0fe5a-c99e-462b-b69e-ed0d972410c9'], '2-23': ['349aaa09-52aa-48d1-a825-b0a43fa4cf8e', 'e0c2f69d-dfc8-45d9-aeda-38c30ab5a828', '245f464d-9395-45e2-8c65-7335a1053dce', 'cd59191c-7ba3-491e-860f-89121296d0c1'], '205-2': ['349aaa09-52aa-48d1-a825-b0a43fa4cf8e', '0ceac55f-e4c4-48e5-86b5-6848b2175c4e'], '2-11': ['008cb1df-0bd6-4a86-bed1-9b85f2cac67a', 'f24a0349-0f99-451d-b95d-8d7e60b81d7c'], '2-9': ['008cb1df-0bd6-4a86-bed1-9b85f2cac67a', 'c6f9cf0f-7130-4f63-a8b1-a98c475299ce', '0841e4ee-6baf-40bf-abeb-5890e3781f8d', '1ac686c0-803a-4005-a309-0e67ddd46aee', '450c694b-2070-477a-bcf2-05c94e1b4e31'], '201-2': ['008cb1df-0bd6-4a86-bed1-9b85f2cac67a', '6cc0fe5a-c99e-462b-b69e-ed0d972410c9'], '2-10': ['f24a0349-0f99-451d-b95d-8d7e60b81d7c', 'c6f9cf0f-7130-4f63-a8b1-a98c475299ce', '450c694b-2070-477a-bcf2-05c94e1b4e31'], '2-12': ['1ac686c0-803a-4005-a309-0e67ddd46aee', '245f464d-9395-45e2-8c65-7335a1053dce', 'cd59191c-7ba3-491e-860f-89121296d0c1'], '2-13': ['1ac686c0-803a-4005-a309-0e67ddd46aee', '245f464d-9395-45e2-8c65-7335a1053dce', 'cd59191c-7ba3-491e-860f-89121296d0c1'], '2-14': ['1ac686c0-803a-4005-a309-0e67ddd46aee', 'cd59191c-7ba3-491e-860f-89121296d0c1'], '2-25': ['2a025dfd-8163-4b2c-a48a-540f439cba54', 'cd59191c-7ba3-491e-860f-89121296d0c1'], '417-1': ['61d15044-b2e3-4f5d-9e5c-cbafd315984e', 'bfece4ba-54c4-43d3-9f7a-85925e2aaab3'], '416-1': ['2083bb5e-9d7a-474b-a01e-45a5c004cd02', '0ceac55f-e4c4-48e5-86b5-6848b2175c4e'], '308-1': ['2083bb5e-9d7a-474b-a01e-45a5c004cd02', '0ceac55f-e4c4-48e5-86b5-6848b2175c4e'], '414-1': ['2083bb5e-9d7a-474b-a01e-45a5c004cd02', '0ceac55f-e4c4-48e5-86b5-6848b2175c4e'], '207-2': ['56ab283f-2f51-41bf-9eff-f86258c304cb', '0ceac55f-e4c4-48e5-86b5-6848b2175c4e'], '207-1': ['56ab283f-2f51-41bf-9eff-f86258c304cb', '0ceac55f-e4c4-48e5-86b5-6848b2175c4e'], '418-1': ['9f09a97e-32dc-4684-bd05-8606e70e3b45', 'ef0c685d-1ffe-4a70-b85c-c8f59cc3e5bf'], '207-3': ['9f09a97e-32dc-4684-bd05-8606e70e3b45', '0ceac55f-e4c4-48e5-86b5-6848b2175c4e'], '2-20': ['ef0c685d-1ffe-4a70-b85c-c8f59cc3e5bf', 'cd59191c-7ba3-491e-860f-89121296d0c1'], '2-21': ['ef0c685d-1ffe-4a70-b85c-c8f59cc3e5bf', 'cd59191c-7ba3-491e-860f-89121296d0c1'], '2-18': ['ef0c685d-1ffe-4a70-b85c-c8f59cc3e5bf', 'cd59191c-7ba3-491e-860f-89121296d0c1'], '2-15': ['ef0c685d-1ffe-4a70-b85c-c8f59cc3e5bf', 'cd59191c-7ba3-491e-860f-89121296d0c1'], '2-19': ['ef0c685d-1ffe-4a70-b85c-c8f59cc3e5bf', 'cd59191c-7ba3-491e-860f-89121296d0c1'], '2-16': ['ef0c685d-1ffe-4a70-b85c-c8f59cc3e5bf', 'cd59191c-7ba3-491e-860f-89121296d0c1'], '305-1': ['2d14c695-ebe1-4f51-bf59-c67c51c13c30', '7162adeb-0369-4465-8ba0-d375aafa77b6'], '305-2': ['2d14c695-ebe1-4f51-bf59-c67c51c13c30', '7162adeb-0369-4465-8ba0-d375aafa77b6'], '305-4': ['7dd18a4d-a856-4973-a035-372edf92047e', '7162adeb-0369-4465-8ba0-d375aafa77b6'], '305-5': ['56148185-8872-4e68-a5e3-4317ad0bbc3d', '98dbfcf9-0e2d-47b8-acce-a5a3aa627211', 'a7a036b2-f987-4a32-8e0d-63b25cd52140', '7162adeb-0369-4465-8ba0-d375aafa77b6'], '302-4': ['56148185-8872-4e68-a5e3-4317ad0bbc3d', '6034d7c5-625e-4982-bd27-bccad9a22985', '14bb774d-a33b-454a-b1cf-8ee978b0e460'], '302-5': ['0bb1498d-5c75-436c-84ac-994a23ef6d4a', 'a7a036b2-f987-4a32-8e0d-63b25cd52140', 'c63d9470-a0c4-4620-88f3-68f634bc905f', '14bb774d-a33b-454a-b1cf-8ee978b0e460'], '304-3': ['98dbfcf9-0e2d-47b8-acce-a5a3aa627211'], '302-1': ['a3511fe6-e67f-4918-be20-d63a7ebfb2af', '16a91d02-b3fa-47c1-a44d-dfa7f36fb0bd', '2a439ea7-83b7-4a3d-bd06-4c72ed41eb52', '14bb774d-a33b-454a-b1cf-8ee978b0e460'], '302-3': ['2a439ea7-83b7-4a3d-bd06-4c72ed41eb52', '14bb774d-a33b-454a-b1cf-8ee978b0e460'], '306-2': ['c63d9470-a0c4-4620-88f3-68f634bc905f', '7162adeb-0369-4465-8ba0-d375aafa77b6'], '303-2': ['c63d9470-a0c4-4620-88f3-68f634bc905f', '14bb774d-a33b-454a-b1cf-8ee978b0e460'], '303-1': ['c63d9470-a0c4-4620-88f3-68f634bc905f', '14bb774d-a33b-454a-b1cf-8ee978b0e460'], '303-3': ['643621e6-c79c-4d78-b7cd-098e7affaa74', '14bb774d-a33b-454a-b1cf-8ee978b0e460'], '306-5': ['92b503b8-94e5-421b-a688-a1ed615a60e6', '4e37e741-378c-41c7-bab9-110bfd0c1878', '7162adeb-0369-4465-8ba0-d375aafa77b6'], '306-3': ['92b503b8-94e5-421b-a688-a1ed615a60e6', '4e37e741-378c-41c7-bab9-110bfd0c1878', '7162adeb-0369-4465-8ba0-d375aafa77b6'], '306-1': ['92b503b8-94e5-421b-a688-a1ed615a60e6', '7162adeb-0369-4465-8ba0-d375aafa77b6'], '306-4': ['92b503b8-94e5-421b-a688-a1ed615a60e6', '4e37e741-378c-41c7-bab9-110bfd0c1878', '7162adeb-0369-4465-8ba0-d375aafa77b6'], '202-1': ['ed533958-647f-4b0e-987b-e75b7bd67a3a', '0ceac55f-e4c4-48e5-86b5-6848b2175c4e'], '2-30': ['ed533958-647f-4b0e-987b-e75b7bd67a3a', '6cc0fe5a-c99e-462b-b69e-ed0d972410c9'], '406-1': ['ed533958-647f-4b0e-987b-e75b7bd67a3a', '0ceac55f-e4c4-48e5-86b5-6848b2175c4e'], '401-2': ['8341bb83-ef03-421f-a6be-72ee9faf3a3f', '780aacf2-ed55-4b3c-a47e-39cbffcab6ed'], '401-3': ['2f094075-3ee8-47ab-a793-2ac0a5946b60', '780aacf2-ed55-4b3c-a47e-39cbffcab6ed'], '201-3': ['1a914aef-6484-4db1-b4eb-13a564b5ce2d', '6cc0fe5a-c99e-462b-b69e-ed0d972410c9'], '404-2': ['1a914aef-6484-4db1-b4eb-13a564b5ce2d', 'e13fbd79-9e6b-4beb-9649-9468c377b232', 'a5739091-28c3-413d-b2a4-713fe2743780', '0590285e-78fa-4f56-9456-ef28572c7cb3', 'e013d05c-66fb-4656-9e5f-7fbaac9d4dad'], '405-1': ['438d05ce-9c8e-417a-bf5f-1670e2a1ca84', 'fdf1e50d-10bf-41d1-9469-280610f0f00e'], '2-8': ['b0a1ffbc-da16-4bb1-9b40-6490ae8034ff', '450c694b-2070-477a-bcf2-05c94e1b4e31'], '401-1': ['2e2d1783-f206-417b-87ba-c2e57a6d3443', 'e13fbd79-9e6b-4beb-9649-9468c377b232', '780aacf2-ed55-4b3c-a47e-39cbffcab6ed'], '2-17': ['a5739091-28c3-413d-b2a4-713fe2743780', 'cd59191c-7ba3-491e-860f-89121296d0c1'], '404-1': ['0590285e-78fa-4f56-9456-ef28572c7cb3', 'e013d05c-66fb-4656-9e5f-7fbaac9d4dad'], '403-1': ['0caaf4dc-829b-413e-b846-ed9376bf2fae', '2315d21a-4559-4ba5-9f81-56e91368ed15', '780aacf2-ed55-4b3c-a47e-39cbffcab6ed'], '403-9': ['0caaf4dc-829b-413e-b846-ed9376bf2fae', '0775ecdd-a36d-4ca5-abf6-99b6f5cc5968', 'e013d05c-66fb-4656-9e5f-7fbaac9d4dad'], '403-2': ['c7137a1b-0890-4e47-b7f3-4f73641d4d5c', '780aacf2-ed55-4b3c-a47e-39cbffcab6ed'], '403-4': ['c7137a1b-0890-4e47-b7f3-4f73641d4d5c', '780aacf2-ed55-4b3c-a47e-39cbffcab6ed'], '403-10': ['c7137a1b-0890-4e47-b7f3-4f73641d4d5c', 'e013d05c-66fb-4656-9e5f-7fbaac9d4dad'], '403-7': ['e5605a93-1d15-4a57-87ae-c85a98c12271', 'e013d05c-66fb-4656-9e5f-7fbaac9d4dad'], '403-3': ['e5605a93-1d15-4a57-87ae-c85a98c12271', '780aacf2-ed55-4b3c-a47e-39cbffcab6ed'], '403-6': ['e5605a93-1d15-4a57-87ae-c85a98c12271', 'e013d05c-66fb-4656-9e5f-7fbaac9d4dad'], '403-5': ['2315d21a-4559-4ba5-9f81-56e91368ed15'], '403-8': ['2315d21a-4559-4ba5-9f81-56e91368ed15', 'e013d05c-66fb-4656-9e5f-7fbaac9d4dad'], '413-1': ['1a3d2a8d-b272-4460-b0ca-618a60a96e1f', 'fc482c2c-07ee-4ebc-b9ba-2073e85cf887', 'fdf1e50d-10bf-41d1-9469-280610f0f00e'], '203-1': ['5207b5b4-880b-4092-beb1-c59d0efe82e9', '742fb572-ac12-4143-ad57-05b4b5f58cdf'], '203-2': ['590105bb-012d-45da-9863-e88b12f95637', '742fb572-ac12-4143-ad57-05b4b5f58cdf'], '404-3': ['c99a8f58-b3e4-4c3f-b308-d7de7bebf3bd', 'e013d05c-66fb-4656-9e5f-7fbaac9d4dad'], '2-3': ['aef1785d-1234-44d1-ad66-4b9de50009c2', 'd2b29c64-88e2-4c97-bff9-3105a056f22c', '450c694b-2070-477a-bcf2-05c94e1b4e31', 'c5a4521e-ae17-43b5-8661-20b45e855dae'], '2-5': ['aef1785d-1234-44d1-ad66-4b9de50009c2', '450c694b-2070-477a-bcf2-05c94e1b4e31'], '2-4': ['aef1785d-1234-44d1-ad66-4b9de50009c2', '450c694b-2070-477a-bcf2-05c94e1b4e31'], '2-2': ['3a2a16bd-3146-461c-ad76-cda9b4632537', '450c694b-2070-477a-bcf2-05c94e1b4e31'], '2-29': ['e14dbd6d-49a5-4748-8b69-ef3b7089a5a7', '6cc0fe5a-c99e-462b-b69e-ed0d972410c9'], '201-1': ['6cc0fe5a-c99e-462b-b69e-ed0d972410c9'], '204-1': ['742fb572-ac12-4143-ad57-05b4b5f58cdf'], '201-4': ['742fb572-ac12-4143-ad57-05b4b5f58cdf'], '302-2': ['14bb774d-a33b-454a-b1cf-8ee978b0e460'], '303-5': ['14bb774d-a33b-454a-b1cf-8ee978b0e460'], '305-6': ['7162adeb-0369-4465-8ba0-d375aafa77b6'], '305-7': ['7162adeb-0369-4465-8ba0-d375aafa77b6'], '305-3': ['7162adeb-0369-4465-8ba0-d375aafa77b6'], '413-2': ['fdf1e50d-10bf-41d1-9469-280610f0f00e'], '405-2': ['fdf1e50d-10bf-41d1-9469-280610f0f00e'], '417-2': ['bfece4ba-54c4-43d3-9f7a-85925e2aaab3'], '417-3': ['bfece4ba-54c4-43d3-9f7a-85925e2aaab3']}, url='', cid='6e900725-ad07-48c0-91e6-46d5abadbe9b', created_at=datetime.datetime(2025, 1, 13, 18, 40, 38, 441392), updated_at=datetime.datetime(2025, 1, 13, 18, 40, 38, 441392))"
      ]
     },
     "execution_count": 8,
     "metadata": {},
     "output_type": "execute_result"
    }
   ],
   "source": [
    "item = SRDocument(\n",
    "    company=\"PT Astra International Tbk\",\n",
    "    year=2022,\n",
    "    ticker = \"ASII\",\n",
    "    disclosed_gri=disclosed_gri,\n",
    "    url=\"\"\n",
    ")\n",
    "\n",
    "_disclosed_gri = item.disclosed_gri\n",
    "\n",
    "# Generate CID jika tidak ada\n",
    "item.cid = str(uuid.uuid4())\n",
    "\n",
    "# Pastikan created_at dan updated_at memiliki nilai jika None\n",
    "if item.created_at is None:\n",
    "    item.created_at = datetime.now()\n",
    "if item.updated_at is None:\n",
    "    item.updated_at = datetime.now()\n",
    "\n",
    "item_dump = humps.camelize(item.model_dump())\n",
    "item_dump['disclosedGri'] = _disclosed_gri\n",
    "\n",
    "# # Referensi ke koleksi Firestore\n",
    "doc_ref = fsclient.collection(\"sustainabilityReports\").document(item.cid)\n",
    "\n",
    "# # Simpan data ke Firestore\n",
    "doc_ref.set(item_dump)\n",
    "\n",
    "item"
   ]
  },
  {
   "cell_type": "code",
   "execution_count": 1,
   "metadata": {},
   "outputs": [
    {
     "data": {
      "text/plain": [
       "True"
      ]
     },
     "execution_count": 1,
     "metadata": {},
     "output_type": "execute_result"
    }
   ],
   "source": [
    "from langchain_huggingface.embeddings import HuggingFaceEndpointEmbeddings\n",
    "import os\n",
    "from dotenv import load_dotenv\n",
    "load_dotenv()"
   ]
  },
  {
   "cell_type": "code",
   "execution_count": 32,
   "metadata": {},
   "outputs": [],
   "source": [
    "from langchain_community.embeddings import HuggingFaceInferenceAPIEmbeddings, HuggingFaceEmbeddings\n",
    "\n",
    "embeddings = HuggingFaceInferenceAPIEmbeddings(\n",
    "    api_key=os.getenv(\"HUGGINGFACEHUB_API_TOKEN\"), model_name=\"climatebert/distilroberta-base-climate-f\"\n",
    ")\n",
    "# embeddings = HuggingFaceEmbeddings(model_name=\"climatebert/distilroberta-base-climate-f\")"
   ]
  },
  {
   "cell_type": "code",
   "execution_count": 7,
   "metadata": {},
   "outputs": [],
   "source": [
    "embed = embeddings.embed_query(\"pada tahun 2023\")"
   ]
  },
  {
   "cell_type": "code",
   "execution_count": 26,
   "metadata": {},
   "outputs": [
    {
     "name": "stdout",
     "output_type": "stream",
     "text": [
      "(1, 143, 768)\n"
     ]
    }
   ],
   "source": [
    "import numpy as np\n",
    "\n",
    "embed_array = np.array(embed)\n",
    "print(embed_array.shape)"
   ]
  },
  {
   "cell_type": "code",
   "execution_count": 27,
   "metadata": {},
   "outputs": [
    {
     "name": "stdout",
     "output_type": "stream",
     "text": [
      "(768,)\n"
     ]
    }
   ],
   "source": [
    "average_embedding = np.mean(embed_array, axis=(0, 1))\n",
    "print(average_embedding.shape)"
   ]
  }
 ],
 "metadata": {
  "kernelspec": {
   "display_name": "env",
   "language": "python",
   "name": "python3"
  },
  "language_info": {
   "codemirror_mode": {
    "name": "ipython",
    "version": 3
   },
   "file_extension": ".py",
   "mimetype": "text/x-python",
   "name": "python",
   "nbconvert_exporter": "python",
   "pygments_lexer": "ipython3",
   "version": "3.10.7"
  }
 },
 "nbformat": 4,
 "nbformat_minor": 2
}
